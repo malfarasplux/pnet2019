{
 "cells": [
  {
   "cell_type": "code",
   "execution_count": 17,
   "metadata": {
    "collapsed": true
   },
   "outputs": [],
   "source": [
    "# rvarandas nan value code (modified)\n",
    "import numpy as np\n",
    "from os import listdir"
   ]
  },
  {
   "cell_type": "code",
   "execution_count": 18,
   "metadata": {
    "collapsed": true
   },
   "outputs": [],
   "source": [
    "path = \"../training/\"\n",
    "paths = [path + \"p0\" + str(10000+i)[1:] + \".psv\" for i in range(1, 5001)]"
   ]
  },
  {
   "cell_type": "code",
   "execution_count": 19,
   "metadata": {
    "collapsed": true
   },
   "outputs": [],
   "source": [
    "# Modified data load using ../ paths\n",
    "data = np.array([np.loadtxt(open(path + file), delimiter='|', skiprows=1) for file in paths])\n",
    "keys = open(paths[0]).readline().rstrip().split('|')"
   ]
  },
  {
   "cell_type": "code",
   "execution_count": 20,
   "metadata": {
    "collapsed": true
   },
   "outputs": [],
   "source": [
    "# Nan value correction\n",
    "def delete_columns_nan(data,keys):\n",
    "    df = {}\n",
    "    for i, column in enumerate(data.T):\n",
    "        if not np.isnan(column).all():\n",
    "            df[keys[i]] = column\n",
    "    return df\n",
    "\n",
    "\n",
    "def replace_nan_by_value(data, value=None):\n",
    "    for j, patient in enumerate(data):\n",
    "        for key in patient.keys():\n",
    "            if value == 'normal':\n",
    "                for i in range(len(patient[key])):\n",
    "                    p = patient[key].copy()[~np.isnan(patient[key])]\n",
    "                    if np.isnan(patient[key][i]):\n",
    "                        if value == 'mean':\n",
    "                            data[j][key][i] = np.mean(p)\n",
    "                        if value == 'normal':\n",
    "                            data[j][key][i] = np.random.normal(np.mean(p), np.std(p))\n",
    "            else:\n",
    "                patient[key] = np.nan_to_num(patient[key])\n",
    "    return data"
   ]
  },
  {
   "cell_type": "code",
   "execution_count": 21,
   "metadata": {},
   "outputs": [
    {
     "name": "stdout",
     "output_type": "stream",
     "text": [
      "HR : 4999\n",
      "O2Sat : 5000\n",
      "Temp : 4990\n",
      "SBP : 4998\n",
      "MAP : 4983\n",
      "DBP : 4996\n",
      "Resp : 4984\n",
      "EtCO2 : 784\n",
      "BaseExcess : 131\n",
      "HCO3 : 90\n",
      "FiO2 : 1439\n",
      "pH : 1423\n",
      "PaCO2 : 1424\n",
      "SaO2 : 1265\n",
      "AST : 2115\n",
      "BUN : 4605\n",
      "Alkalinephos : 2118\n",
      "Calcium : 4621\n",
      "Chloride : 394\n",
      "Creatinine : 4606\n",
      "Bilirubin_direct : 355\n",
      "Glucose : 4723\n",
      "Lactate : 1171\n",
      "Magnesium : 4109\n",
      "Phosphate : 2873\n",
      "Potassium : 4649\n",
      "Bilirubin_total : 2119\n",
      "TroponinI : 1693\n",
      "Hct : 4521\n",
      "Hgb : 4526\n",
      "PTT : 1080\n",
      "WBC : 4512\n",
      "Fibrinogen : 481\n",
      "Platelets : 4514\n",
      "Age : 5000\n",
      "Gender : 5000\n",
      "Unit1 : 3509\n",
      "Unit2 : 3509\n",
      "HospAdmTime : 5000\n",
      "ICULOS : 5000\n",
      "SepsisLabel : 5000\n"
     ]
    }
   ],
   "source": [
    "# Remove NaN-ONLY columns?\n",
    "data_aux = []\n",
    "for patient in data:\n",
    "    data_aux.append(delete_columns_nan(patient, keys))\n",
    "\n",
    "# Count non-EMPTY entries throughout patients\n",
    "df = {}\n",
    "for key in keys:\n",
    "    df[key] = 0\n",
    "\n",
    "for patient in data_aux:\n",
    "    for key in patient.keys():\n",
    "        df[key] += 1\n",
    "  \n",
    "for key,val in df.items():\n",
    "    print (key,\":\", val)\n",
    "    \n",
    "    \n",
    "data_new = replace_nan_by_value(data_aux, None)\n"
   ]
  },
  {
   "cell_type": "markdown",
   "metadata": {},
   "source": [
    "## pat_feat Patients that have feature X"
   ]
  },
  {
   "cell_type": "code",
   "execution_count": 22,
   "metadata": {
    "collapsed": true
   },
   "outputs": [],
   "source": [
    "# Get the list of patients that have feature X\n",
    "pat_feat = {}\n",
    "for i in range(len(keys)):\n",
    "    L = []\n",
    "    for j in range(5000):\n",
    "        if keys[i] in data_new[j]:\n",
    "#            print(i, j) \n",
    "            L.append(j)              \n",
    "    pat_feat[keys[i]] = L"
   ]
  },
  {
   "cell_type": "code",
   "execution_count": 23,
   "metadata": {},
   "outputs": [
    {
     "data": {
      "text/plain": [
       "4990"
      ]
     },
     "execution_count": 23,
     "metadata": {},
     "output_type": "execute_result"
    }
   ],
   "source": [
    "len(pat_feat[\"Temp\"])"
   ]
  },
  {
   "cell_type": "markdown",
   "metadata": {},
   "source": [
    "## Intersection"
   ]
  },
  {
   "cell_type": "code",
   "execution_count": 24,
   "metadata": {
    "collapsed": true
   },
   "outputs": [],
   "source": [
    "# Set intersection between lists\n",
    "def Intersection(lst1, lst2): \n",
    "    return set(lst1).intersection(lst2) "
   ]
  },
  {
   "cell_type": "code",
   "execution_count": 25,
   "metadata": {
    "collapsed": true
   },
   "outputs": [],
   "source": [
    "# Get the shared-feature list of patients\n",
    "def get_sharedfeat_patients(npatients = 5000, features = None, initial_list = None):\n",
    "    intersec = -1\n",
    "    if features == None:\n",
    "        print(\"Error: features must be passed\")\n",
    "    else:\n",
    "        if initial_list == None:\n",
    "            intersec = range(1,npatients + 1)\n",
    "        else: \n",
    "            intersec = initial_list\n",
    "\n",
    "        for i in range(len(features)):\n",
    "            intersec = Intersection(intersec, pat_feat[features[i]])\n",
    "        return intersec"
   ]
  },
  {
   "cell_type": "code",
   "execution_count": 26,
   "metadata": {
    "collapsed": true
   },
   "outputs": [],
   "source": [
    "intersec_patients = get_sharedfeat_patients(5000, keys)"
   ]
  },
  {
   "cell_type": "code",
   "execution_count": 27,
   "metadata": {},
   "outputs": [
    {
     "data": {
      "text/plain": [
       "{130, 2845, 3206, 4452}"
      ]
     },
     "execution_count": 27,
     "metadata": {},
     "output_type": "execute_result"
    }
   ],
   "source": [
    "intersec_patients"
   ]
  },
  {
   "cell_type": "markdown",
   "metadata": {},
   "source": [
    "## Find which features are shared"
   ]
  },
  {
   "cell_type": "code",
   "execution_count": 28,
   "metadata": {
    "collapsed": true
   },
   "outputs": [],
   "source": [
    "# Get features that given patients share\n",
    "def get_shared_features(npatients = 5000, features = None, initial_list = None):\n",
    "    # print(npatients, len(features), len(initial_list)\n",
    "    myfeat = -1\n",
    "    if features == None:\n",
    "        print(\"Error: features must be passed\")\n",
    "    else:\n",
    "        if initial_list == None:\n",
    "            initial_list = list(range(npatients))\n",
    "    \n",
    "        myfeat = []\n",
    "        for i in range(len(features)):\n",
    "            if len(Intersection(initial_list, pat_feat[features[i]])) == len(initial_list):\n",
    "                myfeat.append(features[i])\n",
    "    return myfeat"
   ]
  },
  {
   "cell_type": "code",
   "execution_count": 29,
   "metadata": {},
   "outputs": [
    {
     "data": {
      "text/plain": [
       "['O2Sat', 'Age', 'Gender', 'HospAdmTime', 'ICULOS', 'SepsisLabel']"
      ]
     },
     "execution_count": 29,
     "metadata": {},
     "output_type": "execute_result"
    }
   ],
   "source": [
    "# Features shared by everyone\n",
    "my_feat = get_shared_features(5000, keys)\n",
    "my_feat"
   ]
  },
  {
   "cell_type": "code",
   "execution_count": 30,
   "metadata": {},
   "outputs": [
    {
     "data": {
      "text/plain": [
       "['HR',\n",
       " 'O2Sat',\n",
       " 'SBP',\n",
       " 'DBP',\n",
       " 'SaO2',\n",
       " 'Age',\n",
       " 'Gender',\n",
       " 'HospAdmTime',\n",
       " 'ICULOS',\n",
       " 'SepsisLabel']"
      ]
     },
     "execution_count": 30,
     "metadata": {},
     "output_type": "execute_result"
    }
   ],
   "source": [
    "# Features shared by those who present SaO2\n",
    "patient_list = pat_feat[\"SaO2\"]\n",
    "my_feat = get_shared_features(5000, keys, patient_list)\n",
    "my_feat"
   ]
  },
  {
   "cell_type": "markdown",
   "metadata": {
    "collapsed": true
   },
   "source": [
    "# Find Sepsis Features "
   ]
  },
  {
   "cell_type": "code",
   "execution_count": 32,
   "metadata": {},
   "outputs": [
    {
     "name": "stdout",
     "output_type": "stream",
     "text": [
      "['HR', 'O2Sat', 'SBP', 'MAP', 'DBP', 'Age', 'Gender', 'HospAdmTime', 'ICULOS', 'SepsisLabel']\n"
     ]
    }
   ],
   "source": [
    "data_aux = []\n",
    "sepsis_keys = {}\n",
    "df = {}\n",
    "\n",
    "for key in keys:\n",
    "    df[key] = 0\n",
    "    sepsis_keys[key] = 0\n",
    "\n",
    "for patient in data:\n",
    "    data_aux.append(delete_columns_nan(patient, keys))\n",
    "    if np.any(data_aux[-1]['SepsisLabel']) == 1:\n",
    "        for key in data_aux[-1].keys():\n",
    "            sepsis_keys[key] += 1\n",
    "\n",
    "keys_s = []\n",
    "for key in sepsis_keys.keys():\n",
    "    if sepsis_keys[key] == np.max(list(sepsis_keys.values())):\n",
    "        keys_s.append(key)\n",
    "print(keys_s)"
   ]
  },
  {
   "cell_type": "code",
   "execution_count": null,
   "metadata": {
    "collapsed": true
   },
   "outputs": [],
   "source": []
  }
 ],
 "metadata": {
  "kernelspec": {
   "display_name": "Python 3",
   "language": "python",
   "name": "python3"
  },
  "language_info": {
   "codemirror_mode": {
    "name": "ipython",
    "version": 3
   },
   "file_extension": ".py",
   "mimetype": "text/x-python",
   "name": "python",
   "nbconvert_exporter": "python",
   "pygments_lexer": "ipython3",
   "version": "3.5.0"
  }
 },
 "nbformat": 4,
 "nbformat_minor": 2
}

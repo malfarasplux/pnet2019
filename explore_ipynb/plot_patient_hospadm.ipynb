{
 "cells": [
  {
   "cell_type": "markdown",
   "metadata": {},
   "source": [
    "# Plot patient features"
   ]
  },
  {
   "cell_type": "markdown",
   "metadata": {},
   "source": [
    "## Load ICU sepsis data log"
   ]
  },
  {
   "cell_type": "code",
   "execution_count": 1,
   "metadata": {},
   "outputs": [],
   "source": [
    "# Imports\n",
    "import pandas as pd\n",
    "import numpy as np\n",
    "import matplotlib.pyplot as plt\n",
    "from sklearn.preprocessing import MinMaxScaler\n",
    "import math as m\n",
    "%matplotlib inline\n",
    "path = '../training/'"
   ]
  },
  {
   "cell_type": "code",
   "execution_count": 2,
   "metadata": {},
   "outputs": [],
   "source": [
    "# Choose patient sample (example)\n",
    "sample_num = 785"
   ]
  },
  {
   "cell_type": "code",
   "execution_count": 3,
   "metadata": {},
   "outputs": [],
   "source": [
    "# Import and print dataframe layout\n",
    "def loadICUdata(sample_num, path = './', printdf = False):\n",
    "    samplestr = 'p' + (str(sample_num) + '.psv').rjust(9, '0')\n",
    "    fname = path + samplestr\n",
    "    df = pd.read_csv(fname, sep = '|')\n",
    "    #print(fname, ' file:')\n",
    "    if printdf:\n",
    "        print(df)\n",
    "    return df\n",
    "\n",
    "df = loadICUdata(sample_num, path, False)\n",
    "#df"
   ]
  },
  {
   "cell_type": "markdown",
   "metadata": {},
   "source": [
    "## Check sepsis labels for ALL patients"
   ]
  },
  {
   "cell_type": "code",
   "execution_count": 4,
   "metadata": {},
   "outputs": [],
   "source": [
    "# get the sepsis label value\n",
    "def get_sepsislabel(df):\n",
    "    sl = df[[\"SepsisLabel\"]]\n",
    "    count = df['SepsisLabel'].value_counts()\n",
    "    count_healthy = -1\n",
    "    count_sep = -1\n",
    "    \n",
    "    if len(count) == 2:\n",
    "        count_sep = count[1]\n",
    "        count_healthy = count[0]\n",
    "        \n",
    "    elif len(count) == 1:\n",
    "        if sl.values[0] == 0:\n",
    "            count_healthy = count.values[0]\n",
    "        elif sl.values[0] == 1:\n",
    "            count_sep = count.values[0]\n",
    "    return sl, count_healthy, count_sep\n"
   ]
  },
  {
   "cell_type": "code",
   "execution_count": 5,
   "metadata": {},
   "outputs": [
    {
     "data": {
      "text/plain": [
       "260"
      ]
     },
     "execution_count": 5,
     "metadata": {},
     "output_type": "execute_result"
    }
   ],
   "source": [
    "count = df['SepsisLabel'].value_counts()\n",
    "count.values\n",
    "len(count)\n",
    "sl, ch, cs = get_sepsislabel(df)\n",
    "len(sl)"
   ]
  },
  {
   "cell_type": "code",
   "execution_count": 6,
   "metadata": {},
   "outputs": [
    {
     "name": "stdout",
     "output_type": "stream",
     "text": [
      "patient 785, 260 -1 -0.38%\n"
     ]
    }
   ],
   "source": [
    "# Print result\n",
    "sl, ch, cs = get_sepsislabel(df) \n",
    "print('patient {:d}, {:d} {:d} {:2.2f}%'.format(sample_num, ch, cs, 100*cs/len(sl)))"
   ]
  },
  {
   "cell_type": "markdown",
   "metadata": {},
   "source": [
    "## Loop study, sepsis presence"
   ]
  },
  {
   "cell_type": "code",
   "execution_count": 7,
   "metadata": {},
   "outputs": [],
   "source": [
    "# Run in a loop and get a sepsis presence report\n",
    "SL = []    #Sepsis labels\n",
    "CH = []    #Healthy hours count\n",
    "CS = []    #Sepsis hours count\n",
    "CSCH = []  #Percentage cs/(cs+ch)\n",
    "DATA = []  #DATA structure\n",
    "for i in range(1,5001):\n",
    "    df = loadICUdata(i, path, False)\n",
    "    DATA.append(df) \n",
    "    sl, ch, cs = get_sepsislabel(df) \n",
    "    SL.append(sl)\n",
    "    CH.append(ch)\n",
    "    CS.append(cs)\n",
    "    if cs != -1 and ch != -1:\n",
    "        csch = 1.0*cs/(cs + ch)\n",
    "    elif cs == -1:\n",
    "        csch = 0\n",
    "    elif ch == -1:\n",
    "        csch = 1\n",
    "    CSCH.append(csch)\n",
    "    \n",
    "CSCH = np.array(CSCH)"
   ]
  },
  {
   "cell_type": "code",
   "execution_count": 8,
   "metadata": {},
   "outputs": [
    {
     "name": "stdout",
     "output_type": "stream",
     "text": [
      "[0. 0. 0. ... 0. 0. 0.] 279\n"
     ]
    }
   ],
   "source": [
    "# Count sepsis patients\n",
    "print(CSCH, np.count_nonzero(CSCH))"
   ]
  },
  {
   "cell_type": "code",
   "execution_count": 9,
   "metadata": {},
   "outputs": [],
   "source": [
    "sepsis_idx = np.where(CSCH!=0)"
   ]
  },
  {
   "cell_type": "code",
   "execution_count": 10,
   "metadata": {},
   "outputs": [
    {
     "data": {
      "text/plain": [
       "array([0.11111111, 0.02214022, 0.27777778, 0.11363636, 1.        ,\n",
       "       0.09615385, 0.28571429, 0.33333333, 0.25641026, 0.14754098,\n",
       "       1.        , 0.2195122 , 1.        , 0.07627119, 0.04975124,\n",
       "       0.15151515, 0.09183673, 0.37037037, 0.20408163, 0.06944444,\n",
       "       0.04587156, 0.625     , 0.07894737, 0.09183673, 0.24390244,\n",
       "       1.        , 0.03846154, 0.2       , 0.10465116, 0.76923077,\n",
       "       0.76923077, 0.27777778, 0.225     , 0.17857143, 1.        ,\n",
       "       0.08256881, 0.20408163, 0.16981132, 0.14084507, 0.81818182,\n",
       "       0.0990099 , 0.43478261, 0.12820513, 0.09803922, 0.33333333,\n",
       "       0.13461538, 0.41666667, 1.        , 0.11627907, 0.08333333,\n",
       "       0.23255814, 0.66666667, 0.29411765, 1.        , 0.90909091,\n",
       "       0.38461538, 0.03125   , 0.07246377, 0.04291845, 0.20833333,\n",
       "       1.        , 0.16393443, 0.90909091, 0.22727273, 1.        ,\n",
       "       0.33333333, 0.13888889, 0.4       , 0.35714286, 0.25641026,\n",
       "       0.17307692, 0.15384615, 0.4       , 0.625     , 1.        ,\n",
       "       0.83333333, 0.83333333, 0.625     , 0.07575758, 0.0703125 ,\n",
       "       0.04830918, 0.03891051, 1.        , 0.43478261, 0.1369863 ,\n",
       "       1.        , 0.10465116, 1.        , 0.09782609, 1.        ,\n",
       "       0.19148936, 0.17857143, 1.        , 0.90909091, 1.        ,\n",
       "       0.09009009, 1.        , 0.24390244, 0.42857143, 0.83333333,\n",
       "       0.06756757, 0.43478261, 0.3030303 , 1.        , 0.05521472,\n",
       "       1.        , 1.        , 0.08547009, 0.27777778, 0.18518519,\n",
       "       0.21276596, 0.45454545, 0.01785714, 0.00632911, 0.81818182,\n",
       "       0.26315789, 0.08035714, 0.55555556, 0.1754386 , 0.14285714,\n",
       "       1.        , 1.        , 1.        , 0.1097561 , 1.        ,\n",
       "       0.45454545, 0.21428571, 0.40909091, 0.27777778, 0.14285714,\n",
       "       1.        , 1.        , 1.        , 1.        , 0.25641026,\n",
       "       0.47619048, 1.        , 0.08403361, 0.09782609, 1.        ,\n",
       "       0.43478261, 1.        , 0.23809524, 0.35714286, 0.3125    ,\n",
       "       0.06756757, 0.625     , 1.        , 0.27027027, 0.10869565,\n",
       "       0.76923077, 0.3030303 , 1.        , 0.52631579, 0.28125   ,\n",
       "       0.225     , 1.        , 1.        , 0.47619048, 0.2173913 ,\n",
       "       0.20833333, 0.1875    , 0.05319149, 0.17857143, 0.16666667,\n",
       "       0.37037037, 0.06923077, 0.83333333, 0.52941176, 0.07633588,\n",
       "       1.        , 0.0989011 , 0.16071429, 0.3030303 , 0.71428571,\n",
       "       0.05732484, 0.66666667, 0.83333333, 0.20833333, 0.27777778,\n",
       "       0.47619048, 1.        , 0.71428571, 1.        , 0.14492754,\n",
       "       1.        , 0.11904762, 1.        , 0.12987013, 0.11392405,\n",
       "       0.66666667, 0.15625   , 1.        , 0.23255814, 0.29411765,\n",
       "       1.        , 0.09090909, 0.90909091, 1.        , 0.10416667,\n",
       "       0.4       , 0.15625   , 0.22727273, 0.6       , 0.43478261,\n",
       "       0.71428571, 1.        , 0.03968254, 0.18518519, 0.26315789,\n",
       "       1.        , 0.04878049, 1.        , 0.625     , 0.10752688,\n",
       "       0.10416667, 0.55555556, 0.0990099 , 0.08333333, 0.05263158,\n",
       "       1.        , 0.26470588, 0.27777778, 0.90909091, 0.45454545,\n",
       "       1.        , 0.55555556, 0.2173913 , 0.02931596, 0.04368932,\n",
       "       0.3030303 , 1.        , 1.        , 0.14285714, 1.        ,\n",
       "       0.38461538, 1.        , 0.11111111, 0.16129032, 0.14516129,\n",
       "       0.18181818, 0.25      , 0.06870229, 0.15873016, 0.34482759,\n",
       "       1.        , 0.05487805, 0.08849558, 0.125     , 0.28571429,\n",
       "       0.29032258, 1.        , 0.15517241, 0.06134969, 0.03629032,\n",
       "       0.625     , 0.35714286, 0.90909091, 1.        , 1.        ,\n",
       "       0.66666667, 0.09782609, 0.34482759, 0.23684211, 0.07692308,\n",
       "       0.37037037, 0.16393443, 1.        , 0.10752688, 0.90909091,\n",
       "       0.22222222, 0.27027027, 0.625     , 1.        , 0.42857143,\n",
       "       0.5       , 0.09259259, 0.83333333, 0.29032258])"
      ]
     },
     "execution_count": 10,
     "metadata": {},
     "output_type": "execute_result"
    }
   ],
   "source": [
    "# Check percentage of sepsis hours for sepsis patients\n",
    "CSCH[sepsis_idx]"
   ]
  },
  {
   "cell_type": "markdown",
   "metadata": {},
   "source": [
    "## Matrix Sepsis"
   ]
  },
  {
   "cell_type": "code",
   "execution_count": 11,
   "metadata": {},
   "outputs": [],
   "source": [
    "def get_dfmaxcount(list_of_lists):\n",
    "    maxval = -1\n",
    "    maxval_i = -1\n",
    "    for i in range(len(list_of_lists)):\n",
    "        val = list_of_lists[i].count(axis = 0)[0]\n",
    "        if val > maxval:\n",
    "            maxval = val\n",
    "            maxval_i = i\n",
    "    return maxval, maxval_i"
   ]
  },
  {
   "cell_type": "code",
   "execution_count": 12,
   "metadata": {},
   "outputs": [],
   "source": [
    "# get max val in SepsisLabel count and idx position\n",
    "mv, mvi = get_dfmaxcount(SL)"
   ]
  },
  {
   "cell_type": "code",
   "execution_count": 13,
   "metadata": {},
   "outputs": [
    {
     "data": {
      "text/plain": [
       "(336, 1921)"
      ]
     },
     "execution_count": 13,
     "metadata": {},
     "output_type": "execute_result"
    }
   ],
   "source": [
    "mv, mvi"
   ]
  },
  {
   "cell_type": "code",
   "execution_count": 14,
   "metadata": {},
   "outputs": [
    {
     "data": {
      "text/plain": [
       "(5000, 336)"
      ]
     },
     "execution_count": 14,
     "metadata": {},
     "output_type": "execute_result"
    }
   ],
   "source": [
    "# Initialize sepsis matrix\n",
    "sepsis_matrix = -1 * np.ones((len(SL),mv), dtype=int)\n",
    "for i in range(len(SL)):\n",
    "    sepsis_matrix[i][0:(SL[i].count(axis = 0)[0])] = (SL[i].values).flatten()\n",
    "np.shape(sepsis_matrix)"
   ]
  },
  {
   "cell_type": "code",
   "execution_count": 15,
   "metadata": {},
   "outputs": [
    {
     "data": {
      "text/plain": [
       "<matplotlib.image.AxesImage at 0x28da66610f0>"
      ]
     },
     "execution_count": 15,
     "metadata": {},
     "output_type": "execute_result"
    },
    {
     "data": {
      "image/png": "[encoded data removed]",
      "text/plain": [
       "<Figure size 1152x144 with 1 Axes>"
      ]
     },
     "metadata": {
      "needs_background": "light"
     },
     "output_type": "display_data"
    }
   ],
   "source": [
    "plt.matshow(np.transpose(sepsis_matrix))"
   ]
  },
  {
   "cell_type": "markdown",
   "metadata": {},
   "source": [
    "## Sepsis keys (feature matrix)"
   ]
  },
  {
   "cell_type": "code",
   "execution_count": 16,
   "metadata": {},
   "outputs": [],
   "source": [
    "sepsis_idx = np.where(CSCH!=0)\n",
    "healthy_idx = np.where(CSCH==0) "
   ]
  },
  {
   "cell_type": "code",
   "execution_count": 17,
   "metadata": {},
   "outputs": [
    {
     "data": {
      "text/plain": [
       "9"
      ]
     },
     "execution_count": 17,
     "metadata": {},
     "output_type": "execute_result"
    }
   ],
   "source": [
    "# We use features (9) shared by all sepsis patients\n",
    "s_keys = {}\n",
    "s_keys = ['HR', 'O2Sat', 'SBP', 'MAP', 'DBP', 'Age', 'Gender', 'HospAdmTime', 'ICULOS'] #, 'SepsisLabel']\n",
    "type(s_keys)\n",
    "len(s_keys)"
   ]
  },
  {
   "cell_type": "code",
   "execution_count": 18,
   "metadata": {},
   "outputs": [
    {
     "data": {
      "text/plain": [
       "array([  nan,  93. ,  91. ,  93. ,  93. ,   nan,  91.5,  94. ,  94. ,\n",
       "       102. , 106. , 107. , 102. ,  98. ,  95. , 105. ,  94. ,  98. ,\n",
       "        98. , 105. ,  96. , 102. , 105. , 107. ])"
      ]
     },
     "execution_count": 18,
     "metadata": {},
     "output_type": "execute_result"
    }
   ],
   "source": [
    "DATA[0][\"HR\"].values"
   ]
  },
  {
   "cell_type": "code",
   "execution_count": 19,
   "metadata": {},
   "outputs": [],
   "source": [
    "# Feature matrix\n",
    "feature_matrix = []\n",
    "patient = []\n",
    "sepsis_label = []\n",
    "for i in range(5000):\n",
    "    initval = 0\n",
    "    A = initval * np.ones((DATA[i].shape[0],len(s_keys)), dtype=np.double)\n",
    "    j = 0\n",
    "    for key in s_keys:\n",
    "        A[:,j] = DATA[i][key].values\n",
    "        j = j + 1\n",
    "       # print (i, key, j)\n",
    "    A = np.nan_to_num(A)\n",
    "    sep_lab = (DATA[i][\"SepsisLabel\"].values).reshape(-1,1)\n",
    "    if i==0:\n",
    "        feature_matrix=(A)\n",
    "        patient = i*np.ones((DATA[i].shape[0],1),dtype=np.int)\n",
    "        sepsis_label = sep_lab\n",
    "        \n",
    "    else: \n",
    "        feature_matrix = np.vstack((feature_matrix, A))\n",
    "        patient = np.vstack((patient, i*np.ones((DATA[i].shape[0],1),dtype=np.int)))\n",
    "        sepsis_label = np.vstack((sepsis_label, sep_lab))"
   ]
  },
  {
   "cell_type": "code",
   "execution_count": 20,
   "metadata": {},
   "outputs": [
    {
     "data": {
      "text/plain": [
       "numpy.ndarray"
      ]
     },
     "execution_count": 20,
     "metadata": {},
     "output_type": "execute_result"
    }
   ],
   "source": [
    "type(feature_matrix[0])"
   ]
  },
  {
   "cell_type": "code",
   "execution_count": 21,
   "metadata": {},
   "outputs": [
    {
     "data": {
      "text/plain": [
       "(188453, 9)"
      ]
     },
     "execution_count": 21,
     "metadata": {},
     "output_type": "execute_result"
    }
   ],
   "source": [
    "feature_matrix\n",
    "np.shape(feature_matrix)"
   ]
  },
  {
   "cell_type": "code",
   "execution_count": 22,
   "metadata": {},
   "outputs": [],
   "source": [
    "# Keep a raw copy\n",
    "raw_feature_matrix = np.copy(feature_matrix)"
   ]
  },
  {
   "cell_type": "code",
   "execution_count": 23,
   "metadata": {},
   "outputs": [
    {
     "data": {
      "text/plain": [
       "(188453, 1)"
      ]
     },
     "execution_count": 23,
     "metadata": {},
     "output_type": "execute_result"
    }
   ],
   "source": [
    "patient\n",
    "np.shape(patient)"
   ]
  },
  {
   "cell_type": "code",
   "execution_count": 24,
   "metadata": {},
   "outputs": [
    {
     "data": {
      "text/plain": [
       "(188453, 1)"
      ]
     },
     "execution_count": 24,
     "metadata": {},
     "output_type": "execute_result"
    }
   ],
   "source": [
    "sepsis_label\n",
    "np.shape(sepsis_label)"
   ]
  },
  {
   "cell_type": "code",
   "execution_count": 25,
   "metadata": {},
   "outputs": [
    {
     "name": "stdout",
     "output_type": "stream",
     "text": [
      "[2378]\n",
      "[ 89.    98.   120.    70.    50.    62.     0.    -1.38  22.  ]\n",
      "[0]\n"
     ]
    }
   ],
   "source": [
    "# Single entry example\n",
    "i_e = 90000\n",
    "print(patient[i_e])\n",
    "print(feature_matrix[i_e,:])\n",
    "print(sepsis_label[i_e])\n"
   ]
  },
  {
   "cell_type": "markdown",
   "metadata": {},
   "source": [
    "## Plot patient features"
   ]
  },
  {
   "cell_type": "code",
   "execution_count": 36,
   "metadata": {},
   "outputs": [
    {
     "name": "stdout",
     "output_type": "stream",
     "text": [
      "260 entries x 9 features\n"
     ]
    },
    {
     "data": {
      "image/png": "[encoded data removed]",
      "text/plain": [
       "<Figure size 432x288 with 1 Axes>"
      ]
     },
     "metadata": {
      "needs_background": "light"
     },
     "output_type": "display_data"
    }
   ],
   "source": [
    "i_pat = 784\n",
    "\n",
    "def plot_patient_features(n_pat, features, patient_array):\n",
    "    plot_j = np.where(patient == n_pat)[0]\n",
    "    for j in range (len(plot_j)):\n",
    "        plt.plot(features[plot_j[j],:])    \n",
    "    print(len(plot_j), \"entries x\", np.shape(features)[1], \"features\")\n",
    "    return\n",
    "\n",
    "def print_patient_features(n_pat, features, patient_array):\n",
    "    print(\"Patient\", n_pat)\n",
    "    print_j = np.where(patient == n_pat)[0]\n",
    "    for j in range (len(print_j)):\n",
    "        print(features[print_j[j],:])    \n",
    "    return\n",
    "\n",
    "plot_patient_features(i_pat, feature_matrix, patient)"
   ]
  },
  {
   "cell_type": "code",
   "execution_count": 28,
   "metadata": {},
   "outputs": [
    {
     "data": {
      "text/plain": [
       "7"
      ]
     },
     "execution_count": 28,
     "metadata": {},
     "output_type": "execute_result"
    }
   ],
   "source": [
    "feat_i = s_keys.index('HospAdmTime')\n",
    "feat_i"
   ]
  },
  {
   "cell_type": "code",
   "execution_count": 35,
   "metadata": {},
   "outputs": [
    {
     "data": {
      "text/plain": [
       "array([784])"
      ]
     },
     "execution_count": 35,
     "metadata": {},
     "output_type": "execute_result"
    }
   ],
   "source": [
    "minpatient= patient[np.argmin(feature_matrix[:,feat_i])]\n",
    "minpatient"
   ]
  },
  {
   "cell_type": "code",
   "execution_count": 38,
   "metadata": {},
   "outputs": [
    {
     "name": "stdout",
     "output_type": "stream",
     "text": [
      "-5366.86\n",
      "0.0\n"
     ]
    }
   ],
   "source": [
    "print(np.min(feature_matrix[:,feat_i]))\n",
    "print(np.max(feature_matrix[:,feat_i]))"
   ]
  },
  {
   "cell_type": "code",
   "execution_count": null,
   "metadata": {},
   "outputs": [],
   "source": []
  }
 ],
 "metadata": {
  "kernelspec": {
   "display_name": "Python 3",
   "language": "python",
   "name": "python3"
  },
  "language_info": {
   "codemirror_mode": {
    "name": "ipython",
    "version": 3
   },
   "file_extension": ".py",
   "mimetype": "text/x-python",
   "name": "python",
   "nbconvert_exporter": "python",
   "pygments_lexer": "ipython3",
   "version": "3.7.1"
  }
 },
 "nbformat": 4,
 "nbformat_minor": 2
}

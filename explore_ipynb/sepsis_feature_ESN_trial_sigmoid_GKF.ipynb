{
 "cells": [
  {
   "cell_type": "markdown",
   "metadata": {},
   "source": [
    "# Create an ESN for sepsis shared features (trial 1)"
   ]
  },
  {
   "cell_type": "markdown",
   "metadata": {},
   "source": [
    "## Load ICU sepsis data log"
   ]
  },
  {
   "cell_type": "code",
   "execution_count": 90,
   "metadata": {},
   "outputs": [],
   "source": [
    "# Imports\n",
    "import pandas as pd\n",
    "import numpy as np\n",
    "import matplotlib.pyplot as plt\n",
    "from sklearn.preprocessing import MinMaxScaler\n",
    "import math as m\n",
    "from os import listdir\n",
    "%matplotlib inline\n",
    "path = '../training/'\n",
    "\n",
    "gkfold_split = 10"
   ]
  },
  {
   "cell_type": "code",
   "execution_count": 83,
   "metadata": {},
   "outputs": [
    {
     "data": {
      "text/plain": [
       "'README.md'"
      ]
     },
     "execution_count": 83,
     "metadata": {},
     "output_type": "execute_result"
    }
   ],
   "source": [
    "fnames = listdir(path)  \n",
    "if 'README.md' in paths:\n",
    "    fnames.remove('README.md')\n",
    "fnames[-1]"
   ]
  },
  {
   "cell_type": "code",
   "execution_count": 81,
   "metadata": {},
   "outputs": [
    {
     "data": {
      "text/plain": [
       "40336"
      ]
     },
     "execution_count": 81,
     "metadata": {},
     "output_type": "execute_result"
    }
   ],
   "source": [
    "# Choose patient sample\n",
    "sample_num = len(paths)\n",
    "sample_num"
   ]
  },
  {
   "cell_type": "code",
   "execution_count": 86,
   "metadata": {},
   "outputs": [],
   "source": [
    "# Import and print dataframe layout\n",
    "def loadICUdata(fname, printdf = False):\n",
    "    df = pd.read_csv(fname, sep = '|')\n",
    "    #print(fname, ' file:')\n",
    "    if printdf:\n",
    "        print(df)\n",
    "    return df\n",
    "\n",
    "df = loadICUdata(path + fnames[0], False)\n",
    "# df"
   ]
  },
  {
   "cell_type": "markdown",
   "metadata": {},
   "source": [
    "## Check sepsis labels for ALL patients"
   ]
  },
  {
   "cell_type": "code",
   "execution_count": 4,
   "metadata": {},
   "outputs": [],
   "source": [
    "# get the sepsis label value\n",
    "def get_sepsislabel(df):\n",
    "    sl = df[[\"SepsisLabel\"]]\n",
    "    count = df['SepsisLabel'].value_counts()\n",
    "    count_healthy = -1\n",
    "    count_sep = -1\n",
    "    \n",
    "    if len(count) == 2:\n",
    "        count_sep = count[1]\n",
    "        count_healthy = count[0]\n",
    "        \n",
    "    elif len(count) == 1:\n",
    "        if sl.values[0] == 0:\n",
    "            count_healthy = count.values[0]\n",
    "        elif sl.values[0] == 1:\n",
    "            count_sep = count.values[0]\n",
    "    return sl, count_healthy, count_sep\n"
   ]
  },
  {
   "cell_type": "code",
   "execution_count": 5,
   "metadata": {},
   "outputs": [
    {
     "data": {
      "text/plain": [
       "260"
      ]
     },
     "execution_count": 5,
     "metadata": {},
     "output_type": "execute_result"
    }
   ],
   "source": [
    "count = df['SepsisLabel'].value_counts()\n",
    "count.values\n",
    "len(count)\n",
    "sl, ch, cs = get_sepsislabel(df)\n",
    "len(sl)"
   ]
  },
  {
   "cell_type": "code",
   "execution_count": 6,
   "metadata": {},
   "outputs": [
    {
     "name": "stdout",
     "output_type": "stream",
     "text": [
      "patient 785, 260 -1 -0.38%\n"
     ]
    }
   ],
   "source": [
    "# Print result\n",
    "sl, ch, cs = get_sepsislabel(df) \n",
    "print('patient {:d}, {:d} {:d} {:2.2f}%'.format(sample_num, ch, cs, 100*cs/len(sl)))"
   ]
  },
  {
   "cell_type": "markdown",
   "metadata": {},
   "source": [
    "## Loop study, sepsis presence"
   ]
  },
  {
   "cell_type": "code",
   "execution_count": 87,
   "metadata": {},
   "outputs": [],
   "source": [
    "# Run in a loop and get a sepsis presence report\n",
    "SL = []    #Sepsis labels\n",
    "CH = []    #Healthy hours count\n",
    "CS = []    #Sepsis hours count\n",
    "CSCH = []  #Percentage cs/(cs+ch)\n",
    "DATA = []  #DATA structure\n",
    "for i in range(sample_num):\n",
    "    df = loadICUdata(path + fnames[i], False)\n",
    "    DATA.append(df) \n",
    "    sl, ch, cs = get_sepsislabel(df) \n",
    "    SL.append(sl)\n",
    "    CH.append(ch)\n",
    "    CS.append(cs)\n",
    "    if cs != -1 and ch != -1:\n",
    "        csch = 1.0*cs/(cs + ch)\n",
    "    elif cs == -1:\n",
    "        csch = 0\n",
    "    elif ch == -1:\n",
    "        csch = 1\n",
    "    CSCH.append(csch)\n",
    "    \n",
    "CSCH = np.array(CSCH)"
   ]
  },
  {
   "cell_type": "code",
   "execution_count": 88,
   "metadata": {},
   "outputs": [
    {
     "name": "stdout",
     "output_type": "stream",
     "text": [
      "[0. 0. 0. ... 0. 0. 0.] 2932\n"
     ]
    }
   ],
   "source": [
    "# Count sepsis patients\n",
    "print(CSCH, np.count_nonzero(CSCH))"
   ]
  },
  {
   "cell_type": "code",
   "execution_count": 89,
   "metadata": {},
   "outputs": [],
   "source": [
    "sepsis_idx = np.where(CSCH!=0)"
   ]
  },
  {
   "cell_type": "markdown",
   "metadata": {},
   "source": [
    "## Matrix Sepsis"
   ]
  },
  {
   "cell_type": "code",
   "execution_count": 10,
   "metadata": {},
   "outputs": [],
   "source": [
    "def get_dfmaxcount(list_of_lists):\n",
    "    maxval = -1\n",
    "    maxval_i = -1\n",
    "    for i in range(len(list_of_lists)):\n",
    "        val = list_of_lists[i].count(axis = 0)[0]\n",
    "        if val > maxval:\n",
    "            maxval = val\n",
    "            maxval_i = i\n",
    "    return maxval, maxval_i"
   ]
  },
  {
   "cell_type": "code",
   "execution_count": 11,
   "metadata": {},
   "outputs": [],
   "source": [
    "# get max val in SepsisLabel count and idx position\n",
    "mv, mvi = get_dfmaxcount(SL)"
   ]
  },
  {
   "cell_type": "code",
   "execution_count": 12,
   "metadata": {},
   "outputs": [
    {
     "data": {
      "text/plain": [
       "(336, 1921)"
      ]
     },
     "execution_count": 12,
     "metadata": {},
     "output_type": "execute_result"
    }
   ],
   "source": [
    "mv, mvi"
   ]
  },
  {
   "cell_type": "code",
   "execution_count": 13,
   "metadata": {},
   "outputs": [
    {
     "data": {
      "text/plain": [
       "(5000, 336)"
      ]
     },
     "execution_count": 13,
     "metadata": {},
     "output_type": "execute_result"
    }
   ],
   "source": [
    "# Initialize sepsis matrix\n",
    "sepsis_matrix = -1 * np.ones((len(SL),mv), dtype=int)\n",
    "for i in range(len(SL)):\n",
    "    sepsis_matrix[i][0:(SL[i].count(axis = 0)[0])] = (SL[i].values).flatten()\n",
    "np.shape(sepsis_matrix)"
   ]
  },
  {
   "cell_type": "markdown",
   "metadata": {},
   "source": [
    "## Sepsis keys for the ESN"
   ]
  },
  {
   "cell_type": "code",
   "execution_count": 14,
   "metadata": {},
   "outputs": [],
   "source": [
    "sepsis_idx = np.where(CSCH!=0)\n",
    "healthy_idx = np.where(CSCH==0) "
   ]
  },
  {
   "cell_type": "code",
   "execution_count": 15,
   "metadata": {},
   "outputs": [
    {
     "data": {
      "text/plain": [
       "9"
      ]
     },
     "execution_count": 15,
     "metadata": {},
     "output_type": "execute_result"
    }
   ],
   "source": [
    "# We use features (9) shared by all sepsis patients\n",
    "s_keys = []\n",
    "with open(path + paths[0], 'r') as f:\n",
    "    header = f.readline().strip()\n",
    "    s_keys = header.split('|')\n",
    "    \n",
    "# s_keys = ['HR', 'O2Sat', 'SBP', 'MAP', 'DBP', 'Age', 'Gender', 'HospAdmTime', 'ICULOS'] #, 'SepsisLabel']\n",
    "# s_keys = ['HR', 'O2Sat', 'SBP', 'MAP', 'DBP', 'Age', 'Gender', 'ICULOS']#'HospAdmTime', 'ICULOS'] #, 'SepsisLabel']\n",
    "# s_keys = ['HR', 'O2Sat', 'SBP', 'MAP', 'DBP', 'Age', 'Gender', 'HospAdmTime', 'ICULOS', 'SepsisLabel']\n",
    "# s_keys = ['Age', 'Gender', 'SepsisLabel']\n",
    "# s_keys = ['SepsisLabel']\n",
    "s_keys = ['HR', 'O2Sat', 'SBP', 'MAP', 'DBP', 'Age', 'Gender', 'HospAdmTime', 'ICULOS'] #, 'SepsisLabel']\n",
    "type(s_keys)\n",
    "len(s_keys)"
   ]
  },
  {
   "cell_type": "code",
   "execution_count": 16,
   "metadata": {},
   "outputs": [
    {
     "data": {
      "text/plain": [
       "array([  nan,  93. ,  91. ,  93. ,  93. ,   nan,  91.5,  94. ,  94. ,\n",
       "       102. , 106. , 107. , 102. ,  98. ,  95. , 105. ,  94. ,  98. ,\n",
       "        98. , 105. ,  96. , 102. , 105. , 107. ])"
      ]
     },
     "execution_count": 16,
     "metadata": {},
     "output_type": "execute_result"
    }
   ],
   "source": [
    "DATA[0][\"HR\"].values"
   ]
  },
  {
   "cell_type": "code",
   "execution_count": 17,
   "metadata": {},
   "outputs": [],
   "source": [
    "# Feature matrix (removing nan)\n",
    "feature_matrix = []\n",
    "patient = []\n",
    "sepsis_label = []\n",
    "for i in range(5000):\n",
    "    initval = 0\n",
    "    A = initval * np.ones((DATA[i].shape[0],len(s_keys)), dtype=np.double)\n",
    "    j = 0\n",
    "    for key in s_keys:\n",
    "        A[:,j] = DATA[i][key].values\n",
    "        j = j + 1\n",
    "       # print (i, key, j)\n",
    "    A = np.nan_to_num(A)\n",
    "    sep_lab = (DATA[i][\"SepsisLabel\"].values).reshape(-1,1)\n",
    "    if i==0:\n",
    "        feature_matrix=(A)\n",
    "        patient = i*np.ones((DATA[i].shape[0],1),dtype=np.int)\n",
    "        sepsis_label = sep_lab\n",
    "        \n",
    "    else: \n",
    "        feature_matrix = np.vstack((feature_matrix, A))\n",
    "        patient = np.vstack((patient, i*np.ones((DATA[i].shape[0],1),dtype=np.int)))\n",
    "        sepsis_label = np.vstack((sepsis_label, sep_lab))"
   ]
  },
  {
   "cell_type": "code",
   "execution_count": 18,
   "metadata": {},
   "outputs": [
    {
     "data": {
      "text/plain": [
       "numpy.ndarray"
      ]
     },
     "execution_count": 18,
     "metadata": {},
     "output_type": "execute_result"
    }
   ],
   "source": [
    "type(feature_matrix[0])"
   ]
  },
  {
   "cell_type": "code",
   "execution_count": 19,
   "metadata": {},
   "outputs": [
    {
     "data": {
      "text/plain": [
       "(188453, 9)"
      ]
     },
     "execution_count": 19,
     "metadata": {},
     "output_type": "execute_result"
    }
   ],
   "source": [
    "feature_matrix\n",
    "np.shape(feature_matrix)"
   ]
  },
  {
   "cell_type": "code",
   "execution_count": 20,
   "metadata": {},
   "outputs": [],
   "source": [
    "# Keep a raw copy\n",
    "raw_feature_matrix = np.copy(feature_matrix)"
   ]
  },
  {
   "cell_type": "code",
   "execution_count": 21,
   "metadata": {},
   "outputs": [
    {
     "data": {
      "text/plain": [
       "(188453, 1)"
      ]
     },
     "execution_count": 21,
     "metadata": {},
     "output_type": "execute_result"
    }
   ],
   "source": [
    "patient\n",
    "np.shape(patient)"
   ]
  },
  {
   "cell_type": "code",
   "execution_count": 22,
   "metadata": {},
   "outputs": [
    {
     "data": {
      "text/plain": [
       "(188453, 1)"
      ]
     },
     "execution_count": 22,
     "metadata": {},
     "output_type": "execute_result"
    }
   ],
   "source": [
    "sepsis_label\n",
    "np.shape(sepsis_label)"
   ]
  },
  {
   "cell_type": "code",
   "execution_count": 23,
   "metadata": {},
   "outputs": [
    {
     "name": "stdout",
     "output_type": "stream",
     "text": [
      "[2378]\n",
      "[ 89.    98.   120.    70.    50.    62.     0.    -1.38  22.  ]\n",
      "[0]\n"
     ]
    }
   ],
   "source": [
    "# Single entry example\n",
    "i_e = 90000\n",
    "print(patient[i_e])\n",
    "print(feature_matrix[i_e,:])\n",
    "print(sepsis_label[i_e])\n"
   ]
  },
  {
   "cell_type": "code",
   "execution_count": 24,
   "metadata": {},
   "outputs": [
    {
     "name": "stdout",
     "output_type": "stream",
     "text": [
      "37 entries x 9\n"
     ]
    },
    {
     "data": {
      "image/png": "[encoded data removed]",
      "text/plain": [
       "<Figure size 432x288 with 1 Axes>"
      ]
     },
     "metadata": {
      "needs_background": "light"
     },
     "output_type": "display_data"
    }
   ],
   "source": [
    "i_pat = 6\n",
    "\n",
    "def plot_patient_features(n_pat, features, patient_array):\n",
    "    plot_j = np.where(patient == n_pat)[0]\n",
    "    for j in range (len(plot_j)):\n",
    "        plt.plot(features[plot_j[j],:])    \n",
    "    print(len(plot_j), \"entries x\", np.shape(features)[1])\n",
    "    return\n",
    "\n",
    "def print_patient_features(n_pat, features, patient_array):\n",
    "    print(\"Patient\", n_pat)\n",
    "    print_j = np.where(patient == n_pat)[0]\n",
    "    for j in range (len(print_j)):\n",
    "        print(features[print_j[j],:])    \n",
    "    return\n",
    "\n",
    "plot_patient_features(i_pat, feature_matrix, patient)"
   ]
  },
  {
   "cell_type": "markdown",
   "metadata": {},
   "source": [
    "## Preprocess features (log(-HospAdmTime-1))"
   ]
  },
  {
   "cell_type": "code",
   "execution_count": 25,
   "metadata": {},
   "outputs": [],
   "source": [
    "feature_matrix= np.copy(raw_feature_matrix)\n",
    "feat_i = s_keys.index('HospAdmTime')"
   ]
  },
  {
   "cell_type": "code",
   "execution_count": 26,
   "metadata": {},
   "outputs": [
    {
     "name": "stdout",
     "output_type": "stream",
     "text": [
      "-5366.86 0.0\n",
      "30281 [784]\n"
     ]
    }
   ],
   "source": [
    "print(np.min(raw_feature_matrix[:,feat_i]), np.max(raw_feature_matrix[:,feat_i]))\n",
    "argmin = (np.argmin(raw_feature_matrix[:,feat_i]))\n",
    "print(argmin, patient[argmin])\n",
    "\n",
    "# for i in range(len(raw_feature_matrix[:,feat_i])):\n",
    "#     print(raw_feature_matrix[i,feat_i])"
   ]
  },
  {
   "cell_type": "code",
   "execution_count": 27,
   "metadata": {},
   "outputs": [
    {
     "name": "stdout",
     "output_type": "stream",
     "text": [
      "HospAdmTime\n"
     ]
    },
    {
     "data": {
      "text/plain": [
       "7"
      ]
     },
     "execution_count": 27,
     "metadata": {},
     "output_type": "execute_result"
    },
    {
     "data": {
      "image/png": "[encoded data removed]",
      "text/plain": [
       "<Figure size 432x288 with 1 Axes>"
      ]
     },
     "metadata": {
      "needs_background": "light"
     },
     "output_type": "display_data"
    }
   ],
   "source": [
    "print (s_keys[7])\n",
    "plt.plot(feature_matrix[:,7])\n",
    "feat_i"
   ]
  },
  {
   "cell_type": "code",
   "execution_count": 28,
   "metadata": {},
   "outputs": [
    {
     "name": "stdout",
     "output_type": "stream",
     "text": [
      "188453\n"
     ]
    },
    {
     "data": {
      "text/plain": [
       "array([     0,      1,      2, ..., 188450, 188451, 188452], dtype=int64)"
      ]
     },
     "execution_count": 28,
     "metadata": {},
     "output_type": "execute_result"
    }
   ],
   "source": [
    "change_i = np.where(raw_feature_matrix[:,feat_i]!=np.nan)[0]\n",
    "print(len(change_i))\n",
    "change_i"
   ]
  },
  {
   "cell_type": "code",
   "execution_count": 29,
   "metadata": {},
   "outputs": [
    {
     "name": "stdout",
     "output_type": "stream",
     "text": [
      "-214.64 5.373610350583468\n",
      "-214.64 5.373610350583468\n",
      "-214.64 5.373610350583468\n",
      "-214.64 5.373610350583468\n",
      "-214.64 5.373610350583468\n",
      "-214.64 5.373610350583468\n",
      "-214.64 5.373610350583468\n",
      "-214.64 5.373610350583468\n",
      "-214.64 5.373610350583468\n",
      "-214.64 5.373610350583468\n",
      "-214.64 5.373610350583468\n",
      "-214.64 5.373610350583468\n",
      "-214.64 5.373610350583468\n",
      "-214.64 5.373610350583468\n",
      "-214.64 5.373610350583468\n",
      "-214.64 5.373610350583468\n",
      "-214.64 5.373610350583468\n",
      "-214.64 5.373610350583468\n",
      "-214.64 5.373610350583468\n",
      "-214.64 5.373610350583468\n",
      "-214.64 5.373610350583468\n",
      "-214.64 5.373610350583468\n",
      "-214.64 5.373610350583468\n",
      "-214.64 5.373610350583468\n",
      "-123.17 4.821651594428751\n",
      "-123.17 4.821651594428751\n",
      "-123.17 4.821651594428751\n",
      "-123.17 4.821651594428751\n",
      "-123.17 4.821651594428751\n",
      "-123.17 4.821651594428751\n",
      "-123.17 4.821651594428751\n",
      "-123.17 4.821651594428751\n",
      "-123.17 4.821651594428751\n",
      "-123.17 4.821651594428751\n",
      "-123.17 4.821651594428751\n",
      "-123.17 4.821651594428751\n",
      "-123.17 4.821651594428751\n",
      "-123.17 4.821651594428751\n",
      "-123.17 4.821651594428751\n",
      "-123.17 4.821651594428751\n",
      "-123.17 4.821651594428751\n",
      "-123.17 4.821651594428751\n",
      "-123.17 4.821651594428751\n",
      "-123.17 4.821651594428751\n",
      "-123.17 4.821651594428751\n",
      "-123.17 4.821651594428751\n",
      "-123.17 4.821651594428751\n",
      "-123.17 4.821651594428751\n",
      "-123.17 4.821651594428751\n",
      "-2.83 1.3428648031925547\n"
     ]
    }
   ],
   "source": [
    "change_feature = True\n",
    "if change_feature:\n",
    "    feature_matrix[change_i,feat_i] = np.log(1-np.copy(raw_feature_matrix[change_i,feat_i]))\n",
    "    # for i in range(len(change_i)):\n",
    "    for i in range(50):\n",
    "        print(raw_feature_matrix[change_i[i],feat_i],feature_matrix[change_i[i],feat_i])"
   ]
  },
  {
   "cell_type": "code",
   "execution_count": 30,
   "metadata": {},
   "outputs": [
    {
     "name": "stdout",
     "output_type": "stream",
     "text": [
      "0.0 8.588184597834516\n"
     ]
    },
    {
     "data": {
      "text/plain": [
       "[<matplotlib.lines.Line2D at 0x14812b60fd0>]"
      ]
     },
     "execution_count": 30,
     "metadata": {},
     "output_type": "execute_result"
    },
    {
     "data": {
      "image/png": "[encoded data removed]",
      "text/plain": [
       "<Figure size 432x288 with 1 Axes>"
      ]
     },
     "metadata": {
      "needs_background": "light"
     },
     "output_type": "display_data"
    }
   ],
   "source": [
    "print(np.min(feature_matrix[:,feat_i]), np.max(feature_matrix[:,feat_i]))\n",
    "plt.plot(feature_matrix[change_i,feat_i])"
   ]
  },
  {
   "cell_type": "code",
   "execution_count": 31,
   "metadata": {},
   "outputs": [
    {
     "name": "stdout",
     "output_type": "stream",
     "text": [
      "0.0 336.0\n"
     ]
    }
   ],
   "source": [
    "print(np.min(feature_matrix), np.max(feature_matrix[:,:19]))"
   ]
  },
  {
   "cell_type": "code",
   "execution_count": 32,
   "metadata": {},
   "outputs": [
    {
     "data": {
      "text/plain": [
       "(188453, 5)"
      ]
     },
     "execution_count": 32,
     "metadata": {},
     "output_type": "execute_result"
    }
   ],
   "source": [
    "np.shape(feature_matrix[:,:5])"
   ]
  },
  {
   "cell_type": "markdown",
   "metadata": {},
   "source": [
    "## Mapminmax normalise scale per feature per patient"
   ]
  },
  {
   "cell_type": "code",
   "execution_count": 33,
   "metadata": {},
   "outputs": [],
   "source": [
    "norm_feat_pat = False\n",
    "if norm_feat_pat:\n",
    "    for i in range(5000):\n",
    "        i_pat = np.where(patient==i)[0]\n",
    "        scaler = MinMaxScaler()\n",
    "        scaler.fit(feature_matrix[i_pat,:5])\n",
    "        feature_matrix[i_pat,:5] = scaler.transform(feature_matrix[i_pat,:5])\n",
    "        \n",
    "# Per single feature\n",
    "#         for j in range(np.shape(feature_matrix)[1]):\n",
    "#             scaler.fit(feature_matrix[i_pat,j])\n",
    "#             feature_matrix[i_pat,j] = scaler.transform(feature_matrix[i_pat,j])"
   ]
  },
  {
   "cell_type": "markdown",
   "metadata": {},
   "source": [
    "## Divide in 2 sets"
   ]
  },
  {
   "cell_type": "code",
   "execution_count": 63,
   "metadata": {},
   "outputs": [],
   "source": [
    "# from sklearn.model_selection import GroupShuffleSplit\n",
    "# X = feature_matrix\n",
    "# y = sepsis_label\n",
    "# groups = patient\n",
    "# gsp = GroupShuffleSplit(n_splits=2)\n",
    "\n",
    "# for train_index, test_index in gsp.split(X, y, groups):\n",
    "# #     print(\"TRAIN:\", train_index, \"TEST:\", test_index)\n",
    "# #     print(\"pTRAIN:\", patient[train_index], \"pTEST:\", patient[test_index])\n",
    "#     X_train, X_test = X[train_index], X[test_index]\n",
    "#     y_train, y_test = y[train_index], y[test_index]\n",
    "# #     counts, bins, bars = plt.hist(patient[train_index],bins=5000)\n",
    "# #     print('MAX=', np.max(counts))\n",
    "# #     print(len(np.unique(patient[train_index])))\n",
    "\n",
    "# #     print(X_train, X_test, y_train, y_test)\n",
    "\n"
   ]
  },
  {
   "cell_type": "code",
   "execution_count": 91,
   "metadata": {},
   "outputs": [],
   "source": [
    "from sklearn.model_selection import GroupKFold\n",
    "X = feature_matrix\n",
    "y = sepsis_label\n",
    "groups = patient\n",
    "\n",
    "from sklearn.utils import shuffle\n",
    "X_shuffled, y_shuffled, groups_shuffled = shuffle(X, y, groups, random_state=0)\n",
    "\n",
    "gkf = GroupKFold(n_splits=gkfold_split)"
   ]
  },
  {
   "cell_type": "code",
   "execution_count": 94,
   "metadata": {},
   "outputs": [
    {
     "name": "stdout",
     "output_type": "stream",
     "text": [
      "0.0 336.0\n"
     ]
    }
   ],
   "source": [
    "print(np.min(X_shuffled), np.max(X_shuffled))"
   ]
  },
  {
   "cell_type": "markdown",
   "metadata": {},
   "source": [
    "## Create an ESN"
   ]
  },
  {
   "cell_type": "markdown",
   "metadata": {},
   "source": [
    "#### Create rand masks (input weight)\n",
    "#### M⊂[-1,1]\n",
    "#### Mb⊂[-1,1]"
   ]
  },
  {
   "cell_type": "code",
   "execution_count": 95,
   "metadata": {},
   "outputs": [],
   "source": [
    "# ESN Paramenters\n",
    "N = 200      # Neurons\n",
    "mem = 0.1    # memory\n",
    "scale = 0.2  # scaling factor"
   ]
  },
  {
   "cell_type": "code",
   "execution_count": 96,
   "metadata": {},
   "outputs": [],
   "source": [
    "# Nonlinear mapping function\n",
    "def sigmoid(x, exponent):\n",
    "    return 1/(1+np.exp(-exponent*x))-0.5\n",
    "\n",
    "def rectify(x, slope):\n",
    "    return slope*np.asarray(x>0, dtype=np.double)*x"
   ]
  },
  {
   "cell_type": "code",
   "execution_count": 97,
   "metadata": {},
   "outputs": [
    {
     "data": {
      "text/plain": [
       "[<matplotlib.lines.Line2D at 0x1481e679f60>]"
      ]
     },
     "execution_count": 97,
     "metadata": {},
     "output_type": "execute_result"
    },
    {
     "data": {
      "image/png": "[encoded data removed]",
      "text/plain": [
       "<Figure size 432x288 with 1 Axes>"
      ]
     },
     "metadata": {
      "needs_background": "light"
     },
     "output_type": "display_data"
    }
   ],
   "source": [
    "sigmoid_exponent = 1\n",
    "rect_slope = 1\n",
    "func = sigmoid\n",
    "a = np.linspace(-10, 10, 100, False)\n",
    "b = func(a,sigmoid_exponent)\n",
    "plt.plot(a,b)"
   ]
  },
  {
   "cell_type": "code",
   "execution_count": 98,
   "metadata": {},
   "outputs": [
    {
     "name": "stdout",
     "output_type": "stream",
     "text": [
      "(9, 200)\n",
      "(1, 200)\n",
      "-0.9996991010095919 0.9959010262430648\n",
      "-0.997807102145692 0.9595629400774719\n"
     ]
    }
   ],
   "source": [
    "# Mask parameters\n",
    "M = 2*np.random.rand(np.shape(feature_matrix)[1],N)-1\n",
    "Mb = 2*np.random.rand(1,N)-1\n",
    "print(np.shape(M))\n",
    "print(np.shape(Mb))\n",
    "print(np.min(M), np.max(M))\n",
    "print(np.min(Mb), np.max(Mb))\n"
   ]
  },
  {
   "cell_type": "code",
   "execution_count": null,
   "metadata": {},
   "outputs": [],
   "source": [
    "# Train set features\n",
    "# print(np.min(features_A), np.max(features_A))"
   ]
  },
  {
   "cell_type": "code",
   "execution_count": null,
   "metadata": {},
   "outputs": [],
   "source": [
    "# # Create ESN\n",
    "# ESN = np.ones((np.shape(features_A)[0],N), dtype=np.double)\n",
    "# IN = np.matmul(features_A, M) + np.repeat(Mb, np.shape(features_A)[0], axis=0)\n",
    "# print(np.shape(IN))\n",
    "# print(np.min(IN), np.max(IN))\n",
    "# p = np.zeros((1,N),dtype=np.double)\n",
    "# for i in range(np.shape(features_A)[0]):\n",
    "#     i\n",
    "#     in_val = scale*IN[i,:]+p*mem\n",
    "#     ESN[i,:] = func(in_val, sigmoid_exponent) #Apply transform\n",
    "#     p = np.copy(np.roll(ESN[i,:],1))"
   ]
  },
  {
   "cell_type": "code",
   "execution_count": 99,
   "metadata": {},
   "outputs": [],
   "source": [
    "# Create ESN \n",
    "def feedESN(features, mask, mask_bias, scale, mem):\n",
    "    ESN = np.ones((np.shape(features)[0],N), dtype=np.double)\n",
    "    IN = np.matmul(features, M) + np.repeat(Mb, np.shape(features)[0], axis=0)\n",
    "    print(np.shape(IN))\n",
    "    print(np.min(IN), np.max(IN))\n",
    "    p = np.zeros((1,N),dtype=np.double)\n",
    "    for i in range(np.shape(features)[0]):\n",
    "        i\n",
    "        in_val = scale*IN[i,:]+p*mem\n",
    "        ESN[i,:] = func(in_val, sigmoid_exponent) #Apply transform\n",
    "        p = np.copy(np.roll(ESN[i,:],1))\n",
    "    return ESN"
   ]
  },
  {
   "cell_type": "code",
   "execution_count": 100,
   "metadata": {},
   "outputs": [
    {
     "name": "stdout",
     "output_type": "stream",
     "text": [
      "TRAIN: [     0      1      3 ... 188450 188451 188452] TEST: [     2     12     14 ... 188397 188433 188444]\n",
      "pTRAIN: [[   0]\n",
      " [   0]\n",
      " [   0]\n",
      " ...\n",
      " [4999]\n",
      " [4999]\n",
      " [4999]] pTEST: [[   0]\n",
      " [   0]\n",
      " [   0]\n",
      " ...\n",
      " [4997]\n",
      " [4998]\n",
      " [4999]]\n",
      "(169607, 200)\n",
      "-762.0077562374921 866.4314926387925\n",
      "(200, 169607)\n",
      "(18846, 200)\n",
      "-618.1988683934178 732.8961841772964\n",
      "0.7348272914886077\n",
      "TRAIN: [     0      1      2 ... 188450 188451 188452] TEST: [     8     19     20 ... 188420 188425 188448]\n",
      "pTRAIN: [[   0]\n",
      " [   0]\n",
      " [   0]\n",
      " ...\n",
      " [4999]\n",
      " [4999]\n",
      " [4999]] pTEST: [[   0]\n",
      " [   0]\n",
      " [   0]\n",
      " ...\n",
      " [4997]\n",
      " [4998]\n",
      " [4999]]\n",
      "(169607, 200)\n",
      "-762.0077562374921 866.4314926387925\n",
      "(200, 169607)\n",
      "(18846, 200)\n",
      "-611.0795932211054 583.8739878540151\n",
      "0.6936029772060326\n",
      "TRAIN: [     0      1      2 ... 188450 188451 188452] TEST: [    17     24     48 ... 188426 188429 188441]\n",
      "pTRAIN: [[   0]\n",
      " [   0]\n",
      " [   0]\n",
      " ...\n",
      " [4999]\n",
      " [4999]\n",
      " [4999]] pTEST: [[   0]\n",
      " [   1]\n",
      " [   1]\n",
      " ...\n",
      " [4998]\n",
      " [4998]\n",
      " [4998]]\n",
      "(169607, 200)\n",
      "-762.0077562374921 866.4314926387925\n",
      "(200, 169607)\n",
      "(18846, 200)\n",
      "-609.5818808366929 636.7632469240053\n",
      "0.6270222292302742\n",
      "TRAIN: [     1      2      3 ... 188450 188451 188452] TEST: [     0     11     16 ... 188410 188415 188431]\n",
      "pTRAIN: [[   0]\n",
      " [   0]\n",
      " [   0]\n",
      " ...\n",
      " [4999]\n",
      " [4999]\n",
      " [4999]] pTEST: [[   0]\n",
      " [   0]\n",
      " [   0]\n",
      " ...\n",
      " [4997]\n",
      " [4997]\n",
      " [4998]]\n",
      "(169608, 200)\n",
      "-762.0077562374921 866.4314926387925\n",
      "(200, 169608)\n",
      "(18845, 200)\n",
      "-511.1900620319908 612.5085366556842\n",
      "0.7038047041063268\n",
      "TRAIN: [     0      1      2 ... 188450 188451 188452] TEST: [    22     46     62 ... 188418 188434 188442]\n",
      "pTRAIN: [[   0]\n",
      " [   0]\n",
      " [   0]\n",
      " ...\n",
      " [4999]\n",
      " [4999]\n",
      " [4999]] pTEST: [[   0]\n",
      " [   1]\n",
      " [   2]\n",
      " ...\n",
      " [4997]\n",
      " [4998]\n",
      " [4999]]\n",
      "(169608, 200)\n",
      "-762.0077562374921 866.4314926387925\n",
      "(200, 169608)\n",
      "(18845, 200)\n",
      "-619.8856801494205 603.3038823837396\n",
      "0.6724064219955006\n",
      "TRAIN: [     0      1      2 ... 188449 188451 188452] TEST: [     4     10     28 ... 188439 188446 188450]\n",
      "pTRAIN: [[   0]\n",
      " [   0]\n",
      " [   0]\n",
      " ...\n",
      " [4999]\n",
      " [4999]\n",
      " [4999]] pTEST: [[   0]\n",
      " [   0]\n",
      " [   1]\n",
      " ...\n",
      " [4998]\n",
      " [4999]\n",
      " [4999]]\n",
      "(169608, 200)\n",
      "-762.0077562374921 866.4314926387925\n",
      "(200, 169608)\n",
      "(18845, 200)\n",
      "-723.9959050280404 741.9065530497671\n",
      "0.6556275243006486\n",
      "TRAIN: [     0      1      2 ... 188450 188451 188452] TEST: [    21     47     51 ... 188411 188428 188437]\n",
      "pTRAIN: [[   0]\n",
      " [   0]\n",
      " [   0]\n",
      " ...\n",
      " [4999]\n",
      " [4999]\n",
      " [4999]] pTEST: [[   0]\n",
      " [   1]\n",
      " [   2]\n",
      " ...\n",
      " [4997]\n",
      " [4998]\n",
      " [4998]]\n",
      "(169608, 200)\n",
      "-762.0077562374921 866.4314926387925\n",
      "(200, 169608)\n",
      "(18845, 200)\n",
      "-665.4829256874309 743.4128387898372\n",
      "0.7436082819900247\n",
      "TRAIN: [     0      2      4 ... 188449 188450 188451] TEST: [     1      3     15 ... 188432 188445 188452]\n",
      "pTRAIN: [[   0]\n",
      " [   0]\n",
      " [   0]\n",
      " ...\n",
      " [4999]\n",
      " [4999]\n",
      " [4999]] pTEST: [[   0]\n",
      " [   0]\n",
      " [   0]\n",
      " ...\n",
      " [4998]\n",
      " [4999]\n",
      " [4999]]\n",
      "(169608, 200)\n",
      "-747.6846457070615 765.2252220230372\n",
      "(200, 169608)\n",
      "(18845, 200)\n",
      "-762.0077562374921 866.4314926387925\n",
      "0.7059513007028714\n",
      "TRAIN: [     0      1      2 ... 188448 188450 188452] TEST: [     5      6      7 ... 188424 188449 188451]\n",
      "pTRAIN: [[   0]\n",
      " [   0]\n",
      " [   0]\n",
      " ...\n",
      " [4999]\n",
      " [4999]\n",
      " [4999]] pTEST: [[   0]\n",
      " [   0]\n",
      " [   0]\n",
      " ...\n",
      " [4998]\n",
      " [4999]\n",
      " [4999]]\n",
      "(169608, 200)\n",
      "-762.0077562374921 866.4314926387925\n",
      "(200, 169608)\n",
      "(18845, 200)\n",
      "-564.8868718902745 670.5484658212729\n",
      "0.7577248600094486\n",
      "TRAIN: [     0      1      2 ... 188450 188451 188452] TEST: [    13     31     41 ... 188440 188443 188447]\n",
      "pTRAIN: [[   0]\n",
      " [   0]\n",
      " [   0]\n",
      " ...\n",
      " [4999]\n",
      " [4999]\n",
      " [4999]] pTEST: [[   0]\n",
      " [   1]\n",
      " [   1]\n",
      " ...\n",
      " [4998]\n",
      " [4999]\n",
      " [4999]]\n",
      "(169608, 200)\n",
      "-762.0077562374921 866.4314926387925\n",
      "(200, 169608)\n",
      "(18845, 200)\n",
      "-747.6846457070615 765.2252220230372\n",
      "0.6899540686965837\n"
     ]
    }
   ],
   "source": [
    "#Loop realisations\n",
    "from sklearn.metrics import confusion_matrix\n",
    "from sklearn.metrics import accuracy_score\n",
    "from sklearn.metrics import roc_curve\n",
    "from sklearn.metrics import roc_auc_score\n",
    "\n",
    "for train_index, test_index in gkf.split(X_shuffled, y_shuffled, groups_shuffled):\n",
    "#     print(\"TRAIN:\", train_index, \"TEST:\", test_index)\n",
    "#     print(\"pTRAIN:\", patient[train_index], \"pTEST:\", patient[test_index])\n",
    "    X_train, X_test = X_shuffled[train_index], X_shuffled[test_index]\n",
    "    y_train, y_test = y_shuffled[train_index], y_shuffled[test_index]\n",
    "    ESN = feedESN(X_train, M, Mb, scale, mem)\n",
    "    ESNinv = np.linalg.pinv(ESN)\n",
    "    print(np.shape(ESNinv))\n",
    "    w = np.matmul(ESNinv, y_train)\n",
    "\n",
    "    ESNtest = feedESN(X_test, M, Mb, scale, mem)\n",
    "    Y_pred = (np.matmul(ESNtest,w))\n",
    "\n",
    "#     cm = confusion_matrix(y_test, Y_pred)\n",
    "#     print(cm[0,0],cm[0,1])\n",
    "#     print(cm[1,0],cm[1,1])\n",
    "    print('auc: ', roc_auc_score(y_test, Y_pred))"
   ]
  },
  {
   "cell_type": "markdown",
   "metadata": {},
   "source": [
    "### Report"
   ]
  },
  {
   "cell_type": "code",
   "execution_count": null,
   "metadata": {},
   "outputs": [],
   "source": [
    "# Report config\n",
    "if norm_feat_pat:\n",
    "    print (\"norm\")\n",
    "    print(scaler)\n",
    "else: \n",
    "    print(\"not norm\")\n",
    "print(\"func: \", func)\n",
    "print(\"func_argument: \", sigmoid_exponent, rect_slope)\n",
    "print(\"mem: \", mem)\n",
    "print(\"scale: \", scale)\n",
    "print(\"auc: \", auc)\n"
   ]
  },
  {
   "cell_type": "code",
   "execution_count": null,
   "metadata": {},
   "outputs": [],
   "source": []
  }
 ],
 "metadata": {
  "kernelspec": {
   "display_name": "Python 3",
   "language": "python",
   "name": "python3"
  },
  "language_info": {
   "codemirror_mode": {
    "name": "ipython",
    "version": 3
   },
   "file_extension": ".py",
   "mimetype": "text/x-python",
   "name": "python",
   "nbconvert_exporter": "python",
   "pygments_lexer": "ipython3",
   "version": "3.7.1"
  }
 },
 "nbformat": 4,
 "nbformat_minor": 2
}

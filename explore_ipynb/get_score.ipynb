{
 "cells": [
  {
   "cell_type": "code",
<<<<<<< HEAD
   "execution_count": 42,
=======
   "execution_count": 6,
>>>>>>> 59137e7653ad650871b7c857d56e4e25443c8c5c
   "metadata": {},
   "outputs": [],
   "source": [
    "# matthewreyna get_score example from https://github.com/physionetchallenges/physionet-challenge-2019/blob/master/Example/v2/python/get_sepsis_score.py  \n",
    "import sys\n",
    "import numpy as np\n",
    "import os, os.path, shutil, zipfile\n",
    "\n",
    "def get_sepsis_score(data):\n",
    "    x_mean = np.array([\n",
    "        83.8996, 97.0520,  36.8055,  126.2240, 86.2907,\n",
    "        66.2070, 18.7280,  33.7373,  -3.1923,  22.5352,\n",
    "        0.4597,  7.3889,   39.5049,  96.8883,  103.4265,\n",
    "        22.4952, 87.5214,  7.7210,   106.1982, 1.5961,\n",
    "        0.6943,  131.5327, 2.0262,   2.0509,   3.5130,\n",
    "        4.0541,  1.3423,   5.2734,   32.1134,  10.5383,\n",
    "        38.9974, 10.5585,  286.5404, 198.6777])\n",
    "    x_std = np.array([\n",
    "        17.6494, 3.0163,  0.6895,   24.2988, 16.6459,\n",
    "        14.0771, 4.7035,  11.0158,  3.7845,  3.1567,\n",
    "        6.2684,  0.0710,  9.1087,   3.3971,  430.3638,\n",
    "        19.0690, 81.7152, 2.3992,   4.9761,  2.0648,\n",
    "        1.9926,  45.4816, 1.6008,   0.3793,  1.3092,\n",
    "        0.5844,  2.5511,  20.4142,  6.4362,  2.2302,\n",
    "        29.8928, 7.0606,  137.3886, 96.8997])\n",
    "    c_mean = np.array([60.8711, 0.5435, 0.0615, 0.0727, -59.6769, 28.4551])\n",
    "    c_std = np.array([16.1887, 0.4981, 0.7968, 0.8029, 160.8846, 29.5367])\n",
    "\n",
    "    x = data[:, 0:34]\n",
    "    c = data[:, 34:40]\n",
    "    x_norm = np.nan_to_num((x - x_mean) / x_std)\n",
    "    c_norm = np.nan_to_num((c - c_mean) / c_std)\n",
    "\n",
    "    beta = np.array([\n",
    "        0.1806,  0.0249, 0.2120,  -0.0495, 0.0084,\n",
    "        -0.0980, 0.0774, -0.0350, -0.0948, 0.1169,\n",
    "        0.7476,  0.0323, 0.0305,  -0.0251, 0.0330,\n",
    "        0.1424,  0.0324, -0.1450, -0.0594, 0.0085,\n",
    "        -0.0501, 0.0265, 0.0794,  -0.0107, 0.0225,\n",
    "        0.0040,  0.0799, -0.0287, 0.0531,  -0.0728,\n",
    "        0.0243,  0.1017, 0.0662,  -0.0074, 0.0281,\n",
    "        0.0078,  0.0593, -0.2046, -0.0167, 0.1239])\n",
    "    rho = 7.8521\n",
    "    nu = 1.0389\n",
    "\n",
    "    xstar = np.concatenate((x_norm, c_norm), axis=1)\n",
    "    exp_bx = np.exp(np.matmul(xstar, beta))\n",
    "    l_exp_bx = pow(4 / rho, nu) * exp_bx\n",
    "\n",
    "    scores = 1 - np.exp(-l_exp_bx)\n",
    "    labels = (scores > 0.45)\n",
    "    return scores, labels\n",
    "\n",
    "\n",
    "def read_challenge_data(input_file):\n",
    "    with open(input_file, 'r') as f:\n",
    "        header = f.readline().strip()\n",
    "        column_names = header.split('|')\n",
    "        data = np.loadtxt(f, delimiter='|')\n",
    "\n",
    "    # ignore SepsisLabel column if present\n",
    "    if column_names[-1] == 'SepsisLabel':\n",
    "#         with open('../labels_1/'+ input_file[-10:], 'w') as f:   # Added\n",
    "#             f.write('{}'.format(data[:, -1]))                    # Added\n",
    "        column_names = column_names[:-1]\n",
    "        data = data[:, :-1]\n",
    "\n",
    "    return data"
   ]
  },
  {
   "cell_type": "code",
<<<<<<< HEAD
   "execution_count": 43,
=======
   "execution_count": 7,
>>>>>>> 59137e7653ad650871b7c857d56e4e25443c8c5c
   "metadata": {},
   "outputs": [],
   "source": [
    "data = read_challenge_data('../training/p000001.psv')"
   ]
  },
  {
   "cell_type": "code",
<<<<<<< HEAD
   "execution_count": 44,
=======
   "execution_count": 8,
>>>>>>> 59137e7653ad650871b7c857d56e4e25443c8c5c
   "metadata": {},
   "outputs": [
    {
     "data": {
      "text/plain": [
       "array([[     nan,      nan,      nan, ...,      nan, -3.0e-02,  1.0e+00],\n",
       "       [ 9.7e+01,  9.5e+01,      nan, ...,      nan, -3.0e-02,  2.0e+00],\n",
       "       [ 8.9e+01,  9.9e+01,      nan, ...,      nan, -3.0e-02,  3.0e+00],\n",
       "       ...,\n",
       "       [ 8.5e+01,  1.0e+02,      nan, ...,      nan, -3.0e-02,  5.2e+01],\n",
       "       [ 8.6e+01,  9.3e+01,      nan, ...,      nan, -3.0e-02,  5.3e+01],\n",
       "       [ 8.4e+01,  8.5e+01,      nan, ...,      nan, -3.0e-02,  5.4e+01]])"
      ]
     },
<<<<<<< HEAD
     "execution_count": 44,
=======
     "execution_count": 8,
>>>>>>> 59137e7653ad650871b7c857d56e4e25443c8c5c
     "metadata": {},
     "output_type": "execute_result"
    }
   ],
   "source": [
    "data"
   ]
  },
  {
   "cell_type": "code",
<<<<<<< HEAD
   "execution_count": 45,
=======
   "execution_count": 9,
>>>>>>> 59137e7653ad650871b7c857d56e4e25443c8c5c
   "metadata": {},
   "outputs": [],
   "source": [
    "score, Ypred = get_sepsis_score(data)"
   ]
  },
  {
   "cell_type": "code",
<<<<<<< HEAD
   "execution_count": 46,
   "metadata": {},
   "outputs": [
    {
     "data": {
      "text/plain": [
       "array([0.39648317, 0.4644934 , 0.46228998, 0.45835997, 0.43342855,\n",
       "       0.40290834, 0.43163797, 0.45094964, 0.43830413, 0.46724517,\n",
       "       0.4981641 , 0.49761156, 0.51955733, 0.48234606, 0.45650764,\n",
       "       0.50962551, 0.43838981, 0.49802169, 0.49171664, 0.52238872,\n",
       "       0.45668369, 0.48369995, 0.50590969, 0.47409051])"
      ]
     },
     "execution_count": 46,
     "metadata": {},
     "output_type": "execute_result"
    }
   ],
   "source": [
    "score"
   ]
  },
  {
   "cell_type": "code",
   "execution_count": 48,
   "metadata": {},
   "outputs": [
    {
     "data": {
      "text/plain": [
       "array([False,  True,  True,  True, False, False, False,  True, False,\n",
       "        True,  True,  True,  True,  True,  True,  True, False,  True,\n",
       "        True,  True,  True,  True,  True,  True])"
      ]
     },
     "execution_count": 48,
     "metadata": {},
     "output_type": "execute_result"
    }
   ],
   "source": [
    "Ypred"
=======
   "execution_count": 10,
   "metadata": {},
   "outputs": [
    {
     "name": "stdout",
     "output_type": "stream",
     "text": [
      "[0.36425951 0.41787931 0.40577274 0.29771234 0.43334905 0.45475831\n",
      " 0.42084494 0.50266587 0.46716859 0.4718737  0.32789433 0.37771402\n",
      " 0.45033232 0.48878167 0.46739571 0.4490286  0.6372195  0.48218368\n",
      " 0.3864483  0.48919748 0.45577926 0.46883977 0.46629249 0.39676007\n",
      " 0.49297797 0.47325624 0.48317059 0.43384329 0.48080216 0.46403028\n",
      " 0.40172783 0.55536253 0.56537193 0.50441246 0.51083431 0.51912226\n",
      " 0.49586224 0.51973574 0.39213018 0.90880868 0.49401323 0.51449727\n",
      " 0.47255958 0.40625557 0.47098842 0.26931374 0.42347312 0.47875303\n",
      " 0.46973175 0.41339202 0.42663239 0.49025485 0.46361567 0.42136213]\n"
     ]
    }
   ],
   "source": [
    "print(score)"
>>>>>>> 59137e7653ad650871b7c857d56e4e25443c8c5c
   ]
  },
  {
   "cell_type": "code",
   "execution_count": null,
   "metadata": {},
   "outputs": [],
   "source": []
  }
 ],
 "metadata": {
  "kernelspec": {
   "display_name": "Python 3",
   "language": "python",
   "name": "python3"
  },
  "language_info": {
   "codemirror_mode": {
    "name": "ipython",
    "version": 3
   },
   "file_extension": ".py",
   "mimetype": "text/x-python",
   "name": "python",
   "nbconvert_exporter": "python",
   "pygments_lexer": "ipython3",
   "version": "3.7.1"
  }
 },
 "nbformat": 4,
 "nbformat_minor": 2
}

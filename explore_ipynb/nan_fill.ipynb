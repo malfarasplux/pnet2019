{
 "cells": [
  {
   "cell_type": "code",
   "execution_count": 1,
   "metadata": {},
   "outputs": [],
   "source": [
    "#!/usr/bin/env python3\n",
    "# -*- coding: utf-8 -*-\n",
    "\n",
    "## Config\n",
    "dataset = \"training_1\"\n",
    "path = \"../\" + dataset +\"/\"\n",
    "kfold_split = 10\n",
    "nan_to_neg = True\n",
    "biased_regress = True\n",
    "normal_equations = True\n",
    "mm = False\n",
    "std = False\n",
    "numpy_load = False\n",
    "\n",
    "## ESN parameters\n",
    "N_def = 200         # Neurons\n",
    "scale_def = 1.0   # scaling\n",
    "mem_def = 0.5      # memory\n",
    "exponent_def = 0.1    # sigmoid exponent\n",
    "\n",
    "\n",
    "# Script name struct for report\n",
    "script_name = 'template1'\n",
    "dl_ = '_'\n",
    "name_struct_meta = \"_N_scale_mem\"\n",
    "name_struct = [dl_, N_def, dl_, scale_def, dl_, mem_def]\n",
    "name_struct = ''.join(str(e) for e in name_struct)\n"
   ]
  },
  {
   "cell_type": "code",
   "execution_count": 2,
   "metadata": {},
   "outputs": [],
   "source": [
    "## Imports\n",
    "import numpy as np\n",
    "import os\n",
    "import ESNtools\n",
    "import matplotlib.pyplot as plt"
   ]
  },
  {
   "cell_type": "code",
   "execution_count": 3,
   "metadata": {},
   "outputs": [],
   "source": [
    "## Create the feature matrix\n",
    "features = []\n",
    "patient = []\n",
    "sepsis_label = []\n",
    "dataloaded = False\n",
    "\n"
   ]
  },
  {
   "cell_type": "code",
   "execution_count": 4,
   "metadata": {},
   "outputs": [
    {
     "name": "stdout",
     "output_type": "stream",
     "text": [
      "last file:  p05000.psv\n",
      "5000  files present\n"
     ]
    }
   ],
   "source": [
    "## Read data \n",
    "## Folder and files\n",
    "fnames = os.listdir(path)  \n",
    "fnames.sort()\n",
    "if 'README.md' in fnames:\n",
    "    fnames.remove('README.md')\n",
    "print('last file: ', fnames[-1])\n",
    "\n",
    "n = len(fnames)\n",
    "print(n, ' files present')\n",
    "\n",
    "## read data\n",
    "for i in range(n):\n",
    "    input_file = os.path.join(path, fnames[i])\n",
    "    if i ==0:\n",
    "        data, sep_lab, columns = ESNtools.read_challenge_data_label(input_file, return_header=True)\n",
    "    else: \n",
    "        data, sep_lab = ESNtools.read_challenge_data_label(input_file)\n",
    "    features.append(data)\n",
    "    sepsis_label.append(sep_lab)\n",
    "    pat = i * np.ones((sep_lab.shape), dtype=np.int)\n",
    "    patient.append(pat)\n",
    "\n",
    "feature_matrix = np.concatenate(features)\n",
    "del(features)\n",
    "sepsis_label = np.concatenate(sepsis_label)\n",
    "patient = np.concatenate(patient)\n",
    "dataloaded = True"
   ]
  },
  {
   "cell_type": "code",
   "execution_count": 5,
   "metadata": {},
   "outputs": [],
   "source": [
    "## Separate pointers\n",
    "feature_phys = feature_matrix[:,:-6]    ## Physiology\n",
    "feature_demog = feature_matrix[:,-6:]   ## Demographics"
   ]
  },
  {
   "cell_type": "code",
   "execution_count": null,
   "metadata": {},
   "outputs": [],
   "source": []
  },
  {
   "cell_type": "code",
   "execution_count": 6,
   "metadata": {},
   "outputs": [],
   "source": [
    "## Get sepsis patients\n",
    "## patient_sep indicates (every sample), whether the patient is septic\n",
    "## patient_sep_index indicates the patient number corresponding to septic patients\n",
    "## patient_healthy_idx indicates the patient number corresponding to healthy patients\n",
    "patient_sep = np.zeros(len(sepsis_label),dtype=np.int)\n",
    "for i in range(n):\n",
    "    i_pat = np.where(patient==i)[0]\n",
    "    patient_sep[i_pat] = int(np.sum(sepsis_label[i_pat])>0)*np.ones(len(i_pat), dtype=np.int)\n",
    "    \n",
    "patient_sep_idx = patient[np.where(patient_sep!=0)[0]]\n",
    "patient_healthy_idx = patient[np.where(patient_sep==0)[0]]"
   ]
  },
  {
   "cell_type": "code",
   "execution_count": 7,
   "metadata": {},
   "outputs": [
    {
     "data": {
      "text/plain": [
       "[<matplotlib.lines.Line2D at 0x7f970194d748>]"
      ]
     },
     "execution_count": 7,
     "metadata": {},
     "output_type": "execute_result"
    },
    {
     "data": {
      "image/png": "[encoded data removed]",
      "text/plain": [
       "<Figure size 432x288 with 1 Axes>"
      ]
     },
     "metadata": {
      "needs_background": "light"
     },
     "output_type": "display_data"
    }
   ],
   "source": [
    "plt.plot((patient_sep_idx))"
   ]
  },
  {
   "cell_type": "code",
   "execution_count": 21,
   "metadata": {},
   "outputs": [
    {
     "name": "stdout",
     "output_type": "stream",
     "text": [
      "24 entries x 40\n"
     ]
    },
    {
     "data": {
      "image/png": "[encoded data removed]",
      "text/plain": [
       "<Figure size 432x288 with 1 Axes>"
      ]
     },
     "metadata": {
      "needs_background": "light"
     },
     "output_type": "display_data"
    }
   ],
   "source": [
    "i_pat = 42\n",
    "\n",
    "def plot_patient_features(n_pat, features, patient_array):\n",
    "    plot_j = np.where(patient == n_pat)[0]\n",
    "    for j in range (len(plot_j)):\n",
    "        plt.plot(features[plot_j[j],:])    \n",
    "    print(len(plot_j), \"entries x\", np.shape(features)[1])\n",
    "    return\n",
    "\n",
    "def print_patient_features(n_pat, features, patient_array):\n",
    "    print(\"Patient\", n_pat)\n",
    "    print_j = np.where(patient == n_pat)[0]\n",
    "    for j in range (len(print_j)):\n",
    "        print(features[print_j[j],:])    \n",
    "    return\n",
    "\n",
    "plot_patient_features(i_pat, feature_matrix, patient)"
   ]
  },
  {
   "cell_type": "code",
   "execution_count": 22,
   "metadata": {},
   "outputs": [
    {
     "data": {
      "text/plain": [
       "42"
      ]
     },
     "execution_count": 22,
     "metadata": {},
     "output_type": "execute_result"
    }
   ],
   "source": [
    "n_pat = i_pat\n",
    "n_pat"
   ]
  },
  {
   "cell_type": "code",
   "execution_count": 133,
   "metadata": {},
   "outputs": [
    {
     "name": "stdout",
     "output_type": "stream",
     "text": [
      "Healthy\n"
     ]
    },
    {
     "data": {
      "image/png": "[encoded data removed]",
      "text/plain": [
       "<Figure size 432x288 with 1 Axes>"
      ]
     },
     "metadata": {
      "needs_background": "light"
     },
     "output_type": "display_data"
    }
   ],
   "source": [
    "plot_j = np.where(patient == n_pat)[0]\n",
    "A = feature_matrix[plot_j,:]\n",
    "fig, ax = plt.subplots()\n",
    "plotimg = ax.plot(A)\n",
    "ax.set_xlim(0,100)\n",
    "if patient_sep[plot_j][0] == 0:\n",
    "    print (\"Healthy\")\n",
    "else:\n",
    "    print (\"Septic\")"
   ]
  },
  {
   "cell_type": "markdown",
   "metadata": {},
   "source": [
    "## Fix NaN interpolation"
   ]
  },
  {
   "cell_type": "code",
   "execution_count": 134,
   "metadata": {},
   "outputs": [
    {
     "data": {
      "text/plain": [
       "(24, 40)"
      ]
     },
     "execution_count": 134,
     "metadata": {},
     "output_type": "execute_result"
    }
   ],
   "source": [
    "A.shape"
   ]
  },
  {
   "cell_type": "code",
   "execution_count": 135,
   "metadata": {},
   "outputs": [
    {
     "name": "stdout",
     "output_type": "stream",
     "text": [
      "(24,)\n"
     ]
    },
    {
     "data": {
      "text/plain": [
       "array([  nan,  75. ,  90. ,  95. ,  98. , 100. ,  98. , 110. , 100. ,\n",
       "       100. ,  99. ,  98. , 101. ,  99. ,  97. ,  93. ,   nan,  96.5,\n",
       "        98. ,  92. ,  91. ,  97. , 107. ,  89. ])"
      ]
     },
     "execution_count": 135,
     "metadata": {},
     "output_type": "execute_result"
    }
   ],
   "source": [
    "ifeat = A[:,0]\n",
    "print(ifeat.shape)\n",
    "A[:,0]"
   ]
  },
  {
   "cell_type": "code",
   "execution_count": 139,
   "metadata": {},
   "outputs": [
    {
     "data": {
      "text/plain": [
       "array([nan, nan, nan, nan, nan, nan, nan, nan, nan, nan, nan, nan, nan,\n",
       "       nan, nan, nan, nan, nan, nan, nan, nan, nan, nan, nan])"
      ]
     },
     "execution_count": 139,
     "metadata": {},
     "output_type": "execute_result"
    }
   ],
   "source": [
    "A[:,7]"
   ]
  },
  {
   "cell_type": "code",
   "execution_count": 150,
   "metadata": {},
   "outputs": [
    {
     "data": {
      "text/plain": [
       "array([118.5 , 118.5 , 145.  , 182.5 , 182.  , 159.  , 159.  , 160.  ,\n",
       "       155.  , 155.  , 161.  , 151.  , 132.  , 132.  , 135.  , 141.  ,\n",
       "       142.75, 144.5 , 155.  , 158.  , 157.  , 162.  , 158.  , 133.  ])"
      ]
     },
     "execution_count": 150,
     "metadata": {},
     "output_type": "execute_result"
    }
   ],
   "source": [
    "## Fill nan when not all-row\n",
    "for i in range(A.shape[1]):\n",
    "    ifeat = A[:,i]\n",
    "    if np.sum(np.isnan(ifeat)) < len(ifeat):\n",
    "        nan_bounds(ifeat)\n",
    "        nan_interpolate(ifeat)"
   ]
  },
  {
   "cell_type": "code",
   "execution_count": 151,
   "metadata": {},
   "outputs": [
    {
     "name": "stdout",
     "output_type": "stream",
     "text": [
      "Healthy\n"
     ]
    },
    {
     "data": {
      "image/png": "[encoded data removed]",
      "text/plain": [
       "<Figure size 432x288 with 1 Axes>"
      ]
     },
     "metadata": {
      "needs_background": "light"
     },
     "output_type": "display_data"
    }
   ],
   "source": [
    "fig, ax = plt.subplots()\n",
    "plotimg = ax.plot(A)\n",
    "ax.set_xlim(0,100)\n",
    "if patient_sep[plot_j][0] == 0:\n",
    "    print (\"Healthy\")\n",
    "else:\n",
    "    print (\"Septic\")"
   ]
  },
  {
   "cell_type": "code",
   "execution_count": 117,
   "metadata": {},
   "outputs": [
    {
     "data": {
      "text/plain": [
       "array([ 0,  1, 16, 17, 18, 20, 21, 22, 23])"
      ]
     },
     "execution_count": 117,
     "metadata": {},
     "output_type": "execute_result"
    }
   ],
   "source": [
    "# # FAKE\n",
    "# ifeat[0] = np.nan\n",
    "# ifeat[1] = np.nan\n",
    "# ifeat[-3] = np.nan\n",
    "# ifeat[-2] = np.nan\n",
    "# ifeat[-1] = np.nan\n",
    "# ifeat[16] = np.nan\n",
    "# ifeat[17] = np.nan\n",
    "# ifeat[18] = np.nan\n",
    "# ifeat[19] = 88.0\n",
    "# ifeat[20] = np.nan\n",
    "\n",
    "# nanidx = np.where(np.isnan(ifeat))[0]\n",
    "# nanidx"
   ]
  },
  {
   "cell_type": "code",
   "execution_count": 113,
   "metadata": {},
   "outputs": [],
   "source": [
    "# Fix boundary nans (replicate head/tail vals)\n",
    "def nan_bounds(feats):\n",
    "    nanidx = np.where(np.isnan(feats))[0]\n",
    "    pointer_left = 0\n",
    "    pointer_right = len(ifeat)-1\n",
    "    fix_left = pointer_left in nanidx\n",
    "    fix_right = pointer_right in nanidx\n",
    "    while fix_left:\n",
    "        if pointer_left in nanidx:\n",
    "            pointer_left += 1\n",
    "            # print(\"pointer_left:\", pointer_left)\n",
    "        else:\n",
    "            val_left = ifeat[pointer_left]\n",
    "            ifeat[:pointer_left] = val_left*np.ones((1,pointer_left),dtype=np.float)\n",
    "            fix_left = False\n",
    "\n",
    "    while fix_right:\n",
    "        if pointer_right in nanidx:\n",
    "            pointer_right -= 1\n",
    "            # print(\"pointer_right:\", pointer_right)\n",
    "        else:\n",
    "            val_right = ifeat[pointer_right]\n",
    "            ifeat[pointer_right+1:] = val_right*np.ones((1,len(ifeat)-pointer_right-1),dtype=np.float)\n",
    "            fix_right = False \n",
    "        \n",
    "# nan interpolation\n",
    "def nan_interpolate(feats):\n",
    "    nanidx = np.where(np.isnan(feats))[0]\n",
    "    nan_remain = len(nanidx)\n",
    "    nanid = 0\n",
    "    while nan_remain > 0:\n",
    "        nanpos = nanidx[nanid] \n",
    "        nanval = ifeat[nanpos-1]\n",
    "        nan_remain -= 1\n",
    "\n",
    "        nandim = 1\n",
    "        initpos = nanpos\n",
    "\n",
    "        # Check whether it extends\n",
    "        while nanpos+1 in nanidx:\n",
    "            nanpos += 1\n",
    "            nanid += 1\n",
    "            nan_remain -= 1\n",
    "            nandim += 1\n",
    "            # Average sides\n",
    "            if np.isfinite(ifeat[nanpos+1]):\n",
    "                nanval = 0.5 * (nanval + ifeat[nanpos+1])\n",
    "\n",
    "        # Single value average    \n",
    "        if nandim == 1:\n",
    "            nanval = 0.5 * (nanval + ifeat[nanpos+1])\n",
    "        ifeat[initpos:initpos+nandim] = nanval*np.ones((1,nandim),dtype=np.double)\n",
    "        nanpos += 1\n",
    "        nanid += 1    "
   ]
  },
  {
   "cell_type": "code",
   "execution_count": 118,
   "metadata": {},
   "outputs": [],
   "source": [
    "nan_bounds(ifeat)\n",
    "nan_interpolate(ifeat)\n",
    "ifeat"
   ]
  },
  {
   "cell_type": "code",
   "execution_count": null,
   "metadata": {},
   "outputs": [],
   "source": []
  }
 ],
 "metadata": {
  "kernelspec": {
   "display_name": "Python 3",
   "language": "python",
   "name": "python3"
  },
  "language_info": {
   "codemirror_mode": {
    "name": "ipython",
    "version": 3
   },
   "file_extension": ".py",
   "mimetype": "text/x-python",
   "name": "python",
   "nbconvert_exporter": "python",
   "pygments_lexer": "ipython3",
   "version": "3.7.3"
  }
 },
 "nbformat": 4,
 "nbformat_minor": 2
}

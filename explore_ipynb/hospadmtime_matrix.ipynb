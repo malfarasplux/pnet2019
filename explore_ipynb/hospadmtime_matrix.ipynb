{
 "cells": [
  {
   "cell_type": "markdown",
   "metadata": {},
   "source": [
    "# Compare a single feature (HospAdmTime)"
   ]
  },
  {
   "cell_type": "markdown",
   "metadata": {},
   "source": [
    "## Exploration of a single ICU sepsis data log"
   ]
  },
  {
   "cell_type": "code",
   "execution_count": 1,
   "metadata": {
    "collapsed": true
   },
   "outputs": [],
   "source": [
    "# Imports\n",
    "import pandas as pd\n",
    "import numpy as np\n",
    "import matplotlib.pyplot as plt\n",
    "%matplotlib inline\n",
    "\n",
    "# Add extra plotting options (mpld3)\n",
    "# import mpld3\n",
    "# mpld3.enable_notebook()"
   ]
  },
  {
   "cell_type": "code",
   "execution_count": 2,
   "metadata": {
    "collapsed": true
   },
   "outputs": [],
   "source": [
    "# Provide the path\n",
    "path = '../training/'"
   ]
  },
  {
   "cell_type": "code",
   "execution_count": 3,
   "metadata": {
    "collapsed": true
   },
   "outputs": [],
   "source": [
    "# Choose patient sample\n",
    "sample_num = 200"
   ]
  },
  {
   "cell_type": "code",
   "execution_count": 4,
   "metadata": {
    "collapsed": true
   },
   "outputs": [],
   "source": [
    "# Import (and print) dataframe layout\n",
    "def loadICUdata(sample_num, path = './', printdf = False):\n",
    "    samplestr = 'p' + (str(sample_num) + '.psv').rjust(9, '0')\n",
    "    fname = path + samplestr\n",
    "    df = pd.read_csv(fname, sep = '|')\n",
    "    if printdf:\n",
    "        print(fname, ' file:')\n",
    "        print(df)\n",
    "    return df"
   ]
  },
  {
   "cell_type": "code",
   "execution_count": 5,
   "metadata": {
    "collapsed": true
   },
   "outputs": [],
   "source": [
    "# Single sample\n",
    "df = loadICUdata(sample_num, path, False)"
   ]
  },
  {
   "cell_type": "code",
   "execution_count": 6,
   "metadata": {
    "collapsed": true
   },
   "outputs": [],
   "source": [
    "#df"
   ]
  },
  {
   "cell_type": "markdown",
   "metadata": {},
   "source": [
    "## Load all DATA"
   ]
  },
  {
   "cell_type": "code",
   "execution_count": 7,
   "metadata": {
    "collapsed": true
   },
   "outputs": [],
   "source": [
    "# Load all patients' DATA\n",
    "npatients = 5000\n",
    "DATA = []  # DATA structure\n",
    "for i in range(1,npatients+1):\n",
    "    df = loadICUdata(i, path, False)\n",
    "    DATA.append(df) "
   ]
  },
  {
   "cell_type": "markdown",
   "metadata": {},
   "source": [
    "## Feature-based comparison"
   ]
  },
  {
   "cell_type": "code",
   "execution_count": 8,
   "metadata": {},
   "outputs": [
    {
     "data": {
      "text/plain": [
       "Index(['HR', 'O2Sat', 'Temp', 'SBP', 'MAP', 'DBP', 'Resp', 'EtCO2',\n",
       "       'BaseExcess', 'HCO3', 'FiO2', 'pH', 'PaCO2', 'SaO2', 'AST', 'BUN',\n",
       "       'Alkalinephos', 'Calcium', 'Chloride', 'Creatinine', 'Bilirubin_direct',\n",
       "       'Glucose', 'Lactate', 'Magnesium', 'Phosphate', 'Potassium',\n",
       "       'Bilirubin_total', 'TroponinI', 'Hct', 'Hgb', 'PTT', 'WBC',\n",
       "       'Fibrinogen', 'Platelets', 'Age', 'Gender', 'Unit1', 'Unit2',\n",
       "       'HospAdmTime', 'ICULOS', 'SepsisLabel'],\n",
       "      dtype='object')"
      ]
     },
     "execution_count": 8,
     "metadata": {},
     "output_type": "execute_result"
    }
   ],
   "source": [
    "# Define feature labels\n",
    "feature_labels = DATA[0].keys()\n",
    "feature_labels"
   ]
  },
  {
   "cell_type": "code",
   "execution_count": 9,
   "metadata": {
    "collapsed": true
   },
   "outputs": [],
   "source": [
    "# Function get my_feat_matrix values\n",
    "def get_featurematrix(dflist, featurename, nanremove = True):\n",
    "    initval = -1\n",
    "    print(\"get_featurematrix used with \", initval, \" initval\")\n",
    "    for i in range(len(dflist)):\n",
    "        # Initialise to initval\n",
    "        if i == 0:\n",
    "            maxdim = max(map(len, dflist))\n",
    "            my_feat_matrix = initval * np.ones((len(dflist), maxdim),dtype=np.double)\n",
    "        count = len(dflist[i])   \n",
    "        if nanremove:\n",
    "            my_feat_matrix[i,:count] = np.nan_to_num(dflist[i][featurename].values)\n",
    "        else:\n",
    "            my_feat_matrix[i,:count] = (dflist[i][featurename].values)\n",
    "    return my_feat_matrix"
   ]
  },
  {
   "cell_type": "code",
   "execution_count": 10,
   "metadata": {},
   "outputs": [
    {
     "name": "stdout",
     "output_type": "stream",
     "text": [
      "get_featurematrix used with  -1  initval\n"
     ]
    },
    {
     "data": {
      "text/plain": [
       "(array([   260.,      0.,      0., ...,  19642.,  20902.,  33565.]),\n",
       " array([ -5.36686000e+03,  -5.36499651e+03,  -5.36313301e+03, ...,\n",
       "         -3.72698611e+00,  -1.86349306e+00,   0.00000000e+00]),\n",
       " <a list of 2880 Patch objects>)"
      ]
     },
     "execution_count": 10,
     "metadata": {},
     "output_type": "execute_result"
    },
    {
     "data": {
      "image/png": "[encoded data removed]",
      "text/plain": [
       "<matplotlib.figure.Figure at 0x28030432f28>"
      ]
     },
     "metadata": {},
     "output_type": "display_data"
    }
   ],
   "source": [
    "my_feat = 'HospAdmTime'\n",
    "my_feat_matrix = get_featurematrix(DATA, my_feat,True)\n",
    "A = my_feat_matrix[np.where(my_feat_matrix!=-1)]\n",
    "A\n",
    "plt.hist(A, bins='auto')"
   ]
  },
  {
   "cell_type": "markdown",
   "metadata": {},
   "source": [
    "## np.log ==> ln(-HospAdmTime)"
   ]
  },
  {
   "cell_type": "code",
   "execution_count": null,
   "metadata": {
    "collapsed": true
   },
   "outputs": [],
   "source": [
    "# Function get hospadm_matrix values\n",
    "def get_hospadm_matrix(dflist, featurename = 'HospAdmTime', nanremove = True):\n",
    "    initval = -1\n",
    "    print(\"get_featurematrix used with \", initval, \" initval\")\n",
    "    for i in range(len(dflist)):\n",
    "        # Initialise to initval\n",
    "        if i == 0:\n",
    "            maxdim = max(map(len, dflist))\n",
    "            my_feat_matrix = initval * np.ones((len(dflist), maxdim),dtype=np.double)\n",
    "        count = len(dflist[i])   \n",
    "        if nanremove:\n",
    "            my_feat_matrix[i,:count] = np.log(-1*(np.nan_to_num(dflist[i][featurename].values))+1e-12)\n",
    "        else:\n",
    "            my_feat_matrix[i,:count] = np.log(-1*(dflist[i][featurename].values)+1e-12)\n",
    "    return my_feat_matrix"
   ]
  },
  {
   "cell_type": "code",
   "execution_count": null,
   "metadata": {},
   "outputs": [],
   "source": [
    "# Choose a feature\n",
    "my_feat = 'HospAdmTime'\n",
    "my_feat"
   ]
  },
  {
   "cell_type": "code",
   "execution_count": null,
   "metadata": {},
   "outputs": [],
   "source": [
    "my_feat_matrix = get_hospadm_matrix(DATA, my_feat)\n",
    "my_feat_matrix"
   ]
  },
  {
   "cell_type": "markdown",
   "metadata": {},
   "source": [
    "## Plot"
   ]
  },
  {
   "cell_type": "code",
   "execution_count": null,
   "metadata": {},
   "outputs": [],
   "source": [
    "# Plot matrix using fig size\n",
    "fig, ax = plt.subplots(figsize=(13,10))\n",
    "ax.matshow(np.transpose(my_feat_matrix))\n",
    "ax.set_title(\"Feature Matrix \\n\",loc='center')\n",
    "ax.set_xlabel('patient')\n",
    "ax.set_ylabel(str(my_feat))"
   ]
  },
  {
   "cell_type": "code",
   "execution_count": null,
   "metadata": {
    "scrolled": true
   },
   "outputs": [],
   "source": [
    "# Explore the first npat patients\n",
    "npat = 1000\n",
    "fig, ax = plt.subplots(figsize=(13,10))\n",
    "ax.matshow(np.transpose(my_feat_matrix[:npat,:]))\n",
    "ax.set_title(\"Feature Matrix \" + str(npat) + \"pat \\n\",loc='center')\n",
    "ax.set_xlabel('patient')\n",
    "ax.set_ylabel(str(my_feat))\n"
   ]
  },
  {
   "cell_type": "code",
   "execution_count": null,
   "metadata": {},
   "outputs": [],
   "source": [
    "A = my_feat_matrix[np.where(my_feat_matrix!=-1)]\n",
    "A"
   ]
  },
  {
   "cell_type": "code",
   "execution_count": null,
   "metadata": {},
   "outputs": [],
   "source": [
    "plt.hist(A, bins='auto')"
   ]
  },
  {
   "cell_type": "code",
   "execution_count": null,
   "metadata": {},
   "outputs": [],
   "source": [
    "# for i in range(len(A)):\n",
    "#     print(i, A[i])"
   ]
  },
  {
   "cell_type": "code",
   "execution_count": null,
   "metadata": {},
   "outputs": [],
   "source": [
    "min(A)"
   ]
  },
  {
   "cell_type": "code",
   "execution_count": null,
   "metadata": {},
   "outputs": [],
   "source": [
    "max(A)"
   ]
  },
  {
   "cell_type": "code",
   "execution_count": null,
   "metadata": {},
   "outputs": [],
   "source": [
    "np.log(max(-1*A))"
   ]
  },
  {
   "cell_type": "code",
   "execution_count": 13,
   "metadata": {
    "scrolled": true
   },
   "outputs": [
    {
     "data": {
      "text/plain": [
       "<matplotlib.text.Text at 0x1e0540f0be0>"
      ]
     },
     "execution_count": 13,
     "metadata": {},
     "output_type": "execute_result"
    },
    {
     "data": {
      "image/png": "[encoded data removed]",
      "text/plain": [
       "<matplotlib.figure.Figure at 0x1e053da0ef0>"
      ]
     },
     "metadata": {},
     "output_type": "display_data"
    }
   ],
   "source": [
    "# Explore the first npat patients\n",
    "npat = 1000\n",
    "fig, ax = plt.subplots(figsize=(13,10))\n",
    "ax.matshow(np.transpose(my_feat_matrix[:npat,:]))\n",
    "ax.set_title(\"Feature Matrix \" + str(npat) + \"pat \\n\",loc='center')\n",
    "ax.set_xlabel('patient')\n",
    "ax.set_ylabel(str(my_feat))\n"
   ]
  },
  {
   "cell_type": "code",
   "execution_count": null,
   "metadata": {},
   "outputs": [],
   "source": [
    "A = my_feat_matrix[np.where(my_feat_matrix!=-1)]\n",
    "plt.hist(A, bins='auto')"
   ]
  },
  {
   "cell_type": "code",
   "execution_count": null,
   "metadata": {},
   "outputs": [],
   "source": [
    "z = (np.where(A==0)[0])\n",
    "B = A\n",
    "B[z]=0.0001"
   ]
  },
  {
   "cell_type": "code",
   "execution_count": null,
   "metadata": {
    "collapsed": true
   },
   "outputs": [],
   "source": []
  }
 ],
 "metadata": {
  "kernelspec": {
   "display_name": "Python 3",
   "language": "python",
   "name": "python3"
  },
  "language_info": {
   "codemirror_mode": {
    "name": "ipython",
    "version": 3
   },
   "file_extension": ".py",
   "mimetype": "text/x-python",
   "name": "python",
   "nbconvert_exporter": "python",
   "pygments_lexer": "ipython3",
   "version": "3.5.0"
  }
 },
 "nbformat": 4,
 "nbformat_minor": 2
}

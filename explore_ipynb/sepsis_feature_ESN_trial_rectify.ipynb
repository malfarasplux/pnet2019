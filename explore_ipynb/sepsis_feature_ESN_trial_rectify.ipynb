{
 "cells": [
  {
   "cell_type": "markdown",
   "metadata": {},
   "source": [
    "# Create an ESN for sepsis shared features (trial 1)"
   ]
  },
  {
   "cell_type": "markdown",
   "metadata": {},
   "source": [
    "## Load ICU sepsis data log"
   ]
  },
  {
   "cell_type": "code",
   "execution_count": 1,
   "metadata": {},
   "outputs": [],
   "source": [
    "# Imports\n",
    "import pandas as pd\n",
    "import numpy as np\n",
    "import matplotlib.pyplot as plt\n",
    "from sklearn.preprocessing import MinMaxScaler\n",
    "import math as m\n",
    "%matplotlib inline\n",
    "path = '../training/'"
   ]
  },
  {
   "cell_type": "code",
   "execution_count": 2,
   "metadata": {},
   "outputs": [],
   "source": [
    "# Choose patient sample\n",
    "sample_num = 785"
   ]
  },
  {
   "cell_type": "code",
   "execution_count": 3,
   "metadata": {},
   "outputs": [],
   "source": [
    "# Import and print dataframe layout\n",
    "def loadICUdata(sample_num, path = './', printdf = False):\n",
    "    samplestr = 'p' + (str(sample_num) + '.psv').rjust(9, '0')\n",
    "    fname = path + samplestr\n",
    "    df = pd.read_csv(fname, sep = '|')\n",
    "    #print(fname, ' file:')\n",
    "    if printdf:\n",
    "        print(df)\n",
    "    return df\n",
    "\n",
    "df = loadICUdata(sample_num, path, False)\n",
    "#df"
   ]
  },
  {
   "cell_type": "markdown",
   "metadata": {},
   "source": [
    "## Check sepsis labels for ALL patients"
   ]
  },
  {
   "cell_type": "code",
   "execution_count": 4,
   "metadata": {},
   "outputs": [],
   "source": [
    "# get the sepsis label value\n",
    "def get_sepsislabel(df):\n",
    "    sl = df[[\"SepsisLabel\"]]\n",
    "    count = df['SepsisLabel'].value_counts()\n",
    "    count_healthy = -1\n",
    "    count_sep = -1\n",
    "    \n",
    "    if len(count) == 2:\n",
    "        count_sep = count[1]\n",
    "        count_healthy = count[0]\n",
    "        \n",
    "    elif len(count) == 1:\n",
    "        if sl.values[0] == 0:\n",
    "            count_healthy = count.values[0]\n",
    "        elif sl.values[0] == 1:\n",
    "            count_sep = count.values[0]\n",
    "    return sl, count_healthy, count_sep\n"
   ]
  },
  {
   "cell_type": "code",
   "execution_count": 5,
   "metadata": {},
   "outputs": [
    {
     "data": {
      "text/plain": [
       "260"
      ]
     },
     "execution_count": 5,
     "metadata": {},
     "output_type": "execute_result"
    }
   ],
   "source": [
    "count = df['SepsisLabel'].value_counts()\n",
    "count.values\n",
    "len(count)\n",
    "sl, ch, cs = get_sepsislabel(df)\n",
    "len(sl)"
   ]
  },
  {
   "cell_type": "code",
   "execution_count": 6,
   "metadata": {},
   "outputs": [
    {
     "name": "stdout",
     "output_type": "stream",
     "text": [
      "patient 785, 260 -1 -0.38%\n"
     ]
    }
   ],
   "source": [
    "# Print result\n",
    "sl, ch, cs = get_sepsislabel(df) \n",
    "print('patient {:d}, {:d} {:d} {:2.2f}%'.format(sample_num, ch, cs, 100*cs/len(sl)))"
   ]
  },
  {
   "cell_type": "markdown",
   "metadata": {},
   "source": [
    "## Loop study, sepsis presence"
   ]
  },
  {
   "cell_type": "code",
   "execution_count": 7,
   "metadata": {},
   "outputs": [],
   "source": [
    "# Run in a loop and get a sepsis presence report\n",
    "SL = []    #Sepsis labels\n",
    "CH = []    #Healthy hours count\n",
    "CS = []    #Sepsis hours count\n",
    "CSCH = []  #Percentage cs/(cs+ch)\n",
    "DATA = []  #DATA structure\n",
    "for i in range(1,5001):\n",
    "    df = loadICUdata(i, path, False)\n",
    "    DATA.append(df) \n",
    "    sl, ch, cs = get_sepsislabel(df) \n",
    "    SL.append(sl)\n",
    "    CH.append(ch)\n",
    "    CS.append(cs)\n",
    "    if cs != -1 and ch != -1:\n",
    "        csch = 1.0*cs/(cs + ch)\n",
    "    elif cs == -1:\n",
    "        csch = 0\n",
    "    elif ch == -1:\n",
    "        csch = 1\n",
    "    CSCH.append(csch)\n",
    "    \n",
    "CSCH = np.array(CSCH)"
   ]
  },
  {
   "cell_type": "code",
   "execution_count": 8,
   "metadata": {},
   "outputs": [
    {
     "name": "stdout",
     "output_type": "stream",
     "text": [
      "[0. 0. 0. ... 0. 0. 0.] 279\n"
     ]
    }
   ],
   "source": [
    "# Count sepsis patients\n",
    "print(CSCH, np.count_nonzero(CSCH))"
   ]
  },
  {
   "cell_type": "code",
   "execution_count": 9,
   "metadata": {},
   "outputs": [],
   "source": [
    "sepsis_idx = np.where(CSCH!=0)"
   ]
  },
  {
   "cell_type": "code",
   "execution_count": 10,
   "metadata": {},
   "outputs": [
    {
     "data": {
      "text/plain": [
       "array([0.11111111, 0.02214022, 0.27777778, 0.11363636, 1.        ,\n",
       "       0.09615385, 0.28571429, 0.33333333, 0.25641026, 0.14754098,\n",
       "       1.        , 0.2195122 , 1.        , 0.07627119, 0.04975124,\n",
       "       0.15151515, 0.09183673, 0.37037037, 0.20408163, 0.06944444,\n",
       "       0.04587156, 0.625     , 0.07894737, 0.09183673, 0.24390244,\n",
       "       1.        , 0.03846154, 0.2       , 0.10465116, 0.76923077,\n",
       "       0.76923077, 0.27777778, 0.225     , 0.17857143, 1.        ,\n",
       "       0.08256881, 0.20408163, 0.16981132, 0.14084507, 0.81818182,\n",
       "       0.0990099 , 0.43478261, 0.12820513, 0.09803922, 0.33333333,\n",
       "       0.13461538, 0.41666667, 1.        , 0.11627907, 0.08333333,\n",
       "       0.23255814, 0.66666667, 0.29411765, 1.        , 0.90909091,\n",
       "       0.38461538, 0.03125   , 0.07246377, 0.04291845, 0.20833333,\n",
       "       1.        , 0.16393443, 0.90909091, 0.22727273, 1.        ,\n",
       "       0.33333333, 0.13888889, 0.4       , 0.35714286, 0.25641026,\n",
       "       0.17307692, 0.15384615, 0.4       , 0.625     , 1.        ,\n",
       "       0.83333333, 0.83333333, 0.625     , 0.07575758, 0.0703125 ,\n",
       "       0.04830918, 0.03891051, 1.        , 0.43478261, 0.1369863 ,\n",
       "       1.        , 0.10465116, 1.        , 0.09782609, 1.        ,\n",
       "       0.19148936, 0.17857143, 1.        , 0.90909091, 1.        ,\n",
       "       0.09009009, 1.        , 0.24390244, 0.42857143, 0.83333333,\n",
       "       0.06756757, 0.43478261, 0.3030303 , 1.        , 0.05521472,\n",
       "       1.        , 1.        , 0.08547009, 0.27777778, 0.18518519,\n",
       "       0.21276596, 0.45454545, 0.01785714, 0.00632911, 0.81818182,\n",
       "       0.26315789, 0.08035714, 0.55555556, 0.1754386 , 0.14285714,\n",
       "       1.        , 1.        , 1.        , 0.1097561 , 1.        ,\n",
       "       0.45454545, 0.21428571, 0.40909091, 0.27777778, 0.14285714,\n",
       "       1.        , 1.        , 1.        , 1.        , 0.25641026,\n",
       "       0.47619048, 1.        , 0.08403361, 0.09782609, 1.        ,\n",
       "       0.43478261, 1.        , 0.23809524, 0.35714286, 0.3125    ,\n",
       "       0.06756757, 0.625     , 1.        , 0.27027027, 0.10869565,\n",
       "       0.76923077, 0.3030303 , 1.        , 0.52631579, 0.28125   ,\n",
       "       0.225     , 1.        , 1.        , 0.47619048, 0.2173913 ,\n",
       "       0.20833333, 0.1875    , 0.05319149, 0.17857143, 0.16666667,\n",
       "       0.37037037, 0.06923077, 0.83333333, 0.52941176, 0.07633588,\n",
       "       1.        , 0.0989011 , 0.16071429, 0.3030303 , 0.71428571,\n",
       "       0.05732484, 0.66666667, 0.83333333, 0.20833333, 0.27777778,\n",
       "       0.47619048, 1.        , 0.71428571, 1.        , 0.14492754,\n",
       "       1.        , 0.11904762, 1.        , 0.12987013, 0.11392405,\n",
       "       0.66666667, 0.15625   , 1.        , 0.23255814, 0.29411765,\n",
       "       1.        , 0.09090909, 0.90909091, 1.        , 0.10416667,\n",
       "       0.4       , 0.15625   , 0.22727273, 0.6       , 0.43478261,\n",
       "       0.71428571, 1.        , 0.03968254, 0.18518519, 0.26315789,\n",
       "       1.        , 0.04878049, 1.        , 0.625     , 0.10752688,\n",
       "       0.10416667, 0.55555556, 0.0990099 , 0.08333333, 0.05263158,\n",
       "       1.        , 0.26470588, 0.27777778, 0.90909091, 0.45454545,\n",
       "       1.        , 0.55555556, 0.2173913 , 0.02931596, 0.04368932,\n",
       "       0.3030303 , 1.        , 1.        , 0.14285714, 1.        ,\n",
       "       0.38461538, 1.        , 0.11111111, 0.16129032, 0.14516129,\n",
       "       0.18181818, 0.25      , 0.06870229, 0.15873016, 0.34482759,\n",
       "       1.        , 0.05487805, 0.08849558, 0.125     , 0.28571429,\n",
       "       0.29032258, 1.        , 0.15517241, 0.06134969, 0.03629032,\n",
       "       0.625     , 0.35714286, 0.90909091, 1.        , 1.        ,\n",
       "       0.66666667, 0.09782609, 0.34482759, 0.23684211, 0.07692308,\n",
       "       0.37037037, 0.16393443, 1.        , 0.10752688, 0.90909091,\n",
       "       0.22222222, 0.27027027, 0.625     , 1.        , 0.42857143,\n",
       "       0.5       , 0.09259259, 0.83333333, 0.29032258])"
      ]
     },
     "execution_count": 10,
     "metadata": {},
     "output_type": "execute_result"
    }
   ],
   "source": [
    "# Check percentage of sepsis hours for sepsis patients\n",
    "CSCH[sepsis_idx]"
   ]
  },
  {
   "cell_type": "markdown",
   "metadata": {},
   "source": [
    "## Matrix Sepsis"
   ]
  },
  {
   "cell_type": "code",
   "execution_count": 11,
   "metadata": {},
   "outputs": [],
   "source": [
    "def get_dfmaxcount(list_of_lists):\n",
    "    maxval = -1\n",
    "    maxval_i = -1\n",
    "    for i in range(len(list_of_lists)):\n",
    "        val = list_of_lists[i].count(axis = 0)[0]\n",
    "        if val > maxval:\n",
    "            maxval = val\n",
    "            maxval_i = i\n",
    "    return maxval, maxval_i"
   ]
  },
  {
   "cell_type": "code",
   "execution_count": 12,
   "metadata": {},
   "outputs": [],
   "source": [
    "# get max val in SepsisLabel count and idx position\n",
    "mv, mvi = get_dfmaxcount(SL)"
   ]
  },
  {
   "cell_type": "code",
   "execution_count": 13,
   "metadata": {},
   "outputs": [
    {
     "data": {
      "text/plain": [
       "(336, 1921)"
      ]
     },
     "execution_count": 13,
     "metadata": {},
     "output_type": "execute_result"
    }
   ],
   "source": [
    "mv, mvi"
   ]
  },
  {
   "cell_type": "code",
   "execution_count": 14,
   "metadata": {},
   "outputs": [
    {
     "data": {
      "text/plain": [
       "(5000, 336)"
      ]
     },
     "execution_count": 14,
     "metadata": {},
     "output_type": "execute_result"
    }
   ],
   "source": [
    "# Initialize sepsis matrix\n",
    "sepsis_matrix = -1 * np.ones((len(SL),mv), dtype=int)\n",
    "for i in range(len(SL)):\n",
    "    sepsis_matrix[i][0:(SL[i].count(axis = 0)[0])] = (SL[i].values).flatten()\n",
    "np.shape(sepsis_matrix)"
   ]
  },
  {
   "cell_type": "code",
   "execution_count": 15,
   "metadata": {},
   "outputs": [
    {
     "data": {
      "text/plain": [
       "<matplotlib.image.AxesImage at 0x1bbb94630f0>"
      ]
     },
     "execution_count": 15,
     "metadata": {},
     "output_type": "execute_result"
    },
    {
     "data": {
      "image/png": "[encoded data removed]",
      "text/plain": [
       "<Figure size 1152x144 with 1 Axes>"
      ]
     },
     "metadata": {
      "needs_background": "light"
     },
     "output_type": "display_data"
    }
   ],
   "source": [
    "plt.matshow(np.transpose(sepsis_matrix))"
   ]
  },
  {
   "cell_type": "markdown",
   "metadata": {},
   "source": [
    "## Sepsis keys for the ESN"
   ]
  },
  {
   "cell_type": "code",
   "execution_count": 16,
   "metadata": {},
   "outputs": [],
   "source": [
    "sepsis_idx = np.where(CSCH!=0)\n",
    "healthy_idx = np.where(CSCH==0) "
   ]
  },
  {
   "cell_type": "code",
   "execution_count": 17,
   "metadata": {},
   "outputs": [
    {
     "data": {
      "text/plain": [
       "9"
      ]
     },
     "execution_count": 17,
     "metadata": {},
     "output_type": "execute_result"
    }
   ],
   "source": [
    "# We use features (9) shared by all sepsis patients\n",
    "s_keys = {}\n",
    "s_keys = ['HR', 'O2Sat', 'SBP', 'MAP', 'DBP', 'Age', 'Gender', 'HospAdmTime', 'ICULOS'] #, 'SepsisLabel']\n",
    "# s_keys = ['HR', 'O2Sat', 'SBP', 'MAP', 'DBP', 'Age', 'Gender', 'ICULOS']#'HospAdmTime', 'ICULOS'] #, 'SepsisLabel']\n",
    "# s_keys = ['HR', 'O2Sat', 'SBP', 'MAP', 'DBP', 'Age', 'Gender', 'HospAdmTime', 'ICULOS', 'SepsisLabel']\n",
    "# s_keys = ['Age', 'Gender', 'SepsisLabel']\n",
    "# s_keys = ['SepsisLabel']\n",
    "type(s_keys)\n",
    "len(s_keys)"
   ]
  },
  {
   "cell_type": "code",
   "execution_count": 18,
   "metadata": {},
   "outputs": [
    {
     "data": {
      "text/plain": [
       "array([  nan,  93. ,  91. ,  93. ,  93. ,   nan,  91.5,  94. ,  94. ,\n",
       "       102. , 106. , 107. , 102. ,  98. ,  95. , 105. ,  94. ,  98. ,\n",
       "        98. , 105. ,  96. , 102. , 105. , 107. ])"
      ]
     },
     "execution_count": 18,
     "metadata": {},
     "output_type": "execute_result"
    }
   ],
   "source": [
    "DATA[0][\"HR\"].values"
   ]
  },
  {
   "cell_type": "code",
   "execution_count": 19,
   "metadata": {},
   "outputs": [],
   "source": [
    "# Feature matrix (removing nan)\n",
    "feature_matrix = []\n",
    "patient = []\n",
    "sepsis_label = []\n",
    "for i in range(5000):\n",
    "    initval = 0\n",
    "    A = initval * np.ones((DATA[i].shape[0],len(s_keys)), dtype=np.double)\n",
    "    j = 0\n",
    "    for key in s_keys:\n",
    "        A[:,j] = DATA[i][key].values\n",
    "        j = j + 1\n",
    "       # print (i, key, j)\n",
    "    A = np.nan_to_num(A)\n",
    "    sep_lab = (DATA[i][\"SepsisLabel\"].values).reshape(-1,1)\n",
    "    if i==0:\n",
    "        feature_matrix=(A)\n",
    "        patient = i*np.ones((DATA[i].shape[0],1),dtype=np.int)\n",
    "        sepsis_label = sep_lab\n",
    "        \n",
    "    else: \n",
    "        feature_matrix = np.vstack((feature_matrix, A))\n",
    "        patient = np.vstack((patient, i*np.ones((DATA[i].shape[0],1),dtype=np.int)))\n",
    "        sepsis_label = np.vstack((sepsis_label, sep_lab))"
   ]
  },
  {
   "cell_type": "code",
   "execution_count": 20,
   "metadata": {},
   "outputs": [
    {
     "data": {
      "text/plain": [
       "numpy.ndarray"
      ]
     },
     "execution_count": 20,
     "metadata": {},
     "output_type": "execute_result"
    }
   ],
   "source": [
    "type(feature_matrix[0])"
   ]
  },
  {
   "cell_type": "code",
   "execution_count": 21,
   "metadata": {},
   "outputs": [
    {
     "data": {
      "text/plain": [
       "(188453, 9)"
      ]
     },
     "execution_count": 21,
     "metadata": {},
     "output_type": "execute_result"
    }
   ],
   "source": [
    "feature_matrix\n",
    "np.shape(feature_matrix)"
   ]
  },
  {
   "cell_type": "code",
   "execution_count": 22,
   "metadata": {},
   "outputs": [],
   "source": [
    "# Keep a raw copy\n",
    "raw_feature_matrix = np.copy(feature_matrix)"
   ]
  },
  {
   "cell_type": "code",
   "execution_count": 23,
   "metadata": {},
   "outputs": [
    {
     "data": {
      "text/plain": [
       "(188453, 1)"
      ]
     },
     "execution_count": 23,
     "metadata": {},
     "output_type": "execute_result"
    }
   ],
   "source": [
    "patient\n",
    "np.shape(patient)"
   ]
  },
  {
   "cell_type": "code",
   "execution_count": 24,
   "metadata": {},
   "outputs": [
    {
     "data": {
      "text/plain": [
       "(188453, 1)"
      ]
     },
     "execution_count": 24,
     "metadata": {},
     "output_type": "execute_result"
    }
   ],
   "source": [
    "sepsis_label\n",
    "np.shape(sepsis_label)"
   ]
  },
  {
   "cell_type": "code",
   "execution_count": 25,
   "metadata": {},
   "outputs": [
    {
     "name": "stdout",
     "output_type": "stream",
     "text": [
      "[2378]\n",
      "[ 89.    98.   120.    70.    50.    62.     0.    -1.38  22.  ]\n",
      "[0]\n"
     ]
    }
   ],
   "source": [
    "# Single entry example\n",
    "i_e = 90000\n",
    "print(patient[i_e])\n",
    "print(feature_matrix[i_e,:])\n",
    "print(sepsis_label[i_e])\n"
   ]
  },
  {
   "cell_type": "code",
   "execution_count": 27,
   "metadata": {},
   "outputs": [
    {
     "name": "stdout",
     "output_type": "stream",
     "text": [
      "37 entries x 9\n"
     ]
    },
    {
     "data": {
      "image/png": "[encoded data removed]",
      "text/plain": [
       "<Figure size 432x288 with 1 Axes>"
      ]
     },
     "metadata": {
      "needs_background": "light"
     },
     "output_type": "display_data"
    }
   ],
   "source": [
    "i_pat = 6\n",
    "\n",
    "def plot_patient_features(n_pat, features, patient_array):\n",
    "    plot_j = np.where(patient == n_pat)[0]\n",
    "    for j in range (len(plot_j)):\n",
    "        plt.plot(features[plot_j[j],:])    \n",
    "    print(len(plot_j), \"entries x\", np.shape(features)[1])\n",
    "    return\n",
    "\n",
    "def print_patient_features(n_pat, features, patient_array):\n",
    "    print(\"Patient\", n_pat)\n",
    "    print_j = np.where(patient == n_pat)[0]\n",
    "    for j in range (len(print_j)):\n",
    "        print(features[print_j[j],:])    \n",
    "    return\n",
    "\n",
    "plot_patient_features(i_pat, feature_matrix, patient)"
   ]
  },
  {
   "cell_type": "markdown",
   "metadata": {},
   "source": [
    "## Preprocess features (log(-HospAdmTime-1))"
   ]
  },
  {
   "cell_type": "code",
   "execution_count": 28,
   "metadata": {},
   "outputs": [],
   "source": [
    "feature_matrix= np.copy(raw_feature_matrix)\n",
    "feat_i = s_keys.index('HospAdmTime')"
   ]
  },
  {
   "cell_type": "code",
   "execution_count": 29,
   "metadata": {},
   "outputs": [
    {
     "name": "stdout",
     "output_type": "stream",
     "text": [
      "-5366.86 0.0\n",
      "30281 [784]\n"
     ]
    }
   ],
   "source": [
    "print(np.min(raw_feature_matrix[:,feat_i]), np.max(raw_feature_matrix[:,feat_i]))\n",
    "argmin = (np.argmin(raw_feature_matrix[:,feat_i]))\n",
    "print(argmin, patient[argmin])\n",
    "\n",
    "# for i in range(len(raw_feature_matrix[:,feat_i])):\n",
    "#     print(raw_feature_matrix[i,feat_i])"
   ]
  },
  {
   "cell_type": "code",
   "execution_count": 30,
   "metadata": {},
   "outputs": [
    {
     "name": "stdout",
     "output_type": "stream",
     "text": [
      "HospAdmTime\n"
     ]
    },
    {
     "data": {
      "text/plain": [
       "7"
      ]
     },
     "execution_count": 30,
     "metadata": {},
     "output_type": "execute_result"
    },
    {
     "data": {
      "image/png": "[encoded data removed]",
      "text/plain": [
       "<Figure size 432x288 with 1 Axes>"
      ]
     },
     "metadata": {
      "needs_background": "light"
     },
     "output_type": "display_data"
    }
   ],
   "source": [
    "print (s_keys[7])\n",
    "plt.plot(feature_matrix[:,7])\n",
    "feat_i"
   ]
  },
  {
   "cell_type": "code",
   "execution_count": 31,
   "metadata": {},
   "outputs": [
    {
     "name": "stdout",
     "output_type": "stream",
     "text": [
      "188453\n"
     ]
    },
    {
     "data": {
      "text/plain": [
       "array([     0,      1,      2, ..., 188450, 188451, 188452], dtype=int64)"
      ]
     },
     "execution_count": 31,
     "metadata": {},
     "output_type": "execute_result"
    }
   ],
   "source": [
    "change_i = np.where(raw_feature_matrix[:,feat_i]!=np.nan)[0]\n",
    "print(len(change_i))\n",
    "change_i"
   ]
  },
  {
   "cell_type": "code",
   "execution_count": 32,
   "metadata": {},
   "outputs": [
    {
     "name": "stdout",
     "output_type": "stream",
     "text": [
      "-214.64 5.373610350583468\n",
      "-214.64 5.373610350583468\n",
      "-214.64 5.373610350583468\n",
      "-214.64 5.373610350583468\n",
      "-214.64 5.373610350583468\n",
      "-214.64 5.373610350583468\n",
      "-214.64 5.373610350583468\n",
      "-214.64 5.373610350583468\n",
      "-214.64 5.373610350583468\n",
      "-214.64 5.373610350583468\n",
      "-214.64 5.373610350583468\n",
      "-214.64 5.373610350583468\n",
      "-214.64 5.373610350583468\n",
      "-214.64 5.373610350583468\n",
      "-214.64 5.373610350583468\n",
      "-214.64 5.373610350583468\n",
      "-214.64 5.373610350583468\n",
      "-214.64 5.373610350583468\n",
      "-214.64 5.373610350583468\n",
      "-214.64 5.373610350583468\n",
      "-214.64 5.373610350583468\n",
      "-214.64 5.373610350583468\n",
      "-214.64 5.373610350583468\n",
      "-214.64 5.373610350583468\n",
      "-123.17 4.821651594428751\n",
      "-123.17 4.821651594428751\n",
      "-123.17 4.821651594428751\n",
      "-123.17 4.821651594428751\n",
      "-123.17 4.821651594428751\n",
      "-123.17 4.821651594428751\n",
      "-123.17 4.821651594428751\n",
      "-123.17 4.821651594428751\n",
      "-123.17 4.821651594428751\n",
      "-123.17 4.821651594428751\n",
      "-123.17 4.821651594428751\n",
      "-123.17 4.821651594428751\n",
      "-123.17 4.821651594428751\n",
      "-123.17 4.821651594428751\n",
      "-123.17 4.821651594428751\n",
      "-123.17 4.821651594428751\n",
      "-123.17 4.821651594428751\n",
      "-123.17 4.821651594428751\n",
      "-123.17 4.821651594428751\n",
      "-123.17 4.821651594428751\n",
      "-123.17 4.821651594428751\n",
      "-123.17 4.821651594428751\n",
      "-123.17 4.821651594428751\n",
      "-123.17 4.821651594428751\n",
      "-123.17 4.821651594428751\n",
      "-2.83 1.3428648031925547\n"
     ]
    }
   ],
   "source": [
    "change_feature = True\n",
    "if change_feature:\n",
    "    feature_matrix[change_i,feat_i] = np.log(1-np.copy(raw_feature_matrix[change_i,feat_i]))\n",
    "    # for i in range(len(change_i)):\n",
    "    for i in range(50):\n",
    "        print(raw_feature_matrix[change_i[i],feat_i],feature_matrix[change_i[i],feat_i])"
   ]
  },
  {
   "cell_type": "code",
   "execution_count": 33,
   "metadata": {},
   "outputs": [
    {
     "name": "stdout",
     "output_type": "stream",
     "text": [
      "0.0 8.588184597834516\n"
     ]
    },
    {
     "data": {
      "text/plain": [
       "[<matplotlib.lines.Line2D at 0x1bbbff286a0>]"
      ]
     },
     "execution_count": 33,
     "metadata": {},
     "output_type": "execute_result"
    },
    {
     "data": {
      "image/png": "[encoded data removed]",
      "text/plain": [
       "<Figure size 432x288 with 1 Axes>"
      ]
     },
     "metadata": {
      "needs_background": "light"
     },
     "output_type": "display_data"
    }
   ],
   "source": [
    "print(np.min(feature_matrix[:,feat_i]), np.max(feature_matrix[:,feat_i]))\n",
    "plt.plot(feature_matrix[change_i,feat_i])"
   ]
  },
  {
   "cell_type": "code",
   "execution_count": 34,
   "metadata": {},
   "outputs": [
    {
     "name": "stdout",
     "output_type": "stream",
     "text": [
      "0.0 336.0\n"
     ]
    }
   ],
   "source": [
    "print(np.min(feature_matrix), np.max(feature_matrix[:,:19]))"
   ]
  },
  {
   "cell_type": "code",
   "execution_count": 35,
   "metadata": {},
   "outputs": [
    {
     "data": {
      "text/plain": [
       "(188453, 5)"
      ]
     },
     "execution_count": 35,
     "metadata": {},
     "output_type": "execute_result"
    }
   ],
   "source": [
    "np.shape(feature_matrix[:,:5])"
   ]
  },
  {
   "cell_type": "markdown",
   "metadata": {},
   "source": [
    "## Mapminmax normalise scale per feature per patient"
   ]
  },
  {
   "cell_type": "code",
   "execution_count": 36,
   "metadata": {},
   "outputs": [],
   "source": [
    "norm_feat_pat = False\n",
    "if norm_feat_pat:\n",
    "    for i in range(5000):\n",
    "        i_pat = np.where(patient==i)[0]\n",
    "        scaler = MinMaxScaler()\n",
    "        scaler.fit(feature_matrix[i_pat,:5])\n",
    "        feature_matrix[i_pat,:5] = scaler.transform(feature_matrix[i_pat,:5])\n",
    "        \n",
    "# Per single feature\n",
    "#         for j in range(np.shape(feature_matrix)[1]):\n",
    "#             scaler.fit(feature_matrix[i_pat,j])\n",
    "#             feature_matrix[i_pat,j] = scaler.transform(feature_matrix[i_pat,j])"
   ]
  },
  {
   "cell_type": "markdown",
   "metadata": {},
   "source": [
    "## Divide in 2 sets"
   ]
  },
  {
   "cell_type": "code",
   "execution_count": 37,
   "metadata": {},
   "outputs": [
    {
     "data": {
      "text/plain": [
       "(169634, 9)"
      ]
     },
     "execution_count": 37,
     "metadata": {},
     "output_type": "execute_result"
    }
   ],
   "source": [
    "# Choose percentage (50%, 90/10%, ...)\n",
    "# A_B_limit = int(5000*0.5)\n",
    "A_B_limit = int(5000*0.9)\n",
    "A_idx = np.where(patient < A_B_limit)[0]\n",
    "features_A = feature_matrix[A_idx,:]\n",
    "np.shape(features_A)"
   ]
  },
  {
   "cell_type": "code",
   "execution_count": 38,
   "metadata": {},
   "outputs": [
    {
     "data": {
      "text/plain": [
       "(18819, 9)"
      ]
     },
     "execution_count": 38,
     "metadata": {},
     "output_type": "execute_result"
    }
   ],
   "source": [
    "B_idx = np.where(patient >= A_B_limit)[0]\n",
    "features_B = feature_matrix[B_idx,:]\n",
    "np.shape(features_B)"
   ]
  },
  {
   "cell_type": "code",
   "execution_count": 39,
   "metadata": {},
   "outputs": [
    {
     "name": "stdout",
     "output_type": "stream",
     "text": [
      "0.0 336.0\n",
      "0.0 278.0\n",
      "\n",
      "======  \n",
      "A feature ranges\n",
      "HR 0.0 186.0\n",
      "O2Sat 0.0 100.0\n",
      "SBP 0.0 299.0\n",
      "MAP 0.0 296.0\n",
      "DBP 0.0 296.0\n",
      "Age 16.0 101.0\n",
      "Gender 0.0 1.0\n",
      "HospAdmTime 0.0 8.588184597834516\n",
      "ICULOS 1.0 336.0\n"
     ]
    }
   ],
   "source": [
    "print(np.min(features_A), np.max(features_A))\n",
    "print(np.min(features_B), np.max(features_B))\n",
    "print(\"\\n======  \\nA feature ranges\")\n",
    "for i in range (np.shape(features_A)[1]):\n",
    "    print(s_keys[i], np.min(features_A[:,i]), np.max(features_A[:,i]))"
   ]
  },
  {
   "cell_type": "markdown",
   "metadata": {},
   "source": [
    "## Create an ESN"
   ]
  },
  {
   "cell_type": "markdown",
   "metadata": {},
   "source": [
    "#### Create rand masks (input weight)\n",
    "#### M⊂[-1,1]\n",
    "#### Mb⊂[-1,1]"
   ]
  },
  {
   "cell_type": "code",
   "execution_count": 40,
   "metadata": {},
   "outputs": [],
   "source": [
    "# ESN Paramenters\n",
    "N = 200      # Neurons\n",
    "mem = 0.1    # memory\n",
    "scale = 0.2  # scaling factor"
   ]
  },
  {
   "cell_type": "code",
   "execution_count": 41,
   "metadata": {},
   "outputs": [],
   "source": [
    "# Nonlinear mapping function\n",
    "def sigmoid(x, exponent):\n",
    "    return 1/(1+np.exp(-exponent*x))-0.5\n",
    "\n",
    "def rectify(x, slope):\n",
    "    return slope*np.asarray(x>0, dtype=np.double)*x"
   ]
  },
  {
   "cell_type": "code",
   "execution_count": 42,
   "metadata": {},
   "outputs": [
    {
     "data": {
      "text/plain": [
       "[<matplotlib.lines.Line2D at 0x1bbbff896d8>]"
      ]
     },
     "execution_count": 42,
     "metadata": {},
     "output_type": "execute_result"
    },
    {
     "data": {
      "image/png": "[encoded data removed]",
      "text/plain": [
       "<Figure size 432x288 with 1 Axes>"
      ]
     },
     "metadata": {
      "needs_background": "light"
     },
     "output_type": "display_data"
    }
   ],
   "source": [
    "sigmoid_exponent = 1\n",
    "rect_slope = 1\n",
    "func = rectify\n",
    "a = np.linspace(-10, 10, 100, False)\n",
    "b = func(a,sigmoid_exponent)\n",
    "plt.plot(a,b)"
   ]
  },
  {
   "cell_type": "code",
   "execution_count": 43,
   "metadata": {},
   "outputs": [
    {
     "name": "stdout",
     "output_type": "stream",
     "text": [
      "(9, 200)\n",
      "(1, 200)\n",
      "-0.999261748725117 0.9969395264288952\n",
      "-0.9975563392818338 0.9999123145957778\n"
     ]
    }
   ],
   "source": [
    "# Mask parameters\n",
    "M = 2*np.random.rand(np.shape(features_A)[1],N)-1\n",
    "Mb = 2*np.random.rand(1,N)-1\n",
    "print(np.shape(M))\n",
    "print(np.shape(Mb))\n",
    "print(np.min(M), np.max(M))\n",
    "print(np.min(Mb), np.max(Mb))\n"
   ]
  },
  {
   "cell_type": "code",
   "execution_count": 44,
   "metadata": {},
   "outputs": [
    {
     "name": "stdout",
     "output_type": "stream",
     "text": [
      "0.0 336.0\n"
     ]
    }
   ],
   "source": [
    "# Train set features\n",
    "print(np.min(features_A), np.max(features_A))"
   ]
  },
  {
   "cell_type": "code",
   "execution_count": 45,
   "metadata": {},
   "outputs": [],
   "source": [
    "# Create ESN \n",
    "def feedESN(features, mask, mask_bias, scale, mem):\n",
    "    ESN = np.ones((np.shape(features)[0],N), dtype=np.double)\n",
    "    IN = np.matmul(features, M) + np.repeat(Mb, np.shape(features)[0], axis=0)\n",
    "    print(np.shape(IN))\n",
    "    print(np.min(IN), np.max(IN))\n",
    "    p = np.zeros((1,N),dtype=np.double)\n",
    "    for i in range(np.shape(features)[0]):\n",
    "        i\n",
    "        in_val = scale*IN[i,:]+p*mem\n",
    "        ESN[i,:] = func(in_val, sigmoid_exponent) #Apply transform\n",
    "        p = np.copy(np.roll(ESN[i,:],1))\n",
    "    return ESN"
   ]
  },
  {
   "cell_type": "code",
   "execution_count": 46,
   "metadata": {},
   "outputs": [
    {
     "name": "stdout",
     "output_type": "stream",
     "text": [
      "(169634, 200)\n",
      "-945.2580694457068 683.3854453302858\n"
     ]
    }
   ],
   "source": [
    "ESN = feedESN(features_A, M, Mb, scale, mem)"
   ]
  },
  {
   "cell_type": "code",
   "execution_count": 47,
   "metadata": {},
   "outputs": [
    {
     "name": "stdout",
     "output_type": "stream",
     "text": [
      "(169634, 200)\n",
      "-0.0 136.67708906605716\n"
     ]
    },
    {
     "data": {
      "image/png": "[encoded data removed]",
      "text/plain": [
       "<Figure size 936x720 with 1 Axes>"
      ]
     },
     "metadata": {
      "needs_background": "light"
     },
     "output_type": "display_data"
    }
   ],
   "source": [
    "fig, ax = plt.subplots(figsize=(13,10))\n",
    "ax.matshow((ESN[:1000,:]))\n",
    "ax.set_title(\"ESN \\n\",loc='center')\n",
    "ax.set_xlabel('N')\n",
    "ax.set_ylabel('sample')\n",
    "print(np.shape(ESN))\n",
    "print(np.min(ESN), np.max(ESN))"
   ]
  },
  {
   "cell_type": "markdown",
   "metadata": {},
   "source": [
    "### Training"
   ]
  },
  {
   "cell_type": "code",
   "execution_count": 48,
   "metadata": {},
   "outputs": [
    {
     "name": "stdout",
     "output_type": "stream",
     "text": [
      "(200, 169634)\n"
     ]
    }
   ],
   "source": [
    "ESNinv = np.linalg.pinv(ESN)\n",
    "print(np.shape(ESNinv))"
   ]
  },
  {
   "cell_type": "code",
   "execution_count": 49,
   "metadata": {},
   "outputs": [],
   "source": [
    "ytrain = sepsis_label[A_idx]"
   ]
  },
  {
   "cell_type": "code",
   "execution_count": 50,
   "metadata": {},
   "outputs": [],
   "source": [
    "w = np.matmul(ESNinv, ytrain)\n"
   ]
  },
  {
   "cell_type": "code",
   "execution_count": 51,
   "metadata": {},
   "outputs": [
    {
     "name": "stdout",
     "output_type": "stream",
     "text": [
      "<class 'numpy.ndarray'>\n",
      "<class 'numpy.ndarray'>\n",
      "(169634, 1)\n"
     ]
    }
   ],
   "source": [
    "print(type(ESNinv))\n",
    "print(type(ytrain))\n",
    "print(np.shape(ytrain.reshape(-1,1)))"
   ]
  },
  {
   "cell_type": "code",
   "execution_count": 52,
   "metadata": {},
   "outputs": [
    {
     "data": {
      "text/plain": [
       "[<matplotlib.lines.Line2D at 0x1bb803547b8>]"
      ]
     },
     "execution_count": 52,
     "metadata": {},
     "output_type": "execute_result"
    },
    {
     "data": {
      "image/png": "[encoded data removed]",
      "text/plain": [
       "<Figure size 432x288 with 1 Axes>"
      ]
     },
     "metadata": {
      "needs_background": "light"
     },
     "output_type": "display_data"
    }
   ],
   "source": [
    "plt.plot(w)"
   ]
  },
  {
   "cell_type": "code",
   "execution_count": 53,
   "metadata": {},
   "outputs": [
    {
     "data": {
      "text/plain": [
       "[<matplotlib.lines.Line2D at 0x1bb803bd320>]"
      ]
     },
     "execution_count": 53,
     "metadata": {},
     "output_type": "execute_result"
    },
    {
     "data": {
      "image/png": "[encoded data removed]",
      "text/plain": [
       "<Figure size 432x288 with 1 Axes>"
      ]
     },
     "metadata": {
      "needs_background": "light"
     },
     "output_type": "display_data"
    }
   ],
   "source": [
    "plt.plot(ytrain)"
   ]
  },
  {
   "cell_type": "code",
   "execution_count": 54,
   "metadata": {},
   "outputs": [
    {
     "data": {
      "text/plain": [
       "[<matplotlib.lines.Line2D at 0x1bb8057d828>]"
      ]
     },
     "execution_count": 54,
     "metadata": {},
     "output_type": "execute_result"
    },
    {
     "data": {
      "image/png": "[encoded data removed]",
      "text/plain": [
       "<Figure size 432x288 with 1 Axes>"
      ]
     },
     "metadata": {
      "needs_background": "light"
     },
     "output_type": "display_data"
    }
   ],
   "source": [
    "Y_pred = np.asarray(np.matmul(ESN,w)>0.08,dtype=np.double)\n",
    "plt.plot(Y_pred)"
   ]
  },
  {
   "cell_type": "code",
   "execution_count": 55,
   "metadata": {},
   "outputs": [
    {
     "data": {
      "text/plain": [
       "[<matplotlib.lines.Line2D at 0x1bb805de828>]"
      ]
     },
     "execution_count": 55,
     "metadata": {},
     "output_type": "execute_result"
    },
    {
     "data": {
      "image/png": "[encoded data removed]",
      "text/plain": [
       "<Figure size 432x288 with 1 Axes>"
      ]
     },
     "metadata": {
      "needs_background": "light"
     },
     "output_type": "display_data"
    }
   ],
   "source": [
    "plt.plot(np.matmul(ESN,w))"
   ]
  },
  {
   "cell_type": "code",
   "execution_count": 56,
   "metadata": {},
   "outputs": [
    {
     "name": "stdout",
     "output_type": "stream",
     "text": [
      "164330 2939\n",
      "1948 417\n",
      "0.9711909169152411\n"
     ]
    }
   ],
   "source": [
    "#Creating the confusion Matrix\n",
    "from sklearn.metrics import confusion_matrix\n",
    "from sklearn.metrics import accuracy_score\n",
    "cm = confusion_matrix(ytrain, Y_pred)\n",
    "print(cm[0,0],cm[0,1])\n",
    "print(cm[1,0],cm[1,1])\n",
    "print(accuracy_score(ytrain, Y_pred))"
   ]
  },
  {
   "cell_type": "markdown",
   "metadata": {},
   "source": [
    "### Testing"
   ]
  },
  {
   "cell_type": "code",
   "execution_count": 57,
   "metadata": {},
   "outputs": [
    {
     "name": "stdout",
     "output_type": "stream",
     "text": [
      "(18819, 200)\n",
      "-950.1342886717496 619.9651497139655\n"
     ]
    }
   ],
   "source": [
    "ESNtest = feedESN(features_B, M, Mb, scale, mem)"
   ]
  },
  {
   "cell_type": "code",
   "execution_count": 58,
   "metadata": {},
   "outputs": [
    {
     "data": {
      "text/plain": [
       "[<matplotlib.lines.Line2D at 0x1bb81b38c18>]"
      ]
     },
     "execution_count": 58,
     "metadata": {},
     "output_type": "execute_result"
    },
    {
     "data": {
      "image/png": "[encoded data removed]",
      "text/plain": [
       "<Figure size 432x288 with 1 Axes>"
      ]
     },
     "metadata": {
      "needs_background": "light"
     },
     "output_type": "display_data"
    }
   ],
   "source": [
    "ytest = sepsis_label[B_idx]\n",
    "plt.plot(ytest)"
   ]
  },
  {
   "cell_type": "code",
   "execution_count": 59,
   "metadata": {},
   "outputs": [
    {
     "data": {
      "text/plain": [
       "[<matplotlib.lines.Line2D at 0x1bb81ba2048>]"
      ]
     },
     "execution_count": 59,
     "metadata": {},
     "output_type": "execute_result"
    },
    {
     "data": {
      "image/png": "[encoded data removed]",
      "text/plain": [
       "<Figure size 432x288 with 1 Axes>"
      ]
     },
     "metadata": {
      "needs_background": "light"
     },
     "output_type": "display_data"
    }
   ],
   "source": [
    "class_threshold = 0.08\n",
    "Y_pred = np.asarray(np.matmul(ESNtest,w)>class_threshold,dtype=np.double)\n",
    "plt.plot(Y_pred)"
   ]
  },
  {
   "cell_type": "code",
   "execution_count": 60,
   "metadata": {},
   "outputs": [
    {
     "name": "stdout",
     "output_type": "stream",
     "text": [
      "18298 263\n",
      "225 33\n",
      "0.9740687602954461\n"
     ]
    }
   ],
   "source": [
    "#Creating the confusion Matrix\n",
    "from sklearn.metrics import confusion_matrix\n",
    "from sklearn.metrics import accuracy_score\n",
    "cm = confusion_matrix(ytest, Y_pred)\n",
    "print(cm[0,0],cm[0,1])\n",
    "print(cm[1,0],cm[1,1])\n",
    "print(accuracy_score(ytest, Y_pred))"
   ]
  },
  {
   "cell_type": "markdown",
   "metadata": {},
   "source": [
    "### Report"
   ]
  },
  {
   "cell_type": "code",
   "execution_count": 61,
   "metadata": {},
   "outputs": [
    {
     "name": "stdout",
     "output_type": "stream",
     "text": [
      "not norm\n",
      "Train/Test split:  4500\n",
      "func:  <function rectify at 0x000001BBBD3D1E18>\n",
      "func_argument:  1 1\n",
      "mem:  0.1\n",
      "scale:  0.2\n",
      "threshold:  0.08\n"
     ]
    }
   ],
   "source": [
    "# Report config\n",
    "if norm_feat_pat:\n",
    "    print (\"norm\")\n",
    "    print(scaler)\n",
    "else: \n",
    "    print(\"not norm\")\n",
    "\n",
    "print(\"Train/Test split: \", A_B_limit)\n",
    "print(\"func: \", func)\n",
    "print(\"func_argument: \", sigmoid_exponent, rect_slope)\n",
    "print(\"mem: \", mem)\n",
    "print(\"scale: \", scale)\n",
    "print(\"threshold: \", class_threshold)"
   ]
  },
  {
   "cell_type": "code",
   "execution_count": null,
   "metadata": {},
   "outputs": [],
   "source": []
  },
  {
   "cell_type": "code",
   "execution_count": null,
   "metadata": {},
   "outputs": [],
   "source": []
  }
 ],
 "metadata": {
  "kernelspec": {
   "display_name": "Python 3",
   "language": "python",
   "name": "python3"
  },
  "language_info": {
   "codemirror_mode": {
    "name": "ipython",
    "version": 3
   },
   "file_extension": ".py",
   "mimetype": "text/x-python",
   "name": "python",
   "nbconvert_exporter": "python",
   "pygments_lexer": "ipython3",
   "version": "3.7.1"
  }
 },
 "nbformat": 4,
 "nbformat_minor": 2
}

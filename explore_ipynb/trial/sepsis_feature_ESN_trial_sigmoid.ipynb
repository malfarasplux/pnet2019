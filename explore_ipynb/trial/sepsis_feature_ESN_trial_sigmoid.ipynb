{
 "cells": [
  {
   "cell_type": "markdown",
   "metadata": {},
   "source": [
    "# Create an ESN for sepsis shared features (trial 1)"
   ]
  },
  {
   "cell_type": "markdown",
   "metadata": {},
   "source": [
    "## Load ICU sepsis data log"
   ]
  },
  {
   "cell_type": "code",
   "execution_count": 2,
   "metadata": {},
   "outputs": [],
   "source": [
    "# Imports\n",
    "import pandas as pd\n",
    "import numpy as np\n",
    "import matplotlib.pyplot as plt\n",
    "from sklearn.preprocessing import MinMaxScaler\n",
    "import math as m\n",
    "%matplotlib inline\n",
    "path = '../training/'"
   ]
  },
  {
   "cell_type": "code",
   "execution_count": 3,
   "metadata": {},
   "outputs": [],
   "source": [
    "# Choose patient sample\n",
    "sample_num = 785"
   ]
  },
  {
   "cell_type": "code",
   "execution_count": 4,
   "metadata": {},
   "outputs": [],
   "source": [
    "# Import and print dataframe layout\n",
    "def loadICUdata(sample_num, path = './', printdf = False):\n",
    "    samplestr = 'p' + (str(sample_num) + '.psv').rjust(9, '0')\n",
    "    fname = path + samplestr\n",
    "    df = pd.read_csv(fname, sep = '|')\n",
    "    #print(fname, ' file:')\n",
    "    if printdf:\n",
    "        print(df)\n",
    "    return df\n",
    "\n",
    "df = loadICUdata(sample_num, path, False)\n",
    "#df"
   ]
  },
  {
   "cell_type": "markdown",
   "metadata": {},
   "source": [
    "## Check sepsis labels for ALL patients"
   ]
  },
  {
   "cell_type": "code",
   "execution_count": 5,
   "metadata": {},
   "outputs": [],
   "source": [
    "# get the sepsis label value\n",
    "def get_sepsislabel(df):\n",
    "    sl = df[[\"SepsisLabel\"]]\n",
    "    count = df['SepsisLabel'].value_counts()\n",
    "    count_healthy = -1\n",
    "    count_sep = -1\n",
    "    \n",
    "    if len(count) == 2:\n",
    "        count_sep = count[1]\n",
    "        count_healthy = count[0]\n",
    "        \n",
    "    elif len(count) == 1:\n",
    "        if sl.values[0] == 0:\n",
    "            count_healthy = count.values[0]\n",
    "        elif sl.values[0] == 1:\n",
    "            count_sep = count.values[0]\n",
    "    return sl, count_healthy, count_sep\n"
   ]
  },
  {
   "cell_type": "code",
   "execution_count": 6,
   "metadata": {},
   "outputs": [
    {
     "data": {
      "text/plain": [
       "260"
      ]
     },
     "execution_count": 6,
     "metadata": {},
     "output_type": "execute_result"
    }
   ],
   "source": [
    "count = df['SepsisLabel'].value_counts()\n",
    "count.values\n",
    "len(count)\n",
    "sl, ch, cs = get_sepsislabel(df)\n",
    "len(sl)"
   ]
  },
  {
   "cell_type": "code",
   "execution_count": 7,
   "metadata": {},
   "outputs": [
    {
     "name": "stdout",
     "output_type": "stream",
     "text": [
      "patient 785, 260 -1 -0.38%\n"
     ]
    }
   ],
   "source": [
    "# Print result\n",
    "sl, ch, cs = get_sepsislabel(df) \n",
    "print('patient {:d}, {:d} {:d} {:2.2f}%'.format(sample_num, ch, cs, 100*cs/len(sl)))"
   ]
  },
  {
   "cell_type": "markdown",
   "metadata": {},
   "source": [
    "## Loop study, sepsis presence"
   ]
  },
  {
   "cell_type": "code",
   "execution_count": 8,
   "metadata": {},
   "outputs": [],
   "source": [
    "# Run in a loop and get a sepsis presence report\n",
    "SL = []    #Sepsis labels\n",
    "CH = []    #Healthy hours count\n",
    "CS = []    #Sepsis hours count\n",
    "CSCH = []  #Percentage cs/(cs+ch)\n",
    "DATA = []  #DATA structure\n",
    "for i in range(1,5001):\n",
    "    df = loadICUdata(i, path, False)\n",
    "    DATA.append(df) \n",
    "    sl, ch, cs = get_sepsislabel(df) \n",
    "    SL.append(sl)\n",
    "    CH.append(ch)\n",
    "    CS.append(cs)\n",
    "    if cs != -1 and ch != -1:\n",
    "        csch = 1.0*cs/(cs + ch)\n",
    "    elif cs == -1:\n",
    "        csch = 0\n",
    "    elif ch == -1:\n",
    "        csch = 1\n",
    "    CSCH.append(csch)\n",
    "    \n",
    "CSCH = np.array(CSCH)"
   ]
  },
  {
   "cell_type": "code",
   "execution_count": 9,
   "metadata": {},
   "outputs": [
    {
     "name": "stdout",
     "output_type": "stream",
     "text": [
      "[0. 0. 0. ... 0. 0. 0.] 279\n"
     ]
    }
   ],
   "source": [
    "# Count sepsis patients\n",
    "print(CSCH, np.count_nonzero(CSCH))"
   ]
  },
  {
   "cell_type": "code",
   "execution_count": 10,
   "metadata": {},
   "outputs": [],
   "source": [
    "sepsis_idx = np.where(CSCH!=0)"
   ]
  },
  {
   "cell_type": "code",
   "execution_count": 11,
   "metadata": {},
   "outputs": [
    {
     "data": {
      "text/plain": [
       "array([0.11111111, 0.02214022, 0.27777778, 0.11363636, 1.        ,\n",
       "       0.09615385, 0.28571429, 0.33333333, 0.25641026, 0.14754098,\n",
       "       1.        , 0.2195122 , 1.        , 0.07627119, 0.04975124,\n",
       "       0.15151515, 0.09183673, 0.37037037, 0.20408163, 0.06944444,\n",
       "       0.04587156, 0.625     , 0.07894737, 0.09183673, 0.24390244,\n",
       "       1.        , 0.03846154, 0.2       , 0.10465116, 0.76923077,\n",
       "       0.76923077, 0.27777778, 0.225     , 0.17857143, 1.        ,\n",
       "       0.08256881, 0.20408163, 0.16981132, 0.14084507, 0.81818182,\n",
       "       0.0990099 , 0.43478261, 0.12820513, 0.09803922, 0.33333333,\n",
       "       0.13461538, 0.41666667, 1.        , 0.11627907, 0.08333333,\n",
       "       0.23255814, 0.66666667, 0.29411765, 1.        , 0.90909091,\n",
       "       0.38461538, 0.03125   , 0.07246377, 0.04291845, 0.20833333,\n",
       "       1.        , 0.16393443, 0.90909091, 0.22727273, 1.        ,\n",
       "       0.33333333, 0.13888889, 0.4       , 0.35714286, 0.25641026,\n",
       "       0.17307692, 0.15384615, 0.4       , 0.625     , 1.        ,\n",
       "       0.83333333, 0.83333333, 0.625     , 0.07575758, 0.0703125 ,\n",
       "       0.04830918, 0.03891051, 1.        , 0.43478261, 0.1369863 ,\n",
       "       1.        , 0.10465116, 1.        , 0.09782609, 1.        ,\n",
       "       0.19148936, 0.17857143, 1.        , 0.90909091, 1.        ,\n",
       "       0.09009009, 1.        , 0.24390244, 0.42857143, 0.83333333,\n",
       "       0.06756757, 0.43478261, 0.3030303 , 1.        , 0.05521472,\n",
       "       1.        , 1.        , 0.08547009, 0.27777778, 0.18518519,\n",
       "       0.21276596, 0.45454545, 0.01785714, 0.00632911, 0.81818182,\n",
       "       0.26315789, 0.08035714, 0.55555556, 0.1754386 , 0.14285714,\n",
       "       1.        , 1.        , 1.        , 0.1097561 , 1.        ,\n",
       "       0.45454545, 0.21428571, 0.40909091, 0.27777778, 0.14285714,\n",
       "       1.        , 1.        , 1.        , 1.        , 0.25641026,\n",
       "       0.47619048, 1.        , 0.08403361, 0.09782609, 1.        ,\n",
       "       0.43478261, 1.        , 0.23809524, 0.35714286, 0.3125    ,\n",
       "       0.06756757, 0.625     , 1.        , 0.27027027, 0.10869565,\n",
       "       0.76923077, 0.3030303 , 1.        , 0.52631579, 0.28125   ,\n",
       "       0.225     , 1.        , 1.        , 0.47619048, 0.2173913 ,\n",
       "       0.20833333, 0.1875    , 0.05319149, 0.17857143, 0.16666667,\n",
       "       0.37037037, 0.06923077, 0.83333333, 0.52941176, 0.07633588,\n",
       "       1.        , 0.0989011 , 0.16071429, 0.3030303 , 0.71428571,\n",
       "       0.05732484, 0.66666667, 0.83333333, 0.20833333, 0.27777778,\n",
       "       0.47619048, 1.        , 0.71428571, 1.        , 0.14492754,\n",
       "       1.        , 0.11904762, 1.        , 0.12987013, 0.11392405,\n",
       "       0.66666667, 0.15625   , 1.        , 0.23255814, 0.29411765,\n",
       "       1.        , 0.09090909, 0.90909091, 1.        , 0.10416667,\n",
       "       0.4       , 0.15625   , 0.22727273, 0.6       , 0.43478261,\n",
       "       0.71428571, 1.        , 0.03968254, 0.18518519, 0.26315789,\n",
       "       1.        , 0.04878049, 1.        , 0.625     , 0.10752688,\n",
       "       0.10416667, 0.55555556, 0.0990099 , 0.08333333, 0.05263158,\n",
       "       1.        , 0.26470588, 0.27777778, 0.90909091, 0.45454545,\n",
       "       1.        , 0.55555556, 0.2173913 , 0.02931596, 0.04368932,\n",
       "       0.3030303 , 1.        , 1.        , 0.14285714, 1.        ,\n",
       "       0.38461538, 1.        , 0.11111111, 0.16129032, 0.14516129,\n",
       "       0.18181818, 0.25      , 0.06870229, 0.15873016, 0.34482759,\n",
       "       1.        , 0.05487805, 0.08849558, 0.125     , 0.28571429,\n",
       "       0.29032258, 1.        , 0.15517241, 0.06134969, 0.03629032,\n",
       "       0.625     , 0.35714286, 0.90909091, 1.        , 1.        ,\n",
       "       0.66666667, 0.09782609, 0.34482759, 0.23684211, 0.07692308,\n",
       "       0.37037037, 0.16393443, 1.        , 0.10752688, 0.90909091,\n",
       "       0.22222222, 0.27027027, 0.625     , 1.        , 0.42857143,\n",
       "       0.5       , 0.09259259, 0.83333333, 0.29032258])"
      ]
     },
     "execution_count": 11,
     "metadata": {},
     "output_type": "execute_result"
    }
   ],
   "source": [
    "# Check percentage of sepsis hours for sepsis patients\n",
    "CSCH[sepsis_idx]"
   ]
  },
  {
   "cell_type": "markdown",
   "metadata": {},
   "source": [
    "## Matrix Sepsis"
   ]
  },
  {
   "cell_type": "code",
   "execution_count": 12,
   "metadata": {},
   "outputs": [],
   "source": [
    "def get_dfmaxcount(list_of_lists):\n",
    "    maxval = -1\n",
    "    maxval_i = -1\n",
    "    for i in range(len(list_of_lists)):\n",
    "        val = list_of_lists[i].count(axis = 0)[0]\n",
    "        if val > maxval:\n",
    "            maxval = val\n",
    "            maxval_i = i\n",
    "    return maxval, maxval_i"
   ]
  },
  {
   "cell_type": "code",
   "execution_count": 13,
   "metadata": {},
   "outputs": [],
   "source": [
    "# get max val in SepsisLabel count and idx position\n",
    "mv, mvi = get_dfmaxcount(SL)"
   ]
  },
  {
   "cell_type": "code",
   "execution_count": 14,
   "metadata": {},
   "outputs": [
    {
     "data": {
      "text/plain": [
       "(336, 1921)"
      ]
     },
     "execution_count": 14,
     "metadata": {},
     "output_type": "execute_result"
    }
   ],
   "source": [
    "mv, mvi"
   ]
  },
  {
   "cell_type": "code",
   "execution_count": 15,
   "metadata": {},
   "outputs": [
    {
     "data": {
      "text/plain": [
       "(5000, 336)"
      ]
     },
     "execution_count": 15,
     "metadata": {},
     "output_type": "execute_result"
    }
   ],
   "source": [
    "# Initialize sepsis matrix\n",
    "sepsis_matrix = -1 * np.ones((len(SL),mv), dtype=int)\n",
    "for i in range(len(SL)):\n",
    "    sepsis_matrix[i][0:(SL[i].count(axis = 0)[0])] = (SL[i].values).flatten()\n",
    "np.shape(sepsis_matrix)"
   ]
  },
  {
   "cell_type": "code",
   "execution_count": 16,
   "metadata": {},
   "outputs": [
    {
     "data": {
      "text/plain": [
       "<matplotlib.image.AxesImage at 0x1e3b590a4e0>"
      ]
     },
     "execution_count": 16,
     "metadata": {},
     "output_type": "execute_result"
    },
    {
     "data": {
      "image/png": "[encoded data removed]",
      "text/plain": [
       "<Figure size 1152x144 with 1 Axes>"
      ]
     },
     "metadata": {
      "needs_background": "light"
     },
     "output_type": "display_data"
    }
   ],
   "source": [
    "plt.matshow(np.transpose(sepsis_matrix))"
   ]
  },
  {
   "cell_type": "markdown",
   "metadata": {},
   "source": [
    "## Sepsis keys for the ESN"
   ]
  },
  {
   "cell_type": "code",
   "execution_count": 17,
   "metadata": {},
   "outputs": [],
   "source": [
    "sepsis_idx = np.where(CSCH!=0)\n",
    "healthy_idx = np.where(CSCH==0) "
   ]
  },
  {
   "cell_type": "code",
   "execution_count": 18,
   "metadata": {},
   "outputs": [
    {
     "data": {
      "text/plain": [
       "9"
      ]
     },
     "execution_count": 18,
     "metadata": {},
     "output_type": "execute_result"
    }
   ],
   "source": [
    "# We use features (9) shared by all sepsis patients\n",
    "s_keys = {}\n",
    "s_keys = ['HR', 'O2Sat', 'SBP', 'MAP', 'DBP', 'Age', 'Gender', 'HospAdmTime', 'ICULOS'] #, 'SepsisLabel']\n",
    "# s_keys = ['HR', 'O2Sat', 'SBP', 'MAP', 'DBP', 'Age', 'Gender', 'ICULOS']#'HospAdmTime', 'ICULOS'] #, 'SepsisLabel']\n",
    "# s_keys = ['HR', 'O2Sat', 'SBP', 'MAP', 'DBP', 'Age', 'Gender', 'HospAdmTime', 'ICULOS', 'SepsisLabel']\n",
    "# s_keys = ['Age', 'Gender', 'SepsisLabel']\n",
    "# s_keys = ['SepsisLabel']\n",
    "type(s_keys)\n",
    "len(s_keys)"
   ]
  },
  {
   "cell_type": "code",
   "execution_count": 19,
   "metadata": {},
   "outputs": [
    {
     "data": {
      "text/plain": [
       "array([  nan,  93. ,  91. ,  93. ,  93. ,   nan,  91.5,  94. ,  94. ,\n",
       "       102. , 106. , 107. , 102. ,  98. ,  95. , 105. ,  94. ,  98. ,\n",
       "        98. , 105. ,  96. , 102. , 105. , 107. ])"
      ]
     },
     "execution_count": 19,
     "metadata": {},
     "output_type": "execute_result"
    }
   ],
   "source": [
    "DATA[0][\"HR\"].values"
   ]
  },
  {
   "cell_type": "code",
   "execution_count": 20,
   "metadata": {},
   "outputs": [],
   "source": [
    "# Feature matrix (removing nan)\n",
    "feature_matrix = []\n",
    "patient = []\n",
    "sepsis_label = []\n",
    "for i in range(5000):\n",
    "    initval = 0\n",
    "    A = initval * np.ones((DATA[i].shape[0],len(s_keys)), dtype=np.double)\n",
    "    j = 0\n",
    "    for key in s_keys:\n",
    "        A[:,j] = DATA[i][key].values\n",
    "        j = j + 1\n",
    "       # print (i, key, j)\n",
    "    A = np.nan_to_num(A)\n",
    "    sep_lab = (DATA[i][\"SepsisLabel\"].values).reshape(-1,1)\n",
    "    if i==0:\n",
    "        feature_matrix=(A)\n",
    "        patient = i*np.ones((DATA[i].shape[0],1),dtype=np.int)\n",
    "        sepsis_label = sep_lab\n",
    "        \n",
    "    else: \n",
    "        feature_matrix = np.vstack((feature_matrix, A))\n",
    "        patient = np.vstack((patient, i*np.ones((DATA[i].shape[0],1),dtype=np.int)))\n",
    "        sepsis_label = np.vstack((sepsis_label, sep_lab))"
   ]
  },
  {
   "cell_type": "code",
   "execution_count": 21,
   "metadata": {},
   "outputs": [
    {
     "data": {
      "text/plain": [
       "numpy.ndarray"
      ]
     },
     "execution_count": 21,
     "metadata": {},
     "output_type": "execute_result"
    }
   ],
   "source": [
    "type(feature_matrix[0])"
   ]
  },
  {
   "cell_type": "code",
   "execution_count": 22,
   "metadata": {},
   "outputs": [
    {
     "data": {
      "text/plain": [
       "(188453, 9)"
      ]
     },
     "execution_count": 22,
     "metadata": {},
     "output_type": "execute_result"
    }
   ],
   "source": [
    "feature_matrix\n",
    "np.shape(feature_matrix)"
   ]
  },
  {
   "cell_type": "code",
   "execution_count": 23,
   "metadata": {},
   "outputs": [],
   "source": [
    "# Keep a raw copy\n",
    "raw_feature_matrix = np.copy(feature_matrix)"
   ]
  },
  {
   "cell_type": "code",
   "execution_count": 24,
   "metadata": {},
   "outputs": [
    {
     "data": {
      "text/plain": [
       "(188453, 1)"
      ]
     },
     "execution_count": 24,
     "metadata": {},
     "output_type": "execute_result"
    }
   ],
   "source": [
    "patient\n",
    "np.shape(patient)"
   ]
  },
  {
   "cell_type": "code",
   "execution_count": 25,
   "metadata": {},
   "outputs": [
    {
     "data": {
      "text/plain": [
       "(188453, 1)"
      ]
     },
     "execution_count": 25,
     "metadata": {},
     "output_type": "execute_result"
    }
   ],
   "source": [
    "sepsis_label\n",
    "np.shape(sepsis_label)"
   ]
  },
  {
   "cell_type": "code",
   "execution_count": 26,
   "metadata": {},
   "outputs": [
    {
     "name": "stdout",
     "output_type": "stream",
     "text": [
      "[2378]\n",
      "[ 89.    98.   120.    70.    50.    62.     0.    -1.38  22.  ]\n",
      "[0]\n"
     ]
    }
   ],
   "source": [
    "# Single entry example\n",
    "i_e = 90000\n",
    "print(patient[i_e])\n",
    "print(feature_matrix[i_e,:])\n",
    "print(sepsis_label[i_e])\n"
   ]
  },
  {
   "cell_type": "code",
   "execution_count": 27,
   "metadata": {},
   "outputs": [
    {
     "name": "stdout",
     "output_type": "stream",
     "text": [
      "37 entries x 9\n"
     ]
    },
    {
     "data": {
      "image/png": "[encoded data removed]",
      "text/plain": [
       "<Figure size 432x288 with 1 Axes>"
      ]
     },
     "metadata": {
      "needs_background": "light"
     },
     "output_type": "display_data"
    }
   ],
   "source": [
    "i_pat = 6\n",
    "\n",
    "def plot_patient_features(n_pat, features, patient_array):\n",
    "    plot_j = np.where(patient == n_pat)[0]\n",
    "    for j in range (len(plot_j)):\n",
    "        plt.plot(features[plot_j[j],:])    \n",
    "    print(len(plot_j), \"entries x\", np.shape(features)[1])\n",
    "    return\n",
    "\n",
    "def print_patient_features(n_pat, features, patient_array):\n",
    "    print(\"Patient\", n_pat)\n",
    "    print_j = np.where(patient == n_pat)[0]\n",
    "    for j in range (len(print_j)):\n",
    "        print(features[print_j[j],:])    \n",
    "    return\n",
    "\n",
    "plot_patient_features(i_pat, feature_matrix, patient)"
   ]
  },
  {
   "cell_type": "markdown",
   "metadata": {},
   "source": [
    "## Preprocess features (log(-HospAdmTime-1))"
   ]
  },
  {
   "cell_type": "code",
   "execution_count": 28,
   "metadata": {},
   "outputs": [],
   "source": [
    "feature_matrix= np.copy(raw_feature_matrix)\n",
    "feat_i = s_keys.index('HospAdmTime')"
   ]
  },
  {
   "cell_type": "code",
   "execution_count": 29,
   "metadata": {},
   "outputs": [
    {
     "name": "stdout",
     "output_type": "stream",
     "text": [
      "-5366.86 0.0\n",
      "30281 [784]\n"
     ]
    }
   ],
   "source": [
    "print(np.min(raw_feature_matrix[:,feat_i]), np.max(raw_feature_matrix[:,feat_i]))\n",
    "argmin = (np.argmin(raw_feature_matrix[:,feat_i]))\n",
    "print(argmin, patient[argmin])\n",
    "\n",
    "# for i in range(len(raw_feature_matrix[:,feat_i])):\n",
    "#     print(raw_feature_matrix[i,feat_i])"
   ]
  },
  {
   "cell_type": "code",
   "execution_count": 30,
   "metadata": {},
   "outputs": [
    {
     "name": "stdout",
     "output_type": "stream",
     "text": [
      "HospAdmTime\n"
     ]
    },
    {
     "data": {
      "text/plain": [
       "7"
      ]
     },
     "execution_count": 30,
     "metadata": {},
     "output_type": "execute_result"
    },
    {
     "data": {
      "image/png": "[encoded data removed]",
      "text/plain": [
       "<Figure size 432x288 with 1 Axes>"
      ]
     },
     "metadata": {
      "needs_background": "light"
     },
     "output_type": "display_data"
    }
   ],
   "source": [
    "print (s_keys[7])\n",
    "plt.plot(feature_matrix[:,7])\n",
    "feat_i"
   ]
  },
  {
   "cell_type": "code",
   "execution_count": 31,
   "metadata": {},
   "outputs": [
    {
     "name": "stdout",
     "output_type": "stream",
     "text": [
      "188453\n"
     ]
    },
    {
     "data": {
      "text/plain": [
       "array([     0,      1,      2, ..., 188450, 188451, 188452], dtype=int64)"
      ]
     },
     "execution_count": 31,
     "metadata": {},
     "output_type": "execute_result"
    }
   ],
   "source": [
    "change_i = np.where(raw_feature_matrix[:,feat_i]!=np.nan)[0]\n",
    "print(len(change_i))\n",
    "change_i"
   ]
  },
  {
   "cell_type": "code",
   "execution_count": 32,
   "metadata": {},
   "outputs": [
    {
     "name": "stdout",
     "output_type": "stream",
     "text": [
      "-214.64 5.373610350583468\n",
      "-214.64 5.373610350583468\n",
      "-214.64 5.373610350583468\n",
      "-214.64 5.373610350583468\n",
      "-214.64 5.373610350583468\n",
      "-214.64 5.373610350583468\n",
      "-214.64 5.373610350583468\n",
      "-214.64 5.373610350583468\n",
      "-214.64 5.373610350583468\n",
      "-214.64 5.373610350583468\n",
      "-214.64 5.373610350583468\n",
      "-214.64 5.373610350583468\n",
      "-214.64 5.373610350583468\n",
      "-214.64 5.373610350583468\n",
      "-214.64 5.373610350583468\n",
      "-214.64 5.373610350583468\n",
      "-214.64 5.373610350583468\n",
      "-214.64 5.373610350583468\n",
      "-214.64 5.373610350583468\n",
      "-214.64 5.373610350583468\n",
      "-214.64 5.373610350583468\n",
      "-214.64 5.373610350583468\n",
      "-214.64 5.373610350583468\n",
      "-214.64 5.373610350583468\n",
      "-123.17 4.821651594428751\n",
      "-123.17 4.821651594428751\n",
      "-123.17 4.821651594428751\n",
      "-123.17 4.821651594428751\n",
      "-123.17 4.821651594428751\n",
      "-123.17 4.821651594428751\n",
      "-123.17 4.821651594428751\n",
      "-123.17 4.821651594428751\n",
      "-123.17 4.821651594428751\n",
      "-123.17 4.821651594428751\n",
      "-123.17 4.821651594428751\n",
      "-123.17 4.821651594428751\n",
      "-123.17 4.821651594428751\n",
      "-123.17 4.821651594428751\n",
      "-123.17 4.821651594428751\n",
      "-123.17 4.821651594428751\n",
      "-123.17 4.821651594428751\n",
      "-123.17 4.821651594428751\n",
      "-123.17 4.821651594428751\n",
      "-123.17 4.821651594428751\n",
      "-123.17 4.821651594428751\n",
      "-123.17 4.821651594428751\n",
      "-123.17 4.821651594428751\n",
      "-123.17 4.821651594428751\n",
      "-123.17 4.821651594428751\n",
      "-2.83 1.3428648031925547\n"
     ]
    }
   ],
   "source": [
    "change_feature = True\n",
    "if change_feature:\n",
    "    feature_matrix[change_i,feat_i] = np.log(1-np.copy(raw_feature_matrix[change_i,feat_i]))\n",
    "    # for i in range(len(change_i)):\n",
    "    for i in range(50):\n",
    "        print(raw_feature_matrix[change_i[i],feat_i],feature_matrix[change_i[i],feat_i])"
   ]
  },
  {
   "cell_type": "code",
   "execution_count": 33,
   "metadata": {},
   "outputs": [
    {
     "name": "stdout",
     "output_type": "stream",
     "text": [
      "0.0 8.588184597834516\n"
     ]
    },
    {
     "data": {
      "text/plain": [
       "[<matplotlib.lines.Line2D at 0x1e3b9924be0>]"
      ]
     },
     "execution_count": 33,
     "metadata": {},
     "output_type": "execute_result"
    },
    {
     "data": {
      "image/png": "[encoded data removed]",
      "text/plain": [
       "<Figure size 432x288 with 1 Axes>"
      ]
     },
     "metadata": {
      "needs_background": "light"
     },
     "output_type": "display_data"
    }
   ],
   "source": [
    "print(np.min(feature_matrix[:,feat_i]), np.max(feature_matrix[:,feat_i]))\n",
    "plt.plot(feature_matrix[change_i,feat_i])"
   ]
  },
  {
   "cell_type": "code",
   "execution_count": 34,
   "metadata": {},
   "outputs": [
    {
     "name": "stdout",
     "output_type": "stream",
     "text": [
      "0.0 336.0\n"
     ]
    }
   ],
   "source": [
    "print(np.min(feature_matrix), np.max(feature_matrix[:,:19]))"
   ]
  },
  {
   "cell_type": "code",
   "execution_count": 35,
   "metadata": {},
   "outputs": [
    {
     "data": {
      "text/plain": [
       "(188453, 5)"
      ]
     },
     "execution_count": 35,
     "metadata": {},
     "output_type": "execute_result"
    }
   ],
   "source": [
    "np.shape(feature_matrix[:,:5])"
   ]
  },
  {
   "cell_type": "markdown",
   "metadata": {},
   "source": [
    "## Mapminmax normalise scale per feature per patient"
   ]
  },
  {
   "cell_type": "code",
   "execution_count": 36,
   "metadata": {},
   "outputs": [],
   "source": [
    "norm_feat_pat = False\n",
    "if norm_feat_pat:\n",
    "    for i in range(5000):\n",
    "        i_pat = np.where(patient==i)[0]\n",
    "        scaler = MinMaxScaler()\n",
    "        scaler.fit(feature_matrix[i_pat,:5])\n",
    "        feature_matrix[i_pat,:5] = scaler.transform(feature_matrix[i_pat,:5])\n",
    "        \n",
    "# Per single feature\n",
    "#         for j in range(np.shape(feature_matrix)[1]):\n",
    "#             scaler.fit(feature_matrix[i_pat,j])\n",
    "#             feature_matrix[i_pat,j] = scaler.transform(feature_matrix[i_pat,j])"
   ]
  },
  {
   "cell_type": "markdown",
   "metadata": {},
   "source": [
    "## Divide in 2 sets"
   ]
  },
  {
   "cell_type": "code",
   "execution_count": 37,
   "metadata": {},
   "outputs": [
    {
     "data": {
      "text/plain": [
       "(169634, 9)"
      ]
     },
     "execution_count": 37,
     "metadata": {},
     "output_type": "execute_result"
    }
   ],
   "source": [
    "# Choose percentage (50%, 90/10%, ...)\n",
    "# A_B_limit = int(5000*0.5)\n",
    "A_B_limit = int(5000*0.9)\n",
    "A_idx = np.where(patient < A_B_limit)[0]\n",
    "features_A = feature_matrix[A_idx,:]\n",
    "np.shape(features_A)"
   ]
  },
  {
   "cell_type": "code",
   "execution_count": 38,
   "metadata": {},
   "outputs": [
    {
     "data": {
      "text/plain": [
       "(18819, 9)"
      ]
     },
     "execution_count": 38,
     "metadata": {},
     "output_type": "execute_result"
    }
   ],
   "source": [
    "B_idx = np.where(patient >= A_B_limit)[0]\n",
    "features_B = feature_matrix[B_idx,:]\n",
    "np.shape(features_B)"
   ]
  },
  {
   "cell_type": "code",
   "execution_count": 39,
   "metadata": {},
   "outputs": [
    {
     "name": "stdout",
     "output_type": "stream",
     "text": [
      "0.0 336.0\n",
      "0.0 278.0\n",
      "\n",
      "======  \n",
      "A feature ranges\n",
      "HR 0.0 186.0\n",
      "O2Sat 0.0 100.0\n",
      "SBP 0.0 299.0\n",
      "MAP 0.0 296.0\n",
      "DBP 0.0 296.0\n",
      "Age 16.0 101.0\n",
      "Gender 0.0 1.0\n",
      "HospAdmTime 0.0 8.588184597834516\n",
      "ICULOS 1.0 336.0\n"
     ]
    }
   ],
   "source": [
    "print(np.min(features_A), np.max(features_A))\n",
    "print(np.min(features_B), np.max(features_B))\n",
    "print(\"\\n======  \\nA feature ranges\")\n",
    "for i in range (np.shape(features_A)[1]):\n",
    "    print(s_keys[i], np.min(features_A[:,i]), np.max(features_A[:,i]))"
   ]
  },
  {
   "cell_type": "markdown",
   "metadata": {},
   "source": [
    "## Create an ESN"
   ]
  },
  {
   "cell_type": "markdown",
   "metadata": {},
   "source": [
    "#### Create rand masks (input weight)\n",
    "#### M⊂[-1,1]\n",
    "#### Mb⊂[-1,1]"
   ]
  },
  {
   "cell_type": "code",
   "execution_count": 40,
   "metadata": {},
   "outputs": [],
   "source": [
    "# ESN Paramenters\n",
    "N = 200      # Neurons\n",
    "mem = 0.1    # memory\n",
    "scale = 0.2  # scaling factor"
   ]
  },
  {
   "cell_type": "code",
   "execution_count": 41,
   "metadata": {},
   "outputs": [],
   "source": [
    "# Nonlinear mapping function\n",
    "def sigmoid(x, exponent):\n",
    "    return 1/(1+np.exp(-exponent*x))-0.5\n",
    "\n",
    "def rectify(x, slope):\n",
    "    return slope*np.asarray(x>0, dtype=np.double)*x"
   ]
  },
  {
   "cell_type": "code",
   "execution_count": 42,
   "metadata": {},
   "outputs": [
    {
     "data": {
      "text/plain": [
       "[<matplotlib.lines.Line2D at 0x1e3bec20668>]"
      ]
     },
     "execution_count": 42,
     "metadata": {},
     "output_type": "execute_result"
    },
    {
     "data": {
      "image/png": "[encoded data removed]",
      "text/plain": [
       "<Figure size 432x288 with 1 Axes>"
      ]
     },
     "metadata": {
      "needs_background": "light"
     },
     "output_type": "display_data"
    }
   ],
   "source": [
    "sigmoid_exponent = 1\n",
    "rect_slope = 1\n",
    "func = sigmoid\n",
    "a = np.linspace(-10, 10, 100, False)\n",
    "b = func(a,sigmoid_exponent)\n",
    "plt.plot(a,b)"
   ]
  },
  {
   "cell_type": "code",
   "execution_count": 43,
   "metadata": {},
   "outputs": [
    {
     "name": "stdout",
     "output_type": "stream",
     "text": [
      "(9, 200)\n",
      "(1, 200)\n",
      "-0.9987519861208471 0.9997176745290679\n",
      "-0.9966766992960436 0.9890587699099618\n"
     ]
    }
   ],
   "source": [
    "# Mask parameters\n",
    "M = 2*np.random.rand(np.shape(features_A)[1],N)-1\n",
    "Mb = 2*np.random.rand(1,N)-1\n",
    "print(np.shape(M))\n",
    "print(np.shape(Mb))\n",
    "print(np.min(M), np.max(M))\n",
    "print(np.min(Mb), np.max(Mb))\n"
   ]
  },
  {
   "cell_type": "code",
   "execution_count": 44,
   "metadata": {},
   "outputs": [
    {
     "name": "stdout",
     "output_type": "stream",
     "text": [
      "0.0 336.0\n"
     ]
    }
   ],
   "source": [
    "# Train set features\n",
    "print(np.min(features_A), np.max(features_A))"
   ]
  },
  {
   "cell_type": "code",
   "execution_count": 45,
   "metadata": {},
   "outputs": [
    {
     "name": "stdout",
     "output_type": "stream",
     "text": [
      "(169634, 200)\n",
      "-737.0464938625531 805.8343879563595\n"
     ]
    }
   ],
   "source": [
    "# Create ESN\n",
    "ESN = np.ones((np.shape(features_A)[0],N), dtype=np.double)\n",
    "IN = np.matmul(features_A, M) + np.repeat(Mb, np.shape(features_A)[0], axis=0)\n",
    "print(np.shape(IN))\n",
    "print(np.min(IN), np.max(IN))\n",
    "p = np.zeros((1,N),dtype=np.double)\n",
    "for i in range(np.shape(features_A)[0]):\n",
    "    i\n",
    "    in_val = scale*IN[i,:]+p*mem\n",
    "    ESN[i,:] = func(in_val, sigmoid_exponent) #Apply transform\n",
    "    p = np.copy(np.roll(ESN[i,:],1))"
   ]
  },
  {
   "cell_type": "code",
   "execution_count": 46,
   "metadata": {},
   "outputs": [],
   "source": [
    "# Create ESN \n",
    "def feedESN(features, mask, mask_bias, scale, mem):\n",
    "    ESN = np.ones((np.shape(features)[0],N), dtype=np.double)\n",
    "    IN = np.matmul(features, M) + np.repeat(Mb, np.shape(features)[0], axis=0)\n",
    "    print(np.shape(IN))\n",
    "    print(np.min(IN), np.max(IN))\n",
    "    p = np.zeros((1,N),dtype=np.double)\n",
    "    for i in range(np.shape(features)[0]):\n",
    "        i\n",
    "        in_val = scale*IN[i,:]+p*mem\n",
    "        ESN[i,:] = func(in_val, sigmoid_exponent) #Apply transform\n",
    "        p = np.copy(np.roll(ESN[i,:],1))\n",
    "    return ESN"
   ]
  },
  {
   "cell_type": "code",
   "execution_count": 47,
   "metadata": {},
   "outputs": [
    {
     "name": "stdout",
     "output_type": "stream",
     "text": [
      "(169634, 200)\n",
      "-737.0464938625531 805.8343879563595\n"
     ]
    }
   ],
   "source": [
    "ESN = feedESN(features_A, M, Mb, scale, mem)"
   ]
  },
  {
   "cell_type": "code",
   "execution_count": 48,
   "metadata": {},
   "outputs": [
    {
     "name": "stdout",
     "output_type": "stream",
     "text": [
      "(169634, 200)\n",
      "-0.5 0.5\n"
     ]
    },
    {
     "data": {
      "image/png": "[encoded data removed]",
      "text/plain": [
       "<Figure size 936x720 with 1 Axes>"
      ]
     },
     "metadata": {
      "needs_background": "light"
     },
     "output_type": "display_data"
    }
   ],
   "source": [
    "fig, ax = plt.subplots(figsize=(13,10))\n",
    "ax.matshow((ESN[:1000,:]))\n",
    "ax.set_title(\"ESN \\n\",loc='center')\n",
    "ax.set_xlabel('N')\n",
    "ax.set_ylabel('sample')\n",
    "print(np.shape(ESN))\n",
    "print(np.min(ESN), np.max(ESN))"
   ]
  },
  {
   "cell_type": "markdown",
   "metadata": {},
   "source": [
    "### Training"
   ]
  },
  {
   "cell_type": "code",
   "execution_count": 49,
   "metadata": {},
   "outputs": [
    {
     "name": "stdout",
     "output_type": "stream",
     "text": [
      "(200, 169634)\n"
     ]
    }
   ],
   "source": [
    "ESNinv = np.linalg.pinv(ESN)\n",
    "print(np.shape(ESNinv))"
   ]
  },
  {
   "cell_type": "code",
   "execution_count": 50,
   "metadata": {},
   "outputs": [],
   "source": [
    "ytrain = sepsis_label[A_idx]"
   ]
  },
  {
   "cell_type": "code",
   "execution_count": 51,
   "metadata": {},
   "outputs": [],
   "source": [
    "w = np.matmul(ESNinv, ytrain)\n"
   ]
  },
  {
   "cell_type": "code",
   "execution_count": 52,
   "metadata": {},
   "outputs": [
    {
     "name": "stdout",
     "output_type": "stream",
     "text": [
      "<class 'numpy.ndarray'>\n",
      "<class 'numpy.ndarray'>\n",
      "(169634, 1)\n"
     ]
    }
   ],
   "source": [
    "print(type(ESNinv))\n",
    "print(type(ytrain))\n",
    "print(np.shape(ytrain.reshape(-1,1)))"
   ]
  },
  {
   "cell_type": "code",
   "execution_count": 53,
   "metadata": {},
   "outputs": [
    {
     "data": {
      "text/plain": [
       "[<matplotlib.lines.Line2D at 0x1e3905d94a8>]"
      ]
     },
     "execution_count": 53,
     "metadata": {},
     "output_type": "execute_result"
    },
    {
     "data": {
      "image/png": "[encoded data removed]",
      "text/plain": [
       "<Figure size 432x288 with 1 Axes>"
      ]
     },
     "metadata": {
      "needs_background": "light"
     },
     "output_type": "display_data"
    }
   ],
   "source": [
    "plt.plot(w)"
   ]
  },
  {
   "cell_type": "code",
   "execution_count": 54,
   "metadata": {},
   "outputs": [
    {
     "data": {
      "text/plain": [
       "[<matplotlib.lines.Line2D at 0x1e39063b518>]"
      ]
     },
     "execution_count": 54,
     "metadata": {},
     "output_type": "execute_result"
    },
    {
     "data": {
      "image/png": "[encoded data removed]",
      "text/plain": [
       "<Figure size 432x288 with 1 Axes>"
      ]
     },
     "metadata": {
      "needs_background": "light"
     },
     "output_type": "display_data"
    }
   ],
   "source": [
    "plt.plot(ytrain)"
   ]
  },
  {
   "cell_type": "code",
   "execution_count": 55,
   "metadata": {},
   "outputs": [
    {
     "data": {
      "text/plain": [
       "[<matplotlib.lines.Line2D at 0x1e39069ab00>]"
      ]
     },
     "execution_count": 55,
     "metadata": {},
     "output_type": "execute_result"
    },
    {
     "data": {
      "image/png": "[encoded data removed]",
      "text/plain": [
       "<Figure size 432x288 with 1 Axes>"
      ]
     },
     "metadata": {
      "needs_background": "light"
     },
     "output_type": "display_data"
    }
   ],
   "source": [
    "class_threshold = 0.08\n",
    "Y_pred = np.asarray(np.matmul(ESN,w)>class_threshold,dtype=np.double)\n",
    "plt.plot(Y_pred)"
   ]
  },
  {
   "cell_type": "code",
   "execution_count": 56,
   "metadata": {},
   "outputs": [
    {
     "data": {
      "text/plain": [
       "[<matplotlib.lines.Line2D at 0x1e3906fda58>]"
      ]
     },
     "execution_count": 56,
     "metadata": {},
     "output_type": "execute_result"
    },
    {
     "data": {
      "image/png": "[encoded data removed]",
      "text/plain": [
       "<Figure size 432x288 with 1 Axes>"
      ]
     },
     "metadata": {
      "needs_background": "light"
     },
     "output_type": "display_data"
    }
   ],
   "source": [
    "plt.plot(np.matmul(ESN,w))"
   ]
  },
  {
   "cell_type": "code",
   "execution_count": 57,
   "metadata": {},
   "outputs": [
    {
     "name": "stdout",
     "output_type": "stream",
     "text": [
      "164258 3011\n",
      "1902 463\n",
      "0.9710376457549784\n"
     ]
    }
   ],
   "source": [
    "#Creating the confusion Matrix\n",
    "from sklearn.metrics import confusion_matrix\n",
    "from sklearn.metrics import accuracy_score\n",
    "cm = confusion_matrix(ytrain, Y_pred)\n",
    "print(cm[0,0],cm[0,1])\n",
    "print(cm[1,0],cm[1,1])\n",
    "print(accuracy_score(ytrain, Y_pred))"
   ]
  },
  {
   "cell_type": "markdown",
   "metadata": {},
   "source": [
    "### Testing"
   ]
  },
  {
   "cell_type": "code",
   "execution_count": 58,
   "metadata": {},
   "outputs": [
    {
     "name": "stdout",
     "output_type": "stream",
     "text": [
      "(18819, 200)\n",
      "-719.956468107331 771.0734823833122\n"
     ]
    }
   ],
   "source": [
    "ESNtest = feedESN(features_B, M, Mb, scale, mem)"
   ]
  },
  {
   "cell_type": "code",
   "execution_count": 59,
   "metadata": {},
   "outputs": [
    {
     "data": {
      "text/plain": [
       "[<matplotlib.lines.Line2D at 0x1e390c23d30>]"
      ]
     },
     "execution_count": 59,
     "metadata": {},
     "output_type": "execute_result"
    },
    {
     "data": {
      "image/png": "[encoded data removed]",
      "text/plain": [
       "<Figure size 432x288 with 1 Axes>"
      ]
     },
     "metadata": {
      "needs_background": "light"
     },
     "output_type": "display_data"
    }
   ],
   "source": [
    "ytest = sepsis_label[B_idx]\n",
    "plt.plot(ytest)"
   ]
  },
  {
   "cell_type": "code",
   "execution_count": 60,
   "metadata": {},
   "outputs": [
    {
     "data": {
      "text/plain": [
       "[<matplotlib.lines.Line2D at 0x1e390c8d208>]"
      ]
     },
     "execution_count": 60,
     "metadata": {},
     "output_type": "execute_result"
    },
    {
     "data": {
      "image/png": "[encoded data removed]",
      "text/plain": [
       "<Figure size 432x288 with 1 Axes>"
      ]
     },
     "metadata": {
      "needs_background": "light"
     },
     "output_type": "display_data"
    }
   ],
   "source": [
    "Y_pred = np.asarray(np.matmul(ESNtest,w)>class_threshold,dtype=np.double)\n",
    "plt.plot(Y_pred)"
   ]
  },
  {
   "cell_type": "code",
   "execution_count": 63,
   "metadata": {},
   "outputs": [
    {
     "name": "stdout",
     "output_type": "stream",
     "text": [
      "18255 306\n",
      "203 55\n",
      "0.9729528667835698\n"
     ]
    }
   ],
   "source": [
    "#Creating the confusion Matrix\n",
    "from sklearn.metrics import confusion_matrix\n",
    "from sklearn.metrics import accuracy_score\n",
    "from sklearn.metrics import roc_curve\n",
    "from sklearn.metrics import roc_auc_score\n",
    "cm = confusion_matrix(ytest, Y_pred)\n",
    "print(cm[0,0],cm[0,1])\n",
    "print(cm[1,0],cm[1,1])\n",
    "print(accuracy_score(ytest, Y_pred))"
   ]
  },
  {
   "cell_type": "code",
   "execution_count": 64,
   "metadata": {},
   "outputs": [
    {
     "data": {
      "text/plain": [
       "[<matplotlib.lines.Line2D at 0x1e3927cdda0>]"
      ]
     },
     "execution_count": 64,
     "metadata": {},
     "output_type": "execute_result"
    },
    {
     "data": {
      "image/png": "[encoded data removed]",
      "text/plain": [
       "<Figure size 432x288 with 1 Axes>"
      ]
     },
     "metadata": {
      "needs_background": "light"
     },
     "output_type": "display_data"
    }
   ],
   "source": [
    "fpr, tpr, thresholds = roc_curve(ytest, np.asarray(np.matmul(ESNtest,w)))\n",
    "plt.plot(fpr,tpr)\n"
   ]
  },
  {
   "cell_type": "code",
   "execution_count": 65,
   "metadata": {},
   "outputs": [
    {
     "data": {
      "text/plain": [
       "array([ 1.32879358e+00,  3.28793583e-01,  2.08502635e-01,  1.97870008e-01,\n",
       "        1.94751047e-01,  1.76934021e-01,  1.76006265e-01,  1.75683911e-01,\n",
       "        1.74769515e-01,  1.74121045e-01,  1.69402129e-01,  1.68804012e-01,\n",
       "        1.68555010e-01,  1.67619420e-01,  1.62241536e-01,  1.41810909e-01,\n",
       "        1.41616457e-01,  1.41427694e-01,  1.41381273e-01,  1.33441228e-01,\n",
       "        1.33027761e-01,  1.31630424e-01,  1.30888525e-01,  1.30316596e-01,\n",
       "        1.29984228e-01,  1.27701190e-01,  1.27284399e-01,  1.19215695e-01,\n",
       "        1.19165643e-01,  1.15999737e-01,  1.15820252e-01,  1.09691809e-01,\n",
       "        1.09673964e-01,  1.05845907e-01,  1.05598542e-01,  1.03809754e-01,\n",
       "        1.03600804e-01,  1.02729105e-01,  1.02285610e-01,  1.01189617e-01,\n",
       "        1.01058866e-01,  1.00629408e-01,  1.00583157e-01,  9.91518828e-02,\n",
       "        9.91367170e-02,  9.89884603e-02,  9.87451702e-02,  9.80955299e-02,\n",
       "        9.80693431e-02,  9.80519331e-02,  9.77286939e-02,  9.57309092e-02,\n",
       "        9.51012853e-02,  9.45597033e-02,  9.45276379e-02,  9.40546079e-02,\n",
       "        9.39911179e-02,  9.37464905e-02,  9.34579407e-02,  9.28505006e-02,\n",
       "        9.23995770e-02,  9.12179279e-02,  9.10308798e-02,  8.99388930e-02,\n",
       "        8.96741561e-02,  8.94200442e-02,  8.93761261e-02,  8.92357347e-02,\n",
       "        8.91599443e-02,  8.88350476e-02,  8.88177553e-02,  8.85842962e-02,\n",
       "        8.85805493e-02,  8.77137985e-02,  8.76236547e-02,  8.66266777e-02,\n",
       "        8.63951299e-02,  8.55629045e-02,  8.55430859e-02,  8.48621217e-02,\n",
       "        8.46404678e-02,  8.31826357e-02,  8.31077437e-02,  8.13110980e-02,\n",
       "        8.11630087e-02,  8.03071978e-02,  8.00575408e-02,  7.62811648e-02,\n",
       "        7.62474582e-02,  7.44926530e-02,  7.43014447e-02,  7.29424628e-02,\n",
       "        7.27967452e-02,  6.73586554e-02,  6.70016325e-02,  6.64995356e-02,\n",
       "        6.62981241e-02,  6.06997205e-02,  6.06686328e-02,  5.91525886e-02,\n",
       "        5.90939270e-02,  5.72139592e-02,  5.70975845e-02,  5.01374973e-02,\n",
       "        5.01107088e-02,  5.00701306e-02,  5.00615785e-02,  4.94777641e-02,\n",
       "        4.94641581e-02,  4.91208634e-02,  4.91019762e-02,  4.82007114e-02,\n",
       "        4.80526253e-02,  4.76616343e-02,  4.75262602e-02,  4.71560835e-02,\n",
       "        4.71322835e-02,  4.69285392e-02,  4.69150370e-02,  4.51050287e-02,\n",
       "        4.50348337e-02,  4.49354103e-02,  4.49219740e-02,  4.39354547e-02,\n",
       "        4.39216713e-02,  4.31587769e-02,  4.31443168e-02,  4.29995007e-02,\n",
       "        4.29877605e-02,  4.18994180e-02,  4.18884540e-02,  4.18568110e-02,\n",
       "        4.18430625e-02,  4.15262262e-02,  4.14868849e-02,  4.14344983e-02,\n",
       "        4.14013902e-02,  4.02602382e-02,  4.02530596e-02,  3.96674013e-02,\n",
       "        3.96643791e-02,  3.94586041e-02,  3.93990096e-02,  3.80647357e-02,\n",
       "        3.80612837e-02,  3.77457236e-02,  3.77361572e-02,  3.75116287e-02,\n",
       "        3.75060737e-02,  3.69714659e-02,  3.69679905e-02,  3.64963212e-02,\n",
       "        3.64899870e-02,  3.63441051e-02,  3.63390263e-02,  3.54999198e-02,\n",
       "        3.54935513e-02,  3.48815603e-02,  3.48778546e-02,  3.47689477e-02,\n",
       "        3.47688588e-02,  3.37029055e-02,  3.37026029e-02,  3.34164127e-02,\n",
       "        3.33930873e-02,  3.28537150e-02,  3.28426101e-02,  3.23561885e-02,\n",
       "        3.23525523e-02,  2.98701290e-02,  2.98619690e-02,  2.98119978e-02,\n",
       "        2.98051366e-02,  2.92571093e-02,  2.92538756e-02,  2.90598310e-02,\n",
       "        2.90463248e-02,  2.90344220e-02,  2.90309547e-02,  2.81705606e-02,\n",
       "        2.81677474e-02,  2.77431956e-02,  2.77283184e-02,  2.76513519e-02,\n",
       "        2.76451991e-02,  2.68295220e-02,  2.68230288e-02,  2.63743947e-02,\n",
       "        2.63640432e-02,  2.54796707e-02,  2.54792472e-02,  2.51534265e-02,\n",
       "        2.51291863e-02,  2.50328510e-02,  2.50249342e-02,  2.49851018e-02,\n",
       "        2.49793532e-02,  2.46514637e-02,  2.46512763e-02,  2.43892015e-02,\n",
       "        2.43749825e-02,  2.31890359e-02,  2.31869501e-02,  2.29102194e-02,\n",
       "        2.29082172e-02,  2.28771051e-02,  2.28757417e-02,  2.24577397e-02,\n",
       "        2.24575379e-02,  2.17628767e-02,  2.17512550e-02,  2.17454866e-02,\n",
       "        2.17424712e-02,  2.13141824e-02,  2.13130491e-02,  2.11333788e-02,\n",
       "        2.11298725e-02,  2.01026363e-02,  2.00913190e-02,  2.00461260e-02,\n",
       "        2.00444036e-02,  1.96681494e-02,  1.96642891e-02,  1.95403162e-02,\n",
       "        1.95271732e-02,  1.93865162e-02,  1.93758958e-02,  1.92137228e-02,\n",
       "        1.92131569e-02,  1.86054078e-02,  1.86009132e-02,  1.80741539e-02,\n",
       "        1.80696942e-02,  1.80078023e-02,  1.80070671e-02,  1.78933193e-02,\n",
       "        1.78918803e-02,  1.77391585e-02,  1.77338719e-02,  1.75584519e-02,\n",
       "        1.75566555e-02,  1.74964637e-02,  1.74923289e-02,  1.73890043e-02,\n",
       "        1.73878745e-02,  1.68326738e-02,  1.68310970e-02,  1.61721853e-02,\n",
       "        1.61700681e-02,  1.61294183e-02,  1.61243453e-02,  1.59484042e-02,\n",
       "        1.59407549e-02,  1.57939541e-02,  1.57938737e-02,  1.56258172e-02,\n",
       "        1.56255422e-02,  1.54153929e-02,  1.54139928e-02,  1.49674244e-02,\n",
       "        1.49668034e-02,  1.49579351e-02,  1.49572440e-02,  1.48376576e-02,\n",
       "        1.48354829e-02,  1.47556536e-02,  1.47552077e-02,  1.47107039e-02,\n",
       "        1.47087687e-02,  1.46351527e-02,  1.46346776e-02,  1.45314968e-02,\n",
       "        1.45266804e-02,  1.44228321e-02,  1.44226453e-02,  1.41539403e-02,\n",
       "        1.41508302e-02,  1.40339608e-02,  1.40324322e-02,  1.39412445e-02,\n",
       "        1.39397624e-02,  1.37140336e-02,  1.37137172e-02,  1.36797995e-02,\n",
       "        1.36794403e-02,  1.32469194e-02,  1.32444074e-02,  1.32103341e-02,\n",
       "        1.32097570e-02,  1.28177178e-02,  1.28173253e-02,  1.27675046e-02,\n",
       "        1.27653147e-02,  1.25430024e-02,  1.25421841e-02,  1.23986957e-02,\n",
       "        1.23971405e-02,  1.21034199e-02,  1.20978786e-02,  1.18890338e-02,\n",
       "        1.18889831e-02,  1.17078075e-02,  1.17072952e-02,  1.16831106e-02,\n",
       "        1.16828646e-02,  1.15717340e-02,  1.15705577e-02,  1.15140239e-02,\n",
       "        1.15140076e-02,  1.12489566e-02,  1.12489218e-02,  1.10436272e-02,\n",
       "        1.10426067e-02,  1.02015782e-02,  1.02007614e-02,  1.00736585e-02,\n",
       "        1.00734334e-02,  1.00464717e-02,  1.00450042e-02,  9.95583016e-03,\n",
       "        9.95551564e-03,  9.85754792e-03,  9.85169675e-03,  9.77913980e-03,\n",
       "        9.77834561e-03,  9.55411609e-03,  9.55406179e-03,  9.46085599e-03,\n",
       "        9.46058578e-03,  9.28759586e-03,  9.28751900e-03,  9.28489727e-03,\n",
       "        9.28383788e-03,  9.17407373e-03,  9.17309777e-03,  8.99652433e-03,\n",
       "        8.99642967e-03,  8.86304790e-03,  8.86123983e-03,  8.74928121e-03,\n",
       "        8.74810879e-03,  8.26619564e-03,  8.26484979e-03,  8.19684317e-03,\n",
       "        8.19682783e-03,  8.12282798e-03,  8.11903854e-03,  7.99551335e-03,\n",
       "        7.99435859e-03,  7.89288441e-03,  7.89020809e-03,  7.66223594e-03,\n",
       "        7.65825617e-03,  7.65318770e-03,  7.65265120e-03,  7.40107999e-03,\n",
       "        7.40039828e-03,  7.24295946e-03,  7.23822468e-03,  6.87982452e-03,\n",
       "        6.87975481e-03,  6.70954766e-03,  6.70921180e-03,  6.64161020e-03,\n",
       "        6.64008706e-03,  6.53148628e-03,  6.52595708e-03,  6.43390304e-03,\n",
       "        6.43334442e-03,  6.23764329e-03,  6.23558874e-03,  5.99224889e-03,\n",
       "        5.99176325e-03,  5.95003638e-03,  5.94996579e-03,  5.67741992e-03,\n",
       "        5.67605968e-03,  5.52641313e-03,  5.52519746e-03,  5.08903421e-03,\n",
       "        5.08899654e-03,  5.08534156e-03,  5.08511622e-03,  4.78661939e-03,\n",
       "        4.78576880e-03,  4.75493979e-03,  4.75441123e-03,  4.65524069e-03,\n",
       "        4.65500349e-03,  3.90049395e-03,  3.89879109e-03,  3.86827615e-03,\n",
       "        3.86699003e-03,  3.66518007e-03,  3.66506852e-03,  3.59149106e-03,\n",
       "        3.59136174e-03,  3.24457835e-03,  3.24439830e-03,  3.13424389e-03,\n",
       "        3.13330859e-03,  3.05701846e-03,  3.05690968e-03,  2.80247547e-03,\n",
       "        2.79896911e-03,  2.51127556e-03,  2.51008024e-03,  2.44498880e-03,\n",
       "        2.44343963e-03,  2.22992384e-03,  2.22888941e-03,  2.02280921e-03,\n",
       "        2.02145351e-03,  1.71239948e-03,  1.71151312e-03,  1.69353878e-03,\n",
       "        1.69040708e-03,  1.53646816e-03,  1.53644643e-03,  1.47891518e-03,\n",
       "        1.47763002e-03,  1.37646162e-03,  1.37373873e-03,  1.28558927e-03,\n",
       "        1.28337272e-03,  1.17182833e-03,  1.17173399e-03,  9.88184642e-04,\n",
       "        9.84671383e-04,  6.30986501e-04,  6.30705580e-04,  5.80919605e-04,\n",
       "        5.80701669e-04,  3.96751272e-04,  3.92258333e-04,  1.82365639e-05,\n",
       "        1.77559817e-05, -7.12012792e-05, -7.60193147e-05, -4.76532725e-04,\n",
       "       -4.77085111e-04, -7.06217012e-04, -7.07221259e-04, -7.48427369e-04,\n",
       "       -7.49337459e-04, -1.17430621e-03, -1.18117250e-03, -1.47847306e-03,\n",
       "       -1.47863778e-03, -1.69091115e-03, -1.69536203e-03, -2.77838497e-03,\n",
       "       -2.78104737e-03, -2.83378018e-03, -2.84072021e-03, -2.94218427e-03,\n",
       "       -2.94611383e-03, -3.54458876e-03, -3.54509063e-03, -4.61225169e-03,\n",
       "       -4.62135070e-03, -4.82023640e-03, -4.82711765e-03, -4.91125559e-03,\n",
       "       -4.93443141e-03, -5.13185417e-03, -5.13823192e-03, -5.15790619e-03,\n",
       "       -5.15964043e-03, -5.25067664e-03, -5.26390815e-03, -5.48666824e-03,\n",
       "       -5.54401168e-03, -6.25074180e-03, -6.25736767e-03, -6.33261736e-03,\n",
       "       -6.34982054e-03, -1.06269766e-02, -1.06366906e-02, -1.51633830e-02,\n",
       "       -1.51769292e-02, -1.59892177e-02, -1.61123316e-02, -4.15816148e-02,\n",
       "       -4.20374570e-02, -1.42973866e-01])"
      ]
     },
     "execution_count": 65,
     "metadata": {},
     "output_type": "execute_result"
    }
   ],
   "source": [
    "thresholds"
   ]
  },
  {
   "cell_type": "code",
   "execution_count": 66,
   "metadata": {},
   "outputs": [
    {
     "data": {
      "text/plain": [
       "0.6652138830731604"
      ]
     },
     "execution_count": 66,
     "metadata": {},
     "output_type": "execute_result"
    }
   ],
   "source": [
    "auc = roc_auc_score(ytest, np.asarray(np.matmul(ESNtest,w)))\n",
    "auc"
   ]
  },
  {
   "cell_type": "code",
   "execution_count": null,
   "metadata": {},
   "outputs": [],
   "source": [
    "# # Blind random permutation comparison\n",
    "# Y_pred_rand = Y_pred[np.random.permutation(len(ytest))]\n",
    "# cm = confusion_matrix(ytest, Y_pred_rand)\n",
    "# print(cm[0,0],cm[0,1])\n",
    "# print(cm[1,0],cm[1,1])\n",
    "# print(accuracy_score(ytest, Y_pred_rand))"
   ]
  },
  {
   "cell_type": "markdown",
   "metadata": {},
   "source": [
    "### Report"
   ]
  },
  {
   "cell_type": "code",
   "execution_count": 68,
   "metadata": {},
   "outputs": [
    {
     "name": "stdout",
     "output_type": "stream",
     "text": [
      "not norm\n",
      "func:  <function sigmoid at 0x000001E3B995E620>\n",
      "func_argument:  1 1\n",
      "mem:  0.1\n",
      "scale:  0.2\n",
      "auc:  0.6652138830731604\n"
     ]
    }
   ],
   "source": [
    "# Report config\n",
    "if norm_feat_pat:\n",
    "    print (\"norm\")\n",
    "    print(scaler)\n",
    "else: \n",
    "    print(\"not norm\")\n",
    "print(\"func: \", func)\n",
    "print(\"func_argument: \", sigmoid_exponent, rect_slope)\n",
    "print(\"mem: \", mem)\n",
    "print(\"scale: \", scale)\n",
    "print(\"auc: \", auc)\n"
   ]
  },
  {
   "cell_type": "code",
   "execution_count": null,
   "metadata": {},
   "outputs": [],
   "source": []
  }
 ],
 "metadata": {
  "kernelspec": {
   "display_name": "Python 3",
   "language": "python",
   "name": "python3"
  },
  "language_info": {
   "codemirror_mode": {
    "name": "ipython",
    "version": 3
   },
   "file_extension": ".py",
   "mimetype": "text/x-python",
   "name": "python",
   "nbconvert_exporter": "python",
   "pygments_lexer": "ipython3",
   "version": "3.7.1"
  }
 },
 "nbformat": 4,
 "nbformat_minor": 2
}

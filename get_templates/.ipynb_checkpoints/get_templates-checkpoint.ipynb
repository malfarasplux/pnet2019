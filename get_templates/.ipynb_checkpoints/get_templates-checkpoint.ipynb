{
 "cells": [
  {
   "cell_type": "code",
   "execution_count": null,
   "metadata": {},
   "outputs": [],
   "source": [
    "#!/usr/bin/env python3\n",
    "# -*- coding: utf-8 -*-\n",
    "\n",
    "## Config\n",
    "dataset = \"training_AB\"\n",
    "path = \"../\" + dataset +\"/\"\n",
    "kfold_split = 10\n",
    "nan_to_neg = True\n",
    "biased_regress = True\n",
    "normal_equations = True\n",
    "mm = False\n",
    "std = False\n",
    "numpy_load = True\n",
    "nanfill = False\n",
    "\n",
    "## ESN parameters\n",
    "N_def = 100           # Neurons\n",
    "scale_def = 0.50      # scaling\n",
    "mem_def = 0.50        # memory\n",
    "exponent_def = 1.0    # sigmoid exponent\n",
    "\n",
    "# Script name struct for report\n",
    "script_name = 'ESNtrainCV'\n",
    "name_struct_meta = \"_N_scale_mem\"\n",
    "name_struct = '_{:03d}_{:1.3f}_{:1.3f}'.format(N_def, scale_def, mem_def)\n",
    "\n",
    "## Imports\n",
    "import numpy as np\n",
    "import os\n",
    "from sklearn.preprocessing import MinMaxScaler\n",
    "from sklearn.preprocessing import StandardScaler\n",
    "from sklearn.model_selection import GroupKFold\n",
    "from sklearn.model_selection import KFold\n",
    "from sklearn.model_selection import StratifiedKFold\n",
    "from sklearn.utils import shuffle\n",
    "from sklearn.metrics import confusion_matrix\n",
    "from sklearn.metrics import accuracy_score\n",
    "from sklearn.metrics import precision_score\n",
    "from sklearn.metrics import recall_score\n",
    "from sklearn.metrics import roc_curve\n",
    "from sklearn.metrics import roc_auc_score\n",
    "from sklearn.metrics import f1_score\n",
    "#import matplotlib.pyplot as plt\n",
    "import ESNtools\n",
    "\n",
    "# Fix boundary nans (replicate head/tail vals)\n",
    "def nan_bounds(feats):\n",
    "    nanidx = np.where(np.isnan(feats))[0]\n",
    "    pointer_left = 0\n",
    "    pointer_right = len(feats)-1\n",
    "    fix_left = pointer_left in nanidx\n",
    "    fix_right = pointer_right in nanidx\n",
    "    while fix_left:\n",
    "        if pointer_left in nanidx:\n",
    "            pointer_left += 1\n",
    "            # print(\"pointer_left:\", pointer_left)\n",
    "        else:\n",
    "            val_left = feats[pointer_left]\n",
    "            feats[:pointer_left] = val_left*np.ones((1,pointer_left),dtype=np.float)\n",
    "            fix_left = False\n",
    "\n",
    "    while fix_right:\n",
    "        if pointer_right in nanidx:\n",
    "            pointer_right -= 1\n",
    "            # print(\"pointer_right:\", pointer_right)\n",
    "        else:\n",
    "            val_right = feats[pointer_right]\n",
    "            feats[pointer_right+1:] = val_right*np.ones((1,len(feats)-pointer_right-1),dtype=np.float)\n",
    "            fix_right = False \n",
    "        \n",
    "# nan interpolation\n",
    "def nan_interpolate(feats):\n",
    "    nanidx = np.where(np.isnan(feats))[0]\n",
    "    nan_remain = len(nanidx)\n",
    "    nanid = 0\n",
    "    while nan_remain > 0:\n",
    "        nanpos = nanidx[nanid] \n",
    "        nanval = feats[nanpos-1]\n",
    "        nan_remain -= 1\n",
    "\n",
    "        nandim = 1\n",
    "        initpos = nanpos\n",
    "\n",
    "        # Check whether it extends\n",
    "        while nanpos+1 in nanidx:\n",
    "            nanpos += 1\n",
    "            nanid += 1\n",
    "            nan_remain -= 1\n",
    "            nandim += 1\n",
    "            # Average sides\n",
    "            if np.isfinite(feats[nanpos+1]):\n",
    "                nanval = 0.5 * (nanval + feats[nanpos+1])\n",
    "\n",
    "        # Single value average    \n",
    "        if nandim == 1:\n",
    "            nanval = 0.5 * (nanval + feats[nanpos+1])\n",
    "        feats[initpos:initpos+nandim] = nanval*np.ones((1,nandim),dtype=np.double)\n",
    "        nanpos += 1\n",
    "        nanid += 1    \n",
    "\n",
    "## Read data functions\n",
    "def read_challenge_data(input_file, return_header = False):\n",
    "    with open(input_file, 'r') as f:\n",
    "        header = f.readline().strip()\n",
    "        column_names = header.split('|')\n",
    "        data = np.loadtxt(f, delimiter='|')\n",
    "\n",
    "    # ignore SepsisLabel column if present\n",
    "    if column_names[-1] == 'SepsisLabel':\n",
    "        column_names = column_names[:-1]\n",
    "        data = data[:, :-1]\n",
    "    return (data)\n",
    "\n",
    "def read_challenge_data_label(input_file, return_header = False):\n",
    "    with open(input_file, 'r') as f:\n",
    "        header = f.readline().strip()\n",
    "        column_names = header.split('|')\n",
    "        data = np.loadtxt(f, delimiter='|')\n",
    "\n",
    "    # ignore SepsisLabel column if present\n",
    "    if column_names[-1] == 'SepsisLabel':\n",
    "        sep_lab = data[:,-1] \n",
    "        column_names = column_names[:-1]\n",
    "        data = data[:, :-1]\n",
    "    if return_header:\n",
    "        return (data, sep_lab, column_names)\n",
    "\n",
    "    else:\n",
    "        return (data, sep_lab)\n",
    "\n",
    "## Get sepsis patients\n",
    "def get_sepsis_patients(sepsis_label, patient):\n",
    "    patient_sep = np.zeros(len(sepsis_label),dtype=np.int)\n",
    "    for i in range(n):\n",
    "        i_pat = np.where(patient==i)[0]\n",
    "        patient_sep[i_pat] = int(np.sum(sepsis_label[i_pat])>0)*np.ones(len(i_pat), dtype=np.int)\n",
    "        \n",
    "    patient_sep_idx = np.where(patient_sep!=0)[0]\n",
    "    patient_healthy_idx = np.where(patient_sep==0)[0]\n",
    "    return patient_sep, patient_sep_idx, patient_healthy_idx\n",
    "\n",
    "\n",
    "## Random seed\n",
    "np.random.seed(seed=0)\n",
    "\n",
    "## Create the feature matrix\n",
    "features = []\n",
    "patient = []\n",
    "sepsis_label = []\n",
    "dataloaded = False\n",
    "\n",
    "\n",
    "## Read data \n",
    "if not numpy_load:\n",
    "    ## Folder and files\n",
    "    fnames = os.listdir(path)  \n",
    "    fnames.sort()\n",
    "    if 'README.md' in fnames:\n",
    "        fnames.remove('README.md')\n",
    "    print('last file: ', fnames[-1])\n",
    "    \n",
    "    n = len(fnames)\n",
    "    print(n, ' files present')\n",
    "    \n",
    "    ## read data\n",
    "    for i in range(n):\n",
    "        input_file = os.path.join(path, fnames[i])\n",
    "        if i ==0:\n",
    "            data, sep_lab, columns = read_challenge_data_label(input_file, return_header=True)\n",
    "        else: \n",
    "            data, sep_lab = read_challenge_data_label(input_file)\n",
    "        features.append(data)\n",
    "        sepsis_label.append(sep_lab)\n",
    "        pat = i * np.ones((sep_lab.shape), dtype=np.int)\n",
    "        patient.append(pat)\n",
    "\n",
    "    feature_matrix = np.concatenate(features)\n",
    "    del(features)\n",
    "    sepsis_label = np.concatenate(sepsis_label)\n",
    "    patient = np.concatenate(patient)\n",
    "    dataloaded = True\n",
    "    \n",
    "else:\n",
    "\n",
    "    \n",
    "    npyfilename = \"../npy/\" + dataset + \"_patient.npy\"\n",
    "    patient = np.load(npyfilename)\n",
    "    print(npyfilename, \" loaded\")\n",
    "    npyfilename = \"../npy/\" + dataset + \"_Y.npy\"\n",
    "    sepsis_label = np.load(npyfilename)\n",
    "    print(npyfilename, \" loaded\")\n",
    "\n",
    "#ADD nanfill tag\n",
    "    if nanfill:\n",
    "        dataset = dataset + \"_nanfill\"    \n",
    "    \n",
    "    if mm:\n",
    "        npyfilename = \"../npy/\" + dataset + \"_mm.npy\"\n",
    "        mm = False\n",
    "        print(npyfilename, '(mm) to be loaded')\n",
    "\n",
    "    else:\n",
    "        npyfilename = \"../npy/\" + dataset + \".npy\"\n",
    "        print(npyfilename, '(not mm) to be loaded')\n",
    "\n",
    "    n = len(np.unique(patient))\n",
    "    print(n, ' files present')\n",
    "    \n",
    "    dataloaded = True\n",
    "    feature_matrix = np.load(npyfilename)\n",
    "\n",
    "##Flatten patient\n",
    "patient = patient.flatten()\n",
    "\n",
    "## Separate pointers\n",
    "feature_phys = feature_matrix[:,:-6]    ## Physiology\n",
    "feature_demog = feature_matrix[:,-6:]   ## Demographics\n",
    "\n"
   ]
  },
  {
   "cell_type": "code",
   "execution_count": null,
   "metadata": {},
   "outputs": [],
   "source": [
    "np.shape(feature_matrix)"
   ]
  },
  {
   "cell_type": "code",
   "execution_count": null,
   "metadata": {},
   "outputs": [],
   "source": [
    "patient_sep, patient_sep_idx, patient_healthy_idx = get_sepsis_patients(sepsis_label, patient)"
   ]
  },
  {
   "cell_type": "code",
   "execution_count": null,
   "metadata": {},
   "outputs": [],
   "source": [
    "len(patient_sep)"
   ]
  },
  {
   "cell_type": "code",
   "execution_count": null,
   "metadata": {},
   "outputs": [],
   "source": [
    "len(feature_matrix)"
   ]
  },
  {
   "cell_type": "code",
   "execution_count": null,
   "metadata": {},
   "outputs": [],
   "source": [
    "len(patient_sep_idx)"
   ]
  },
  {
   "cell_type": "code",
   "execution_count": null,
   "metadata": {},
   "outputs": [],
   "source": [
    "np.where(patient_sep!=0)[0]"
   ]
  },
  {
   "cell_type": "code",
   "execution_count": null,
   "metadata": {},
   "outputs": [],
   "source": [
    "np.sum(sepsis_label[patient_healthy_idx])"
   ]
  },
  {
   "cell_type": "code",
   "execution_count": null,
   "metadata": {},
   "outputs": [],
   "source": [
    "len(patient_sep_idx)"
   ]
  },
  {
   "cell_type": "code",
   "execution_count": null,
   "metadata": {},
   "outputs": [],
   "source": [
    "len(patient_healthy_idx)"
   ]
  },
  {
   "cell_type": "code",
   "execution_count": null,
   "metadata": {},
   "outputs": [],
   "source": [
    "len(patient_sep_idx)+len(patient_healthy_idx)"
   ]
  },
  {
   "cell_type": "code",
   "execution_count": null,
   "metadata": {},
   "outputs": [],
   "source": [
    "import matplotlib.pyplot as plt\n",
    "%matplotlib inline\n"
   ]
  },
  {
   "cell_type": "code",
   "execution_count": null,
   "metadata": {},
   "outputs": [],
   "source": [
    "plt.plot(sepsis_label[patient_healthy_idx])"
   ]
  },
  {
   "cell_type": "code",
   "execution_count": null,
   "metadata": {},
   "outputs": [],
   "source": [
    "plt.plot(sepsis_label[patient_sep_idx])"
   ]
  },
  {
   "cell_type": "code",
   "execution_count": null,
   "metadata": {},
   "outputs": [],
   "source": [
    "patient[:6]"
   ]
  },
  {
   "cell_type": "code",
   "execution_count": null,
   "metadata": {},
   "outputs": [],
   "source": [
    "## Get sepsis patients\n",
    "def get_sepsis_patients(sepsis_label, patient):\n",
    "    patient_sep = np.zeros(len(sepsis_label),dtype=np.int)\n",
    "    for i in range(n):\n",
    "        i_pat = np.where(patient==i)[0]\n",
    "        patient_sep[i_pat] = int(np.sum(sepsis_label[i_pat])>0)*np.ones(len(i_pat), dtype=np.int)\n",
    "        \n",
    "    patient_sep_idx = np.where(patient_sep!=0)[0]\n",
    "    patient_healthy_idx = np.where(patient_sep==0)[0]\n",
    "    return patient_sep, patient_sep_idx, patient_healthy_idx\n",
    "\n"
   ]
  },
  {
   "cell_type": "code",
   "execution_count": null,
   "metadata": {},
   "outputs": [],
   "source": [
    "patient[np.where(patient_sep==0)[0]]"
   ]
  },
  {
   "cell_type": "code",
   "execution_count": null,
   "metadata": {},
   "outputs": [],
   "source": [
    "np.where(patient_sep==0)[0]"
   ]
  },
  {
   "cell_type": "code",
   "execution_count": null,
   "metadata": {},
   "outputs": [],
   "source": [
    "plt.plot(sepsis_label[np.where(patient_sep!=0)[0]])"
   ]
  },
  {
   "cell_type": "code",
   "execution_count": null,
   "metadata": {},
   "outputs": [],
   "source": [
    "healthy_patient_list =  np.unique(patient[patient_healthy_idx])"
   ]
  },
  {
   "cell_type": "code",
   "execution_count": null,
   "metadata": {},
   "outputs": [],
   "source": [
    "sep_patient_list =  np.unique(patient[patient_sep_idx])"
   ]
  },
  {
   "cell_type": "code",
   "execution_count": null,
   "metadata": {},
   "outputs": [],
   "source": [
    "sep_patient_list"
   ]
  },
  {
   "cell_type": "code",
   "execution_count": null,
   "metadata": {},
   "outputs": [],
   "source": [
    "i_pat = np.where(patient==healthy_patient_list[0])[0]\n",
    "i_pat"
   ]
  },
  {
   "cell_type": "code",
   "execution_count": null,
   "metadata": {},
   "outputs": [],
   "source": [
    "\n",
    "(np.nanmean(feature_matrix[i_pat,:], axis=0))"
   ]
  },
  {
   "cell_type": "code",
   "execution_count": null,
   "metadata": {},
   "outputs": [],
   "source": [
    "np.hstack((np.nanmean(feature_phys[i_pat,:], axis = 0), feature_demog[i_pat[-1],:]))"
   ]
  },
  {
   "cell_type": "code",
   "execution_count": null,
   "metadata": {},
   "outputs": [],
   "source": [
    "#Healthy mean of mean\n",
    "H = []\n",
    "for i in range(len (healthy_patient_list)):\n",
    "    i_pat = np.where(patient==i)[0]\n",
    "    H.append(np.hstack((np.nanmean(feature_phys[i_pat,:], axis = 0), feature_demog[i_pat[-1],:])))"
   ]
  },
  {
   "cell_type": "code",
   "execution_count": null,
   "metadata": {},
   "outputs": [],
   "source": [
    "np.nanmean(H, axis=0).reshape(1,-1)"
   ]
  },
  {
   "cell_type": "code",
   "execution_count": null,
   "metadata": {},
   "outputs": [],
   "source": [
    "HM = np.nanmean(H, axis=0).reshape(1,-1)\n",
    "HM_phys = HM[:,:-6]\n",
    "HM_demog = HM[:,-6:] "
   ]
  },
  {
   "cell_type": "code",
   "execution_count": null,
   "metadata": {},
   "outputs": [],
   "source": [
    "np.repeat(HM[:,:34], 3, axis = 0)"
   ]
  },
  {
   "cell_type": "code",
   "execution_count": null,
   "metadata": {},
   "outputs": [],
   "source": [
    "HM"
   ]
  },
  {
   "cell_type": "code",
   "execution_count": null,
   "metadata": {},
   "outputs": [],
   "source": [
    "# np.savetxt(dataset + '_healthytemp.txt', HM, delimiter=', ', fmt='%1.17f')"
   ]
  },
  {
   "cell_type": "markdown",
   "metadata": {},
   "source": [
    "## All-NaN slices"
   ]
  },
  {
   "cell_type": "code",
   "execution_count": null,
   "metadata": {},
   "outputs": [],
   "source": [
    "# Compute and save the template\n",
    "patient_sep, patient_sep_idx, patient_healthy_idx = get_sepsis_patients(sepsis_label, patient)\n",
    "healthy_patient_list =  np.unique(patient[patient_healthy_idx])\n",
    "sep_patient_list =  np.unique(patient[patient_sep_idx])"
   ]
  },
  {
   "cell_type": "code",
   "execution_count": null,
   "metadata": {},
   "outputs": [],
   "source": [
    "htemplist = []\n",
    "# for i in range(len (healthy_patient_list)):\n",
    "# for i in range(10000):\n",
    "for i in [286]:\n",
    "    print (i)\n",
    "    i_pat = np.where(patient==i)[0]\n",
    "    htemplist.append(np.hstack((np.nanmean(feature_phys[i_pat,:], axis = 0), feature_demog[i_pat[-1],:])))\n",
    "htemp = np.nanmean(htemplist, axis=0).reshape(1,-1)\n",
    "htemp_phys = htemp[:,:-6]\n",
    "htemp_demog = htemp[:,-6:] \n",
    "\n",
    "# stemplist = []\n",
    "# for i in range(len (sep_patient_list)):\n",
    "#     i_pat = np.where(patient==i)[0]\n",
    "#     stemplist.append(np.hstack((np.nanmean(feature_phys[i_pat,:], axis = 0), feature_demog[i_pat[-1],:])))\n",
    "# stemp = np.nanmean(stemplist, axis=0).reshape(1,-1)\n",
    "# stemp_phys = stemp[:,:-6]\n",
    "# stemp_demog = stemp[:,-6:] \n"
   ]
  },
  {
   "cell_type": "code",
   "execution_count": null,
   "metadata": {},
   "outputs": [],
   "source": [
    "i_pat = np.where(patient==i)[0]\n",
    "i_pat"
   ]
  },
  {
   "cell_type": "code",
   "execution_count": null,
   "metadata": {},
   "outputs": [],
   "source": [
    "np.nanmean(feature_phys[i_pat,:], axis = 0)"
   ]
  },
  {
   "cell_type": "markdown",
   "metadata": {},
   "source": [
    "## Get the templates"
   ]
  },
  {
   "cell_type": "code",
   "execution_count": null,
   "metadata": {},
   "outputs": [],
   "source": [
    "## Get sepsis patients\n",
    "def get_sepsis_patients(sepsis_label, patient):\n",
    "    patient_sep = np.zeros(len(sepsis_label),dtype=np.int)\n",
    "    for i in range(n):\n",
    "        i_pat = np.where(patient==i)[0]\n",
    "        patient_sep[i_pat] = int(np.sum(sepsis_label[i_pat])>0)*np.ones(len(i_pat), dtype=np.int)\n",
    "        \n",
    "    patient_sep_idx = np.where(patient_sep!=0)[0]\n",
    "    patient_healthy_idx = np.where(patient_sep==0)[0]\n",
    "    return patient_sep, patient_sep_idx, patient_healthy_idx"
   ]
  },
  {
   "cell_type": "code",
   "execution_count": null,
   "metadata": {},
   "outputs": [],
   "source": [
    "# Compute and save the template\n",
    "patient_sep, patient_sep_idx, patient_healthy_idx = get_sepsis_patients(sepsis_label, patient)\n",
    "healthy_patient_list =  np.unique(patient[patient_healthy_idx])\n",
    "sep_patient_list =  np.unique(patient[patient_sep_idx])"
   ]
  },
  {
   "cell_type": "code",
   "execution_count": null,
   "metadata": {},
   "outputs": [],
   "source": [
    "htemplist = []\n",
    "for i in range(len (healthy_patient_list)):\n",
    "    i_pat = np.where(patient==i)[0]\n",
    "    htemplist.append(np.hstack((np.nanmean(feature_phys[i_pat,:], axis = 0), feature_demog[i_pat[-1],:])))\n",
    "htemp = np.nanmean(htemplist, axis=0).reshape(1,-1)\n",
    "htemp_phys = htemp[:,:-6]\n",
    "htemp_demog = htemp[:,-6:] \n",
    "\n",
    "stemplist = []\n",
    "for i in range(len (sep_patient_list)):\n",
    "    i_pat = np.where(patient==i)[0]\n",
    "    stemplist.append(np.hstack((np.nanmean(feature_phys[i_pat,:], axis = 0), feature_demog[i_pat[-1],:])))\n",
    "stemp = np.nanmean(stemplist, axis=0).reshape(1,-1)\n",
    "stemp_phys = stemp[:,:-6]\n",
    "stemp_demog = stemp[:,-6:] \n"
   ]
  },
  {
   "cell_type": "code",
   "execution_count": null,
   "metadata": {},
   "outputs": [],
   "source": [
    "# np.savetxt(dataset + '_healthytemp.txt', htemp, delimiter=', ', fmt='%1.17f')\n",
    "# np.savetxt(dataset + '_septemp.txt', stemp, delimiter=', ', fmt='%1.17f')"
   ]
  }
 ],
 "metadata": {
  "kernelspec": {
   "display_name": "Python 3",
   "language": "python",
   "name": "python3"
  },
  "language_info": {
   "codemirror_mode": {
    "name": "ipython",
    "version": 3
   },
   "file_extension": ".py",
   "mimetype": "text/x-python",
   "name": "python",
   "nbconvert_exporter": "python",
   "pygments_lexer": "ipython3",
   "version": "3.7.3"
  }
 },
 "nbformat": 4,
 "nbformat_minor": 2
}

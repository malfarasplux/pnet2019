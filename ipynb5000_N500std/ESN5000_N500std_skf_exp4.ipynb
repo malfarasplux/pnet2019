{
 "cells": [
  {
   "cell_type": "code",
   "execution_count": 1,
   "metadata": {},
   "outputs": [],
   "source": [
    "## Config\n",
    "path = \"../training_1/\"\n",
    "nan_to_neg = True\n",
    "gkfold_split = 10\n",
    "biased_regress = True\n",
    "normal_equations = True\n",
    "script_name = 'ESN5000_N500std_skf_exp4'\n",
    "N_def = 500\n",
    "exponent_def = 4\n"
   ]
  },
  {
   "cell_type": "code",
   "execution_count": 2,
   "metadata": {},
   "outputs": [],
   "source": [
    "import numpy as np\n",
    "import os\n",
    "from sklearn.preprocessing import MinMaxScaler\n",
    "from sklearn.preprocessing import StandardScaler\n",
    "from sklearn.model_selection import GroupKFold\n",
    "from sklearn.model_selection import KFold\n",
    "from sklearn.model_selection import StratifiedKFold\n",
    "from sklearn.utils import shuffle\n",
    "from sklearn.metrics import confusion_matrix\n",
    "from sklearn.metrics import accuracy_score\n",
    "from sklearn.metrics import precision_score\n",
    "from sklearn.metrics import recall_score\n",
    "from sklearn.metrics import roc_curve\n",
    "from sklearn.metrics import roc_auc_score\n",
    "from sklearn.metrics import f1_score\n",
    "\n",
    "import matplotlib.pyplot as plt\n"
   ]
  },
  {
   "cell_type": "code",
   "execution_count": 3,
   "metadata": {},
   "outputs": [
    {
     "name": "stdout",
     "output_type": "stream",
     "text": [
      "last file:  p05000.psv\n",
      "5000  files present\n"
     ]
    }
   ],
   "source": [
    "## Folder and files\n",
    "fnames = os.listdir(path)  \n",
    "fnames.sort()\n",
    "if 'README.md' in fnames:\n",
    "    fnames.remove('README.md')\n",
    "print('last file: ', fnames[-1])\n",
    "\n",
    "n = len(fnames)\n",
    "print(n, ' files present')"
   ]
  },
  {
   "cell_type": "code",
   "execution_count": 4,
   "metadata": {},
   "outputs": [],
   "source": [
    "## Read data\n",
    "def read_challenge_data(input_file, return_header = False):\n",
    "    with open(input_file, 'r') as f:\n",
    "        header = f.readline().strip()\n",
    "        column_names = header.split('|')\n",
    "        data = np.loadtxt(f, delimiter='|')\n",
    "\n",
    "    # ignore SepsisLabel column if present\n",
    "    if column_names[-1] == 'SepsisLabel':\n",
    "        column_names = column_names[:-1]\n",
    "        data = data[:, :-1]\n",
    "    return (data)\n",
    "\n",
    "def read_challenge_data_label(input_file, return_header = False):\n",
    "    with open(input_file, 'r') as f:\n",
    "        header = f.readline().strip()\n",
    "        column_names = header.split('|')\n",
    "        data = np.loadtxt(f, delimiter='|')\n",
    "\n",
    "    # ignore SepsisLabel column if present\n",
    "    if column_names[-1] == 'SepsisLabel':\n",
    "        sep_lab = data[:,-1] \n",
    "        column_names = column_names[:-1]\n",
    "        data = data[:, :-1]\n",
    "    if return_header:\n",
    "        return (data, sep_lab, column_names)\n",
    "\n",
    "    else:\n",
    "        return (data, sep_lab)\n",
    "\n",
    "    # make predictions for each input file\n",
    "features = []\n",
    "patient = []\n",
    "sepsis_label = []\n",
    "for i in range(n):\n",
    "    # read data\n",
    "    input_file = os.path.join(path, fnames[i])\n",
    "    if i ==0:\n",
    "        data, sep_lab, columns = read_challenge_data_label(input_file, return_header=True)\n",
    "    else: \n",
    "        data, sep_lab = read_challenge_data_label(input_file)\n",
    "    features.append(data)\n",
    "    sepsis_label.append(sep_lab)\n",
    "    pat = i * np.ones((sep_lab.shape), dtype=np.int)\n",
    "    patient.append(pat)\n",
    "\n",
    "feature_matrix = np.concatenate(features)\n",
    "del(features)\n",
    "sepsis_label = np.concatenate(sepsis_label)\n",
    "patient = np.concatenate(patient)\n"
   ]
  },
  {
   "cell_type": "code",
   "execution_count": 5,
   "metadata": {},
   "outputs": [],
   "source": [
    "feature_phys = feature_matrix[:,:-6]    ## Physiology\n",
    "feature_demog = feature_matrix[:,-6:]   ## Demographics"
   ]
  },
  {
   "cell_type": "code",
   "execution_count": 6,
   "metadata": {},
   "outputs": [],
   "source": [
    "## Get sepsis patients\n",
    "patient_sep = np.zeros(len(sepsis_label),dtype=np.int)\n",
    "for i in range(n):\n",
    "    i_pat = np.where(patient==i)[0]\n",
    "    patient_sep[i_pat] = int(np.sum(sepsis_label[i_pat])>0)*np.ones(len(i_pat), dtype=np.int)\n",
    "    \n",
    "patient_sep_idx = patient[np.where(patient_sep!=0)]\n",
    "patient_healthy_idx = patient[np.where(patient_sep==0)]"
   ]
  },
  {
   "cell_type": "code",
   "execution_count": 7,
   "metadata": {},
   "outputs": [],
   "source": [
    "## Normalize std sepsis vals, feature-based\n",
    "scaler = StandardScaler()\n",
    "scaler.fit(feature_phys[patient_healthy_idx,:])\n",
    "feature_phys[:,:] = scaler.transform(feature_phys[:,:])\n"
   ]
  },
  {
   "cell_type": "code",
   "execution_count": 8,
   "metadata": {},
   "outputs": [
    {
     "name": "stdout",
     "output_type": "stream",
     "text": [
      "Changed nan to -1\n"
     ]
    }
   ],
   "source": [
    "## nan to negative\n",
    "if nan_to_neg:\n",
    "    feature_matrix[np.isnan(feature_matrix)]=-1\n",
    "    print(\"Changed nan to -1\")"
   ]
  },
  {
   "cell_type": "code",
   "execution_count": 9,
   "metadata": {},
   "outputs": [
    {
     "data": {
      "image/png": "[encoded data removed]",
      "text/plain": [
       "<Figure size 432x288 with 1 Axes>"
      ]
     },
     "metadata": {
      "needs_background": "light"
     },
     "output_type": "display_data"
    }
   ],
   "source": [
    "## ESN Generation\n",
    "N = N_def      # Neurons\n",
    "mem = 0.1    # memory\n",
    "scale = 0.2  # scaling factor\n",
    "\n",
    "# Nonlinear mapping function\n",
    "def sigmoid(x, exponent):\n",
    "    return 1/(1+np.exp(-exponent*x))-0.5\n",
    "\n",
    "sigmoid_exponent = exponent_def\n",
    "func = sigmoid\n",
    "\n",
    "a = np.linspace(-10, 10, 100, False)\n",
    "b = func(a,sigmoid_exponent)\n",
    "plt.plot(a,b)\n",
    "plt.show()"
   ]
  },
  {
   "cell_type": "code",
   "execution_count": 10,
   "metadata": {},
   "outputs": [],
   "source": [
    "# Create ESN \n",
    "def feedESN(features, mask, mask_bias, scale, mem):\n",
    "    ESN = np.ones((np.shape(features)[0],N), dtype=np.double)\n",
    "    IN = np.matmul(features, M) + np.repeat(Mb, np.shape(features)[0], axis=0)\n",
    "    print(np.shape(IN))\n",
    "    print(np.min(IN), np.max(IN))\n",
    "    p = np.zeros((1,N),dtype=np.double)\n",
    "    for i in range(np.shape(features)[0]):\n",
    "        i\n",
    "        in_val = scale*IN[i,:]+p*mem\n",
    "        ESN[i,:] = func(in_val, sigmoid_exponent) #Apply transform\n",
    "        p = np.copy(np.roll(ESN[i,:],1))\n",
    "    return ESN"
   ]
  },
  {
   "cell_type": "code",
   "execution_count": 11,
   "metadata": {},
   "outputs": [
    {
     "name": "stdout",
     "output_type": "stream",
     "text": [
      "(40, 500)\n",
      "(1, 500)\n",
      "-0.9999951800282729 0.9999730502277397\n",
      "-0.9967840439807836 0.997086417785183\n"
     ]
    }
   ],
   "source": [
    "# Mask parameters\n",
    "M = 2*np.random.rand(np.shape(feature_matrix)[1],N)-1\n",
    "Mb = 2*np.random.rand(1,N)-1\n",
    "print(np.shape(M))\n",
    "print(np.shape(Mb))\n",
    "print(np.min(M), np.max(M))\n",
    "print(np.min(Mb), np.max(Mb))"
   ]
  },
  {
   "cell_type": "code",
   "execution_count": 12,
   "metadata": {},
   "outputs": [
    {
     "name": "stdout",
     "output_type": "stream",
     "text": [
      "(188453, 500)\n",
      "-5420.442268828617 5514.543528007932\n"
     ]
    }
   ],
   "source": [
    "## Perform ESN feed\n",
    "ESN = feedESN(feature_matrix, M, Mb, scale, mem)"
   ]
  },
  {
   "cell_type": "code",
   "execution_count": 13,
   "metadata": {},
   "outputs": [
    {
     "data": {
      "text/plain": [
       "10"
      ]
     },
     "execution_count": 13,
     "metadata": {},
     "output_type": "execute_result"
    }
   ],
   "source": [
    "## Divide in sets\n",
    "X = ESN\n",
    "y = sepsis_label\n",
    "groups = patient\n",
    "\n",
    "skf = StratifiedKFold(n_splits=10)\n",
    "skf.get_n_splits(X)"
   ]
  },
  {
   "cell_type": "code",
   "execution_count": 14,
   "metadata": {},
   "outputs": [],
   "source": [
    "def get_weights_biasedNE(ESN, target):\n",
    "    ESNx = (np.hstack((ESN, np.ones((np.shape(ESN)[0],1), dtype=np.double))))\n",
    "    ESNt = np.transpose(ESNx)\n",
    "    ESNinv = np.linalg.pinv(np.matmul(ESNt,ESNx))\n",
    "    ESNaux = np.matmul(ESNinv, ESNt)\n",
    "    w = np.matmul(ESNaux, target)\n",
    "    return w, ESNaux\n",
    "\n",
    "def get_weights_biased(ESN, target):\n",
    "    ESNx = (np.hstack((ESN, np.ones((np.shape(ESN)[0],1), dtype=np.double))))\n",
    "    ESNinv = np.linalg.pinv(ESNx)\n",
    "    w = np.matmul(ESNinv, target)\n",
    "    return w, ESNinv\n",
    "    "
   ]
  },
  {
   "cell_type": "code",
   "execution_count": 15,
   "metadata": {},
   "outputs": [
    {
     "name": "stdout",
     "output_type": "stream",
     "text": [
      "0  realisation \n",
      "auc:  0.6990601614910721\n",
      "1  realisation \n",
      "auc:  0.6187995528846124\n",
      "2  realisation \n",
      "auc:  0.7195748434369775\n",
      "3  realisation \n",
      "auc:  0.7181695245551936\n",
      "4  realisation \n",
      "auc:  0.7310459407822877\n",
      "5  realisation \n",
      "auc:  0.6949247301050414\n",
      "6  realisation \n",
      "auc:  0.8030090294297545\n",
      "7  realisation \n",
      "auc:  0.7546717368291549\n",
      "8  realisation \n",
      "auc:  0.6865020274214347\n",
      "9  realisation \n",
      "auc:  0.6494721638795699\n"
     ]
    }
   ],
   "source": [
    "## KFold\n",
    "results = []\n",
    "target = []\n",
    "kk = 0\n",
    "for train_index, test_index in skf.split(X,y):\n",
    "\n",
    "    X_train, X_test = X[train_index], X[test_index]\n",
    "    y_train, y_test = y[train_index], y[test_index]\n",
    "    \n",
    "    if biased_regress:\n",
    "        if normal_equations:\n",
    "            w, ESNaux = get_weights_biasedNE(X_train, y_train)\n",
    "#             ESNx = (np.hstack((X_train, np.ones((np.shape(X_train)[0],1), dtype=np.double))))\n",
    "            ESNx = (np.hstack((X_test, np.ones((np.shape(X_test)[0],1), dtype=np.double))))\n",
    "\n",
    "        else:\n",
    "            w, ESNaux = get_weights_biased(X_train, y_train)\n",
    "#             ESNx = (np.hstack((X_train, np.ones((np.shape(X_train)[0],1), dtype=np.double))))\n",
    "            ESNx = (np.hstack((X_test, np.ones((np.shape(X_test)[0],1), dtype=np.double))))\n",
    "\n",
    "        Y_pred = (np.matmul(ESNx,w))\n",
    "\n",
    "        \n",
    "    else:\n",
    "        ESNinv = np.linalg.pinv(X_train)\n",
    "        w = np.matmul(ESNinv, y_train)\n",
    "        Y_pred = (np.matmul(X_test,w))\n",
    "\n",
    "    print(kk, ' realisation ')\n",
    "    print(\"auc: \", roc_auc_score(y_test, Y_pred))\n",
    "    kk +=1\n",
    "    target.append(y_test)\n",
    "    results.append(Y_pred)\n"
   ]
  },
  {
   "cell_type": "code",
   "execution_count": 16,
   "metadata": {},
   "outputs": [
    {
     "name": "stdout",
     "output_type": "stream",
     "text": [
      "auc:  0.7071357735187276\n"
     ]
    }
   ],
   "source": [
    "## Evaluate results\n",
    "results = np.concatenate(results)\n",
    "target = np.concatenate(target)\n",
    "auc = roc_auc_score(target,results)\n",
    "print('auc: ', auc)"
   ]
  },
  {
   "cell_type": "code",
   "execution_count": 17,
   "metadata": {},
   "outputs": [
    {
     "name": "stdout",
     "output_type": "stream",
     "text": [
      "-153.40124883917724 110.46131836210498\n",
      "0 [-153.40124884] [0.02745519]\n",
      "100 [-127.01499212] [0.02745533]\n",
      "200 [-100.6287354] [0.02745533]\n",
      "300 [-74.24247868] [0.02745533]\n",
      "400 [-47.85622196] [0.02745548]\n",
      "500 [-21.46996524] [0.02745591]\n",
      "600 [4.91629148] [0.]\n",
      "700 [31.3025482] [0.]\n",
      "800 [57.68880492] [0.]\n",
      "900 [84.07506164] [0.]\n"
     ]
    }
   ],
   "source": [
    "## Threshold study\n",
    "th_i = np.min(results)\n",
    "th_f = np.max(results)\n",
    "th_steps = 1000\n",
    "th_step = (th_f-th_i)/th_steps\n",
    "thsum = 0\n",
    "th = np.zeros((1000, 1), dtype = np.double)\n",
    "f1 =np.zeros((1000, 1), dtype = np.double)\n",
    "\n",
    "print(th_i, th_i+th_step*th_steps)\n",
    "# for i in range(1000):\n",
    "for i, j in enumerate(np.arange(th_i, th_f, th_step)):\n",
    "    th[i] = j\n",
    "    f1[i] = f1_score(target, results > th[i])\n",
    "    thsum = thsum + th[i]\n",
    "#     print(i, th[i], f1[i])\n",
    "    if i%100 == 0:\n",
    "        print(i, th[i], f1[i])\n",
    "\n",
    "    if f1[i] < 0.001 and thsum > 0:\n",
    "        th = th[:i]\n",
    "        f1 = f1[:i]\n",
    "        break\n"
   ]
  },
  {
   "cell_type": "code",
   "execution_count": 18,
   "metadata": {},
   "outputs": [
    {
     "data": {
      "text/plain": [
       "array([0.16676527])"
      ]
     },
     "execution_count": 18,
     "metadata": {},
     "output_type": "execute_result"
    }
   ],
   "source": [
    "## Max Threshold\n",
    "th_max = th[np.argmax(f1)]\n",
    "th_max"
   ]
  },
  {
   "cell_type": "code",
   "execution_count": 19,
   "metadata": {},
   "outputs": [
    {
     "name": "stdout",
     "output_type": "stream",
     "text": [
      "th:  [0.16676527]\n",
      "Pr:  0.09785714285714285\n",
      "Re:  0.0522302706824247\n",
      "F1:  0.06810837683320904\n",
      "ACC:  0.9801064456389657\n",
      "AUC:  0.7071357735187276\n"
     ]
    }
   ],
   "source": [
    "## ACC\n",
    "Pr = precision_score(target, results > th_max)\n",
    "Re = recall_score(target, results > th_max)\n",
    "ACC = accuracy_score(target, results > th_max)\n",
    "auc = roc_auc_score(target, results)\n",
    "f1 = f1_score(target, results > th_max)\n",
    "\n",
    "print('th: ', th_max)\n",
    "print('Pr: ', Pr)\n",
    "print('Re: ', Re)\n",
    "print('F1: ', f1)\n",
    "print('ACC: ', ACC)\n",
    "print('AUC: ', auc)"
   ]
  },
  {
   "cell_type": "code",
   "execution_count": 20,
   "metadata": {},
   "outputs": [
    {
     "data": {
      "image/png": "[encoded data removed]",
      "text/plain": [
       "<Figure size 432x288 with 1 Axes>"
      ]
     },
     "metadata": {
      "needs_background": "light"
     },
     "output_type": "display_data"
    }
   ],
   "source": [
    "plt.plot(sepsis_label)\n",
    "plt.show()"
   ]
  },
  {
   "cell_type": "code",
   "execution_count": 21,
   "metadata": {},
   "outputs": [],
   "source": [
    "patient_sep = np.zeros(len(sepsis_label),dtype=np.int)\n",
    "for i in range(n):\n",
    "    i_pat = np.where(patient==i)[0]\n",
    "    patient_sep[i_pat] = int(np.sum(sepsis_label[i_pat])>0)*np.ones(len(i_pat), dtype=np.int)"
   ]
  },
  {
   "cell_type": "code",
   "execution_count": 22,
   "metadata": {},
   "outputs": [
    {
     "data": {
      "image/png": "[encoded data removed]",
      "text/plain": [
       "<Figure size 432x288 with 1 Axes>"
      ]
     },
     "metadata": {
      "needs_background": "light"
     },
     "output_type": "display_data"
    }
   ],
   "source": [
    "plt.plot(patient_sep)\n",
    "plt.show()"
   ]
  },
  {
   "cell_type": "code",
   "execution_count": 23,
   "metadata": {},
   "outputs": [
    {
     "data": {
      "text/plain": [
       "15524"
      ]
     },
     "execution_count": 23,
     "metadata": {},
     "output_type": "execute_result"
    }
   ],
   "source": [
    "np.sum(patient_sep)"
   ]
  },
  {
   "cell_type": "code",
   "execution_count": 24,
   "metadata": {},
   "outputs": [
    {
     "data": {
      "text/plain": [
       "2623.0"
      ]
     },
     "execution_count": 24,
     "metadata": {},
     "output_type": "execute_result"
    }
   ],
   "source": [
    "np.sum(sepsis_label)"
   ]
  },
  {
   "cell_type": "code",
   "execution_count": 25,
   "metadata": {},
   "outputs": [
    {
     "name": "stdout",
     "output_type": "stream",
     "text": [
      "th: 0.1668\n"
     ]
    }
   ],
   "source": [
    "print('th: %2.4f' % th_max)\n"
   ]
  },
  {
   "cell_type": "code",
   "execution_count": 26,
   "metadata": {},
   "outputs": [],
   "source": [
    "import platform\n",
    "import time\n",
    "\n",
    "user = platform.uname()[1] + '@' + platform.platform() \n",
    "\n",
    "# write to report file\n",
    "output_file = script_name + '.txt'\n",
    "with open(output_file, 'w') as f:\n",
    "    f.write(user + '\\n')\n",
    "    f.write(time.strftime(\"%Y-%m-%d %H:%M\") + '\\n')\n",
    "    f.write('Dataset: ' + path + '\\n')\n",
    "    f.write('%d \\t N\\n' % N)\n",
    "    f.write('%d \\t exp\\n' % sigmoid_exponent)\n",
    "    f.write('%2.4f \\t th\\n' % th_max)\n",
    "    f.write('%2.4f \\t Pr\\n' % Pr)\n",
    "    f.write('%2.4f \\t Re\\n' % Re)\n",
    "    f.write('%2.4f \\t F1\\n' % f1)\n",
    "    f.write('%2.4f \\t ACC\\n' % ACC)\n",
    "    f.write('%2.4f \\t AUC\\n' % auc)"
   ]
  },
  {
   "cell_type": "code",
   "execution_count": 27,
   "metadata": {},
   "outputs": [
    {
     "name": "stdout",
     "output_type": "stream",
     "text": [
      "LAPTOP-IVRLDJQF@Windows-10-10.0.17763-SP0\n",
      "2019-04-06 05:23\n",
      "Dataset: ../training_1/\n",
      "N: 500\n",
      "exp: 4\n",
      "th: 0.1668\n",
      "Pr: 0.0979\n",
      "Re: 0.0522\n",
      "ACC: 0.9801\n",
      "AUC: 0.7071\n"
     ]
    }
   ],
   "source": [
    "user = platform.uname()[1] + '@' + platform.platform() \n",
    "print(user)\n",
    "print(time.strftime(\"%Y-%m-%d %H:%M\"))\n",
    "print('Dataset: ' + path)\n",
    "print('N: %d' % N)\n",
    "print('exp: %d' % sigmoid_exponent)\n",
    "print('th: %2.4f' % th_max)\n",
    "print('Pr: %2.4f' % Pr)\n",
    "print('Re: %2.4f' % Re)\n",
    "print('ACC: %2.4f' % ACC)\n",
    "print('AUC: %2.4f' % auc)"
   ]
  },
  {
   "cell_type": "code",
   "execution_count": null,
   "metadata": {},
   "outputs": [],
   "source": []
  }
 ],
 "metadata": {
  "kernelspec": {
   "display_name": "Python 3",
   "language": "python",
   "name": "python3"
  },
  "language_info": {
   "codemirror_mode": {
    "name": "ipython",
    "version": 3
   },
   "file_extension": ".py",
   "mimetype": "text/x-python",
   "name": "python",
   "nbconvert_exporter": "python",
   "pygments_lexer": "ipython3",
   "version": "3.7.1"
  }
 },
 "nbformat": 4,
 "nbformat_minor": 2
}
